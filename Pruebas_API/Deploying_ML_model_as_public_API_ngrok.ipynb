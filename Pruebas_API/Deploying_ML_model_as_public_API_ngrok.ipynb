{
  "nbformat": 4,
  "nbformat_minor": 0,
  "metadata": {
    "colab": {
      "provenance": [],
      "include_colab_link": true
    },
    "kernelspec": {
      "name": "python3",
      "display_name": "Python 3"
    },
    "language_info": {
      "name": "python"
    }
  },
  "cells": [
    {
      "cell_type": "markdown",
      "metadata": {
        "id": "view-in-github",
        "colab_type": "text"
      },
      "source": [
        "<a href=\"https://colab.research.google.com/github/Markkolas/TP2/blob/jorge-test/Pruebas_API/Deploying_ML_model_as_public_API_ngrok.ipynb\" target=\"_parent\"><img src=\"https://colab.research.google.com/assets/colab-badge.svg\" alt=\"Open In Colab\"/></a>"
      ]
    },
    {
      "cell_type": "markdown",
      "source": [
        "Installing the dependencies"
      ],
      "metadata": {
        "id": "wkI03QkCFmDF"
      }
    },
    {
      "cell_type": "code",
      "source": [
        "# @title Mount & Clone\n",
        "\n",
        "# Imports\n",
        "import requests\n",
        "\n",
        "# @markdown Mount GDrive\n",
        "Gdrive = False  # @param {type: 'boolean'}\n",
        "global path\n",
        "\n",
        "# @markdown Clone Repository (Github)\n",
        "repositoryUrl = \"\" # @param {type: 'string'}\n",
        "\n",
        "class MountClone:\n",
        "    def __init__(\n",
        "            self,\n",
        "            Gdrive=False,\n",
        "            repositoryUrl=\"\",\n",
        "            verbose=False):\n",
        "        \n",
        "        if Gdrive:\n",
        "            self.mount_drive()\n",
        "        if repositoryUrl:\n",
        "            self.clone_repo(repositoryUrl, verbose)\n",
        "\n",
        "    def __str__(self):\n",
        "        try:\n",
        "            return self.path\n",
        "        except NameError:\n",
        "            return ''\n",
        "        \n",
        "    def mount_drive(self):\n",
        "        from google.colab import drive\n",
        "        drive.mount('/content/drive')\n",
        "        self.path = \"/content/drive\"\n",
        "\n",
        "    def clone_repo(self, repositoryUrl, verbose=False):\n",
        "        response = requests.get(repositoryUrl)\n",
        "        if response.status_code == 200:\n",
        "            print(\"✔️ Public repository\")\n",
        "            ! cd /content\n",
        "            ! git clone $repositoryUrl\n",
        "            folder = repositoryUrl.split(\"/\")[-1]\n",
        "            self.path = f\"/content/{folder}\"\n",
        "        else:\n",
        "            print(\"❌ Not a public Repository\")\n",
        "\n",
        "if __name__ == \"__main__\":\n",
        "    path = MountClone(Gdrive=Gdrive, repositoryUrl=repositoryUrl)"
      ],
      "metadata": {
        "cellView": "form",
        "id": "PvOU8xGFKxWm"
      },
      "execution_count": null,
      "outputs": []
    },
    {
      "cell_type": "code",
      "execution_count": 15,
      "metadata": {
        "colab": {
          "base_uri": "https://localhost:8080/"
        },
        "id": "6tLUT6T9FjHG",
        "outputId": "ad782e52-99e5-4a19-ee65-c92714d78e37"
      },
      "outputs": [
        {
          "output_type": "stream",
          "name": "stdout",
          "text": [
            "Looking in indexes: https://pypi.org/simple, https://us-python.pkg.dev/colab-wheels/public/simple/\n",
            "Requirement already satisfied: fastapi in /usr/local/lib/python3.10/dist-packages (0.95.1)\n",
            "Requirement already satisfied: pydantic!=1.7,!=1.7.1,!=1.7.2,!=1.7.3,!=1.8,!=1.8.1,<2.0.0,>=1.6.2 in /usr/local/lib/python3.10/dist-packages (from fastapi) (1.10.7)\n",
            "Requirement already satisfied: starlette<0.27.0,>=0.26.1 in /usr/local/lib/python3.10/dist-packages (from fastapi) (0.26.1)\n",
            "Requirement already satisfied: typing-extensions>=4.2.0 in /usr/local/lib/python3.10/dist-packages (from pydantic!=1.7,!=1.7.1,!=1.7.2,!=1.7.3,!=1.8,!=1.8.1,<2.0.0,>=1.6.2->fastapi) (4.5.0)\n",
            "Requirement already satisfied: anyio<5,>=3.4.0 in /usr/local/lib/python3.10/dist-packages (from starlette<0.27.0,>=0.26.1->fastapi) (3.6.2)\n",
            "Requirement already satisfied: idna>=2.8 in /usr/local/lib/python3.10/dist-packages (from anyio<5,>=3.4.0->starlette<0.27.0,>=0.26.1->fastapi) (3.4)\n",
            "Requirement already satisfied: sniffio>=1.1 in /usr/local/lib/python3.10/dist-packages (from anyio<5,>=3.4.0->starlette<0.27.0,>=0.26.1->fastapi) (1.3.0)\n",
            "Looking in indexes: https://pypi.org/simple, https://us-python.pkg.dev/colab-wheels/public/simple/\n",
            "Requirement already satisfied: uvicorn in /usr/local/lib/python3.10/dist-packages (0.22.0)\n",
            "Requirement already satisfied: click>=7.0 in /usr/local/lib/python3.10/dist-packages (from uvicorn) (8.1.3)\n",
            "Requirement already satisfied: h11>=0.8 in /usr/local/lib/python3.10/dist-packages (from uvicorn) (0.14.0)\n",
            "Looking in indexes: https://pypi.org/simple, https://us-python.pkg.dev/colab-wheels/public/simple/\n",
            "Requirement already satisfied: pickle5 in /usr/local/lib/python3.10/dist-packages (0.0.11)\n",
            "Looking in indexes: https://pypi.org/simple, https://us-python.pkg.dev/colab-wheels/public/simple/\n",
            "Requirement already satisfied: pydantic in /usr/local/lib/python3.10/dist-packages (1.10.7)\n",
            "Requirement already satisfied: typing-extensions>=4.2.0 in /usr/local/lib/python3.10/dist-packages (from pydantic) (4.5.0)\n",
            "Looking in indexes: https://pypi.org/simple, https://us-python.pkg.dev/colab-wheels/public/simple/\n",
            "Requirement already satisfied: scikit-learn in /usr/local/lib/python3.10/dist-packages (1.2.2)\n",
            "Requirement already satisfied: numpy>=1.17.3 in /usr/local/lib/python3.10/dist-packages (from scikit-learn) (1.22.4)\n",
            "Requirement already satisfied: scipy>=1.3.2 in /usr/local/lib/python3.10/dist-packages (from scikit-learn) (1.10.1)\n",
            "Requirement already satisfied: joblib>=1.1.1 in /usr/local/lib/python3.10/dist-packages (from scikit-learn) (1.2.0)\n",
            "Requirement already satisfied: threadpoolctl>=2.0.0 in /usr/local/lib/python3.10/dist-packages (from scikit-learn) (3.1.0)\n",
            "Looking in indexes: https://pypi.org/simple, https://us-python.pkg.dev/colab-wheels/public/simple/\n",
            "Requirement already satisfied: requests in /usr/local/lib/python3.10/dist-packages (2.27.1)\n",
            "Requirement already satisfied: urllib3<1.27,>=1.21.1 in /usr/local/lib/python3.10/dist-packages (from requests) (1.26.15)\n",
            "Requirement already satisfied: certifi>=2017.4.17 in /usr/local/lib/python3.10/dist-packages (from requests) (2022.12.7)\n",
            "Requirement already satisfied: charset-normalizer~=2.0.0 in /usr/local/lib/python3.10/dist-packages (from requests) (2.0.12)\n",
            "Requirement already satisfied: idna<4,>=2.5 in /usr/local/lib/python3.10/dist-packages (from requests) (3.4)\n",
            "Looking in indexes: https://pypi.org/simple, https://us-python.pkg.dev/colab-wheels/public/simple/\n",
            "Requirement already satisfied: pypi-json in /usr/local/lib/python3.10/dist-packages (0.3.0)\n",
            "Requirement already satisfied: apeye>=1.1.0 in /usr/local/lib/python3.10/dist-packages (from pypi-json) (1.3.0)\n",
            "Requirement already satisfied: packaging>=21.0 in /usr/local/lib/python3.10/dist-packages (from pypi-json) (23.1)\n",
            "Requirement already satisfied: requests>=2.26.0 in /usr/local/lib/python3.10/dist-packages (from pypi-json) (2.27.1)\n",
            "Requirement already satisfied: apeye-core>=1.0.0b2 in /usr/local/lib/python3.10/dist-packages (from apeye>=1.1.0->pypi-json) (1.1.2)\n",
            "Requirement already satisfied: domdf-python-tools>=2.6.0 in /usr/local/lib/python3.10/dist-packages (from apeye>=1.1.0->pypi-json) (3.6.1)\n",
            "Requirement already satisfied: platformdirs>=2.3.0 in /usr/local/lib/python3.10/dist-packages (from apeye>=1.1.0->pypi-json) (3.3.0)\n",
            "Requirement already satisfied: urllib3<1.27,>=1.21.1 in /usr/local/lib/python3.10/dist-packages (from requests>=2.26.0->pypi-json) (1.26.15)\n",
            "Requirement already satisfied: certifi>=2017.4.17 in /usr/local/lib/python3.10/dist-packages (from requests>=2.26.0->pypi-json) (2022.12.7)\n",
            "Requirement already satisfied: charset-normalizer~=2.0.0 in /usr/local/lib/python3.10/dist-packages (from requests>=2.26.0->pypi-json) (2.0.12)\n",
            "Requirement already satisfied: idna<4,>=2.5 in /usr/local/lib/python3.10/dist-packages (from requests>=2.26.0->pypi-json) (3.4)\n",
            "Requirement already satisfied: natsort>=7.0.1 in /usr/local/lib/python3.10/dist-packages (from domdf-python-tools>=2.6.0->apeye>=1.1.0->pypi-json) (8.3.1)\n",
            "Requirement already satisfied: typing-extensions>=3.7.4.1 in /usr/local/lib/python3.10/dist-packages (from domdf-python-tools>=2.6.0->apeye>=1.1.0->pypi-json) (4.5.0)\n",
            "Looking in indexes: https://pypi.org/simple, https://us-python.pkg.dev/colab-wheels/public/simple/\n",
            "Requirement already satisfied: pyngrok in /usr/local/lib/python3.10/dist-packages (6.0.0)\n",
            "Requirement already satisfied: PyYAML in /usr/local/lib/python3.10/dist-packages (from pyngrok) (6.0)\n",
            "Looking in indexes: https://pypi.org/simple, https://us-python.pkg.dev/colab-wheels/public/simple/\n",
            "Requirement already satisfied: nest-asyncio in /usr/local/lib/python3.10/dist-packages (1.5.6)\n",
            "Looking in indexes: https://pypi.org/simple, https://us-python.pkg.dev/colab-wheels/public/simple/\n",
            "Collecting python-multipart\n",
            "  Downloading python_multipart-0.0.6-py3-none-any.whl (45 kB)\n",
            "\u001b[2K     \u001b[90m━━━━━━━━━━━━━━━━━━━━━━━━━━━━━━━━━━━━━━━━\u001b[0m \u001b[32m45.7/45.7 kB\u001b[0m \u001b[31m2.6 MB/s\u001b[0m eta \u001b[36m0:00:00\u001b[0m\n",
            "\u001b[?25hInstalling collected packages: python-multipart\n",
            "Successfully installed python-multipart-0.0.6\n"
          ]
        }
      ],
      "source": [
        "!pip install fastapi\n",
        "!pip install uvicorn\n",
        "!pip install pickle5\n",
        "!pip install pydantic\n",
        "!pip install scikit-learn\n",
        "!pip install requests\n",
        "!pip install pypi-json\n",
        "!pip install pyngrok\n",
        "!pip install nest-asyncio\n",
        "!pip install python-multipart"
      ]
    },
    {
      "cell_type": "code",
      "source": [
        "from fastapi import FastAPI, File, UploadFile\n",
        "from pydantic import BaseModel\n",
        "import pickle\n",
        "import json\n",
        "import uvicorn\n",
        "from pyngrok import ngrok\n",
        "from fastapi.middleware.cors import CORSMiddleware\n",
        "import nest_asyncio\n",
        "import torch\n",
        "import numpy as np"
      ],
      "metadata": {
        "id": "NURTbIJlFzWR"
      },
      "execution_count": 13,
      "outputs": []
    },
    {
      "cell_type": "code",
      "source": [
        "app = FastAPI()"
      ],
      "metadata": {
        "id": "Gw9a-r-RGS1n"
      },
      "execution_count": 5,
      "outputs": []
    },
    {
      "cell_type": "code",
      "source": [
        "origins = [\"*\"]\n",
        "\n",
        "app.add_middleware(\n",
        "    CORSMiddleware,\n",
        "    allow_origins=origins,\n",
        "    allow_credentials=True,\n",
        "    allow_methods=[\"*\"],\n",
        "    allow_headers=[\"*\"],\n",
        ")"
      ],
      "metadata": {
        "id": "fH-2Snr9HDRd"
      },
      "execution_count": 6,
      "outputs": []
    },
    {
      "cell_type": "code",
      "source": [
        "# class model_input(BaseModel):\n",
        "    \n",
        "#     Pregnancies : int\n",
        "#     Glucose : int\n",
        "#     BloodPressure : int\n",
        "#     SkinThickness : int\n",
        "#     Insulin : int\n",
        "#     BMI : float\n",
        "#     DiabetesPedigreeFunction : float\n",
        "#     Age : int\n",
        "\n",
        "class image(BaseModel):\n",
        "  img : str"
      ],
      "metadata": {
        "id": "SxOQ7pUfGfv7"
      },
      "execution_count": 7,
      "outputs": []
    },
    {
      "cell_type": "code",
      "source": [
        "# loading the saved model\n",
        "# diabetes_model = pickle.load(open('diabetes_model.sav', 'rb'))\n",
        "modelo = torch.hub.load('ultralytics/yolov5', 'custom', path='/content/FiveClasses.pt', force_reload=True)"
      ],
      "metadata": {
        "id": "WW4GupKKGjCf",
        "outputId": "7ba43ee4-7fb8-45bf-df8c-d9059ee94b4d",
        "colab": {
          "base_uri": "https://localhost:8080/"
        }
      },
      "execution_count": 26,
      "outputs": [
        {
          "output_type": "stream",
          "name": "stderr",
          "text": [
            "Downloading: \"https://github.com/ultralytics/yolov5/zipball/master\" to /root/.cache/torch/hub/master.zip\n",
            "YOLOv5 🚀 2023-5-11 Python-3.10.11 torch-2.0.0+cu118 CPU\n",
            "\n",
            "Fusing layers... \n"
          ]
        },
        {
          "output_type": "stream",
          "name": "stdout",
          "text": [
            "\u001b[31m\u001b[1mrequirements:\u001b[0m /root/.cache/torch/hub/requirements.txt not found, check failed.\n"
          ]
        },
        {
          "output_type": "stream",
          "name": "stderr",
          "text": [
            "Model summary: 157 layers, 7023610 parameters, 0 gradients\n",
            "Adding AutoShape... \n"
          ]
        }
      ]
    },
    {
      "cell_type": "code",
      "source": [
        "@app.post('/clasification')\n",
        "async def create_upload_file(file: UploadFile = File(...)):\n",
        "    results = modelo(file)\n",
        "    return results\n",
        "    \n",
        "\n",
        "    \n",
        "    # input_data = input_parameters.json()\n",
        "    # input_dictionary = json.loads(input_data)\n",
        "    \n",
        "    # preg = input_dictionary['Pregnancies']\n",
        "    # glu = input_dictionary['Glucose']\n",
        "    # bp = input_dictionary['BloodPressure']\n",
        "    # skin = input_dictionary['SkinThickness']\n",
        "    # insulin = input_dictionary['Insulin']\n",
        "    # bmi = input_dictionary['BMI']\n",
        "    # dpf = input_dictionary['DiabetesPedigreeFunction']\n",
        "    # age = input_dictionary['Age']\n",
        "    \n",
        "    \n",
        "    # input_list = [preg, glu, bp, skin, insulin, bmi, dpf, age]\n",
        "    \n",
        "    # prediction = diabetes_model.predict([input_list])\n",
        "    \n",
        "    # if (prediction[0] == 0):\n",
        "    #     return 'The person is not diabetic'\n",
        "    # else:\n",
        "    #     return 'The person is diabetic'"
      ],
      "metadata": {
        "id": "hgm7t0wYGk7U"
      },
      "execution_count": 22,
      "outputs": []
    },
    {
      "cell_type": "code",
      "source": [
        "from fastapi import FastAPI, File, UploadFile\n",
        "from fastapi.responses import StreamingResponse\n",
        "from io import BytesIO\n",
        "\n",
        "app = FastAPI()\n",
        "\n",
        "@app.post(\"/classification\")\n",
        "async def classify_file(file: UploadFile = File(...)):\n",
        "    # Process the uploaded file here\n",
        "    file_content = await file.read()\n",
        "    results = modelo(file_content)\n",
        "\n",
        "    # Create a response that returns the results as a file\n",
        "    file_like = BytesIO(results)\n",
        "    return StreamingResponse(file_like, media_type='application/octet-stream', headers={'Content-Disposition': 'attachment; filename=results.bin'})\n"
      ],
      "metadata": {
        "id": "LdB4CPUnaHIp"
      },
      "execution_count": 31,
      "outputs": []
    },
    {
      "cell_type": "code",
      "source": [
        "import io\n",
        "import requests\n",
        "from PIL import Image\n",
        "import torch\n",
        "import torchvision\n",
        "from fastapi import FastAPI, File, UploadFile\n",
        "from fastapi.responses import StreamingResponse\n",
        "\n",
        "app = FastAPI()\n",
        "\n",
        "# Cargar el modelo YOLOv5\n",
        "model = torch.hub.load('ultralytics/yolov5', 'yolov5s', pretrained=True)\n",
        "\n",
        "# Ruta para la detección de objetos\n",
        "@app.post(\"/deteccion-objetos\")\n",
        "async def detect_objects(file: UploadFile = File(...)):\n",
        "    # Leer la imagen cargada\n",
        "    contents = await file.read()\n",
        "    image = Image.open(io.BytesIO(contents)).convert('RGB')\n",
        "\n",
        "    # Ejecutar la detección de objetos\n",
        "    results = model(image)\n",
        "\n",
        "    # Guardar los resultados en un archivo\n",
        "    file_like = io.BytesIO()\n",
        "    results.print()  # Imprimir los resultados en la consola para depuración\n",
        "    results.save(file_like, format='json')\n",
        "\n",
        "    # Devolver la respuesta como un archivo\n",
        "    file_like.seek(0)\n",
        "    return StreamingResponse(file_like, media_type='application/json', headers={'Content-Disposition': 'attachment; filename=results.json'})\n"
      ],
      "metadata": {
        "id": "5RGpZBJqdvtq",
        "outputId": "03e2deef-353d-4bb4-de93-4042a3c9a9fa",
        "colab": {
          "base_uri": "https://localhost:8080/"
        }
      },
      "execution_count": 38,
      "outputs": [
        {
          "output_type": "stream",
          "name": "stderr",
          "text": [
            "Using cache found in /root/.cache/torch/hub/ultralytics_yolov5_master\n",
            "YOLOv5 🚀 2023-5-11 Python-3.10.11 torch-2.0.0+cu118 CPU\n",
            "\n",
            "Fusing layers... \n"
          ]
        },
        {
          "output_type": "stream",
          "name": "stdout",
          "text": [
            "\u001b[31m\u001b[1mrequirements:\u001b[0m /root/.cache/torch/hub/requirements.txt not found, check failed.\n"
          ]
        },
        {
          "output_type": "stream",
          "name": "stderr",
          "text": [
            "YOLOv5s summary: 213 layers, 7225885 parameters, 0 gradients\n",
            "Adding AutoShape... \n"
          ]
        }
      ]
    },
    {
      "cell_type": "code",
      "source": [
        "from fastapi import FastAPI, File, UploadFile\n",
        "from PIL import Image\n",
        "from fastapi.responses import HTMLResponse\n",
        "\n",
        "app = FastAPI()\n",
        "\n",
        "@app.post(\"/uploadfile/\")\n",
        "async def create_upload_file(file: UploadFile = File(...)):\n",
        "    with Image.open(file.file) as image:\n",
        "        image.thumbnail((640, 640))\n",
        "        image.save(file.filename)\n",
        "    return HTMLResponse(content=f\"<img src='{file.filename}'/>\", status_code=200)\n"
      ],
      "metadata": {
        "id": "DaNv3nfohEQx"
      },
      "execution_count": 40,
      "outputs": []
    },
    {
      "cell_type": "code",
      "source": [
        "from fastapi import FastAPI\n",
        "app = FastAPI()\n",
        "# Python main entrypoint\n",
        "if __name__ == '__main__':\n",
        "    import uvicorn\n",
        "    # APP/app_str - The ASGI application to run, in the format \"<module>:<attribute>\"\n",
        "    app_str = 'server_minimal:app'\n",
        "    uvicorn.run(app_str, host='localhost', port=8000, reload=True, workers=1)"
      ],
      "metadata": {
        "id": "vWGWCX_0keb5",
        "outputId": "806930df-4ccb-4a31-d94f-8db716c56be7",
        "colab": {
          "base_uri": "https://localhost:8080/"
        }
      },
      "execution_count": 43,
      "outputs": [
        {
          "output_type": "stream",
          "name": "stderr",
          "text": [
            "INFO:     Will watch for changes in these directories: ['/content']\n",
            "INFO:     Uvicorn running on http://localhost:8000 (Press CTRL+C to quit)\n",
            "INFO:     Started reloader process [405] using StatReload\n",
            "INFO:     Stopping reloader process [405]\n"
          ]
        }
      ]
    },
    {
      "cell_type": "code",
      "source": [
        "from fastapi import FastAPI, Request, Form, File, UploadFile\n",
        "from fastapi.templating import Jinja2Templates\n",
        "from pydantic import BaseModel\n",
        "from typing import List, Optional\n",
        "\n",
        "def results_to_json(results, model):\n",
        "    ''' Converts yolo model output to json (list of list of dicts)'''\n",
        "    return [\n",
        "                [\n",
        "                    {\n",
        "                    \"class\": int(pred[5]),\n",
        "                    \"class_name\": model.model.names[int(pred[5])],\n",
        "                    \"bbox\": [int(x) for x in pred[:4].tolist()], #convert bbox results to int from float\n",
        "                    \"confidence\": float(pred[4]),\n",
        "                    }\n",
        "                for pred in result\n",
        "                ]\n",
        "            for result in results.xyxy\n",
        "            ]\n",
        "\n",
        "@app.post(\"/yolo/\")\n",
        "async def process_home_form(file: UploadFile = File(...), model_name: str = Form(...)):\n",
        "  \n",
        "      model = torch.hub.load('ultralytics/yolov5', model_name, pretrained=True, force_reload = False)\n",
        "      #This is how you decode + process image with PIL\n",
        "      results = model(Image.open(BytesIO(await file.read())))\n",
        "      json_results = results_to_json(results,model)\n",
        "      return json_results"
      ],
      "metadata": {
        "id": "eeEIMlmQj7VK"
      },
      "execution_count": 46,
      "outputs": []
    },
    {
      "cell_type": "code",
      "source": [
        "ngrok_tunnel = ngrok.connect(8000)\n",
        "print('Public URL:', ngrok_tunnel.public_url)\n",
        "nest_asyncio.apply()\n",
        "uvicorn.run(app, port=8000)"
      ],
      "metadata": {
        "colab": {
          "base_uri": "https://localhost:8080/"
        },
        "id": "tmIUrS9dHGof",
        "outputId": "38cdd61e-af1b-4569-92f2-832c8e544577"
      },
      "execution_count": 47,
      "outputs": [
        {
          "output_type": "stream",
          "name": "stderr",
          "text": [
            "WARNING:pyngrok.process.ngrok:t=2023-05-11T16:14:30+0000 lvl=warn msg=\"ngrok config file found at legacy location, move to XDG location\" xdg_path=/root/.config/ngrok/ngrok.yml legacy_path=/root/.ngrok2/ngrok.yml\n"
          ]
        },
        {
          "output_type": "stream",
          "name": "stdout",
          "text": [
            "Public URL: https://0699-34-125-231-164.ngrok.io\n"
          ]
        },
        {
          "output_type": "stream",
          "name": "stderr",
          "text": [
            "INFO:     Started server process [405]\n",
            "INFO:     Waiting for application startup.\n",
            "INFO:     Application startup complete.\n",
            "INFO:     Uvicorn running on http://127.0.0.1:8000 (Press CTRL+C to quit)\n",
            "INFO:     Shutting down\n",
            "INFO:     Waiting for application shutdown.\n",
            "INFO:     Application shutdown complete.\n",
            "INFO:     Finished server process [405]\n"
          ]
        }
      ]
    },
    {
      "cell_type": "code",
      "source": [
        "!python server.py"
      ],
      "metadata": {
        "id": "GRzyJBSBHG6m",
        "outputId": "f3860748-cafa-42be-f757-27d3dfcdec8e",
        "colab": {
          "base_uri": "https://localhost:8080/"
        }
      },
      "execution_count": 48,
      "outputs": [
        {
          "output_type": "stream",
          "name": "stdout",
          "text": [
            "\u001b[32mINFO\u001b[0m:     Will watch for changes in these directories: ['/content']\n",
            "\u001b[32mINFO\u001b[0m:     Uvicorn running on \u001b[1mhttp://localhost:8000\u001b[0m (Press CTRL+C to quit)\n",
            "\u001b[32mINFO\u001b[0m:     Started reloader process [\u001b[36m\u001b[1m32315\u001b[0m] using \u001b[36m\u001b[1mStatReload\u001b[0m\n",
            "\u001b[32mINFO\u001b[0m:     Started server process [\u001b[36m32330\u001b[0m]\n",
            "\u001b[32mINFO\u001b[0m:     Waiting for application startup.\n",
            "\u001b[32mINFO\u001b[0m:     Application startup complete.\n",
            "\u001b[32mINFO\u001b[0m:     Shutting down\n",
            "\u001b[32mINFO\u001b[0m:     Waiting for application shutdown.\n",
            "\u001b[32mINFO\u001b[0m:     Application shutdown complete.\n",
            "\u001b[32mINFO\u001b[0m:     Finished server process [\u001b[36m32330\u001b[0m]\n",
            "\u001b[32mINFO\u001b[0m:     Stopping reloader process [\u001b[36m\u001b[1m32315\u001b[0m]\n"
          ]
        }
      ]
    }
  ]
}