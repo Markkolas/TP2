{
  "nbformat": 4,
  "nbformat_minor": 0,
  "metadata": {
    "colab": {
      "provenance": [],
      "gpuType": "T4",
      "include_colab_link": true
    },
    "kernelspec": {
      "name": "python3",
      "display_name": "Python 3"
    },
    "language_info": {
      "name": "python"
    },
    "gpuClass": "standard"
  },
  "cells": [
    {
      "cell_type": "markdown",
      "metadata": {
        "id": "view-in-github",
        "colab_type": "text"
      },
      "source": [
        "<a href=\"https://colab.research.google.com/github/Markkolas/TP2/blob/karmen-test/Pruebas_API/16_05_23.ipynb\" target=\"_parent\"><img src=\"https://colab.research.google.com/assets/colab-badge.svg\" alt=\"Open In Colab\"/></a>"
      ]
    },
    {
      "cell_type": "code",
      "source": [
        "# !git clone https://github.com/WelkinU/yolov5-fastapi-demo"
      ],
      "metadata": {
        "id": "_bDgWE5fDsri"
      },
      "execution_count": null,
      "outputs": []
    },
    {
      "cell_type": "code",
      "execution_count": 24,
      "metadata": {
        "colab": {
          "base_uri": "https://localhost:8080/"
        },
        "id": "9tQI6pAkCrmo",
        "outputId": "1d52fdbf-a58f-49e4-bd3e-8ee2ad5de87d"
      },
      "outputs": [
        {
          "output_type": "stream",
          "name": "stdout",
          "text": [
            "Looking in indexes: https://pypi.org/simple, https://us-python.pkg.dev/colab-wheels/public/simple/\n",
            "Collecting fastapi\n",
            "  Downloading fastapi-0.95.2-py3-none-any.whl (56 kB)\n",
            "\u001b[2K     \u001b[90m━━━━━━━━━━━━━━━━━━━━━━━━━━━━━━━━━━━━━━━━\u001b[0m \u001b[32m57.0/57.0 kB\u001b[0m \u001b[31m2.3 MB/s\u001b[0m eta \u001b[36m0:00:00\u001b[0m\n",
            "\u001b[?25hRequirement already satisfied: pydantic!=1.7,!=1.7.1,!=1.7.2,!=1.7.3,!=1.8,!=1.8.1,<2.0.0,>=1.6.2 in /usr/local/lib/python3.10/dist-packages (from fastapi) (1.10.7)\n",
            "Collecting starlette<0.28.0,>=0.27.0 (from fastapi)\n",
            "  Downloading starlette-0.27.0-py3-none-any.whl (66 kB)\n",
            "\u001b[2K     \u001b[90m━━━━━━━━━━━━━━━━━━━━━━━━━━━━━━━━━━━━━━━━\u001b[0m \u001b[32m67.0/67.0 kB\u001b[0m \u001b[31m7.3 MB/s\u001b[0m eta \u001b[36m0:00:00\u001b[0m\n",
            "\u001b[?25hRequirement already satisfied: typing-extensions>=4.2.0 in /usr/local/lib/python3.10/dist-packages (from pydantic!=1.7,!=1.7.1,!=1.7.2,!=1.7.3,!=1.8,!=1.8.1,<2.0.0,>=1.6.2->fastapi) (4.5.0)\n",
            "Requirement already satisfied: anyio<5,>=3.4.0 in /usr/local/lib/python3.10/dist-packages (from starlette<0.28.0,>=0.27.0->fastapi) (3.6.2)\n",
            "Requirement already satisfied: idna>=2.8 in /usr/local/lib/python3.10/dist-packages (from anyio<5,>=3.4.0->starlette<0.28.0,>=0.27.0->fastapi) (3.4)\n",
            "Requirement already satisfied: sniffio>=1.1 in /usr/local/lib/python3.10/dist-packages (from anyio<5,>=3.4.0->starlette<0.28.0,>=0.27.0->fastapi) (1.3.0)\n",
            "Installing collected packages: starlette, fastapi\n",
            "Successfully installed fastapi-0.95.2 starlette-0.27.0\n",
            "Looking in indexes: https://pypi.org/simple, https://us-python.pkg.dev/colab-wheels/public/simple/\n",
            "Requirement already satisfied: uvicorn in /usr/local/lib/python3.10/dist-packages (0.22.0)\n",
            "Requirement already satisfied: click>=7.0 in /usr/local/lib/python3.10/dist-packages (from uvicorn) (8.1.3)\n",
            "Requirement already satisfied: h11>=0.8 in /usr/local/lib/python3.10/dist-packages (from uvicorn) (0.14.0)\n",
            "Looking in indexes: https://pypi.org/simple, https://us-python.pkg.dev/colab-wheels/public/simple/\n",
            "Collecting pyngrok\n",
            "  Downloading pyngrok-6.0.0.tar.gz (681 kB)\n",
            "\u001b[2K     \u001b[90m━━━━━━━━━━━━━━━━━━━━━━━━━━━━━━━━━━━━━━\u001b[0m \u001b[32m681.2/681.2 kB\u001b[0m \u001b[31m10.2 MB/s\u001b[0m eta \u001b[36m0:00:00\u001b[0m\n",
            "\u001b[?25h  Preparing metadata (setup.py) ... \u001b[?25l\u001b[?25hdone\n",
            "Requirement already satisfied: PyYAML in /usr/local/lib/python3.10/dist-packages (from pyngrok) (6.0)\n",
            "Building wheels for collected packages: pyngrok\n",
            "  Building wheel for pyngrok (setup.py) ... \u001b[?25l\u001b[?25hdone\n",
            "  Created wheel for pyngrok: filename=pyngrok-6.0.0-py3-none-any.whl size=19867 sha256=f5748596e133117a33d50209b1c35293137d2138b311337ff049b344b99c8d09\n",
            "  Stored in directory: /root/.cache/pip/wheels/5c/42/78/0c3d438d7f5730451a25f7ac6cbf4391759d22a67576ed7c2c\n",
            "Successfully built pyngrok\n",
            "Installing collected packages: pyngrok\n",
            "Successfully installed pyngrok-6.0.0\n",
            "Looking in indexes: https://pypi.org/simple, https://us-python.pkg.dev/colab-wheels/public/simple/\n",
            "Collecting python-multipart\n",
            "  Downloading python_multipart-0.0.6-py3-none-any.whl (45 kB)\n",
            "\u001b[2K     \u001b[90m━━━━━━━━━━━━━━━━━━━━━━━━━━━━━━━━━━━━━━━━\u001b[0m \u001b[32m45.7/45.7 kB\u001b[0m \u001b[31m2.9 MB/s\u001b[0m eta \u001b[36m0:00:00\u001b[0m\n",
            "\u001b[?25hInstalling collected packages: python-multipart\n",
            "Successfully installed python-multipart-0.0.6\n",
            "Looking in indexes: https://pypi.org/simple, https://us-python.pkg.dev/colab-wheels/public/simple/\n",
            "Collecting ultralytics\n",
            "  Downloading ultralytics-8.0.103-py3-none-any.whl (585 kB)\n",
            "\u001b[2K     \u001b[90m━━━━━━━━━━━━━━━━━━━━━━━━━━━━━━━━━━━━━━━\u001b[0m \u001b[32m585.2/585.2 kB\u001b[0m \u001b[31m9.2 MB/s\u001b[0m eta \u001b[36m0:00:00\u001b[0m\n",
            "\u001b[?25hRequirement already satisfied: matplotlib>=3.2.2 in /usr/local/lib/python3.10/dist-packages (from ultralytics) (3.7.1)\n",
            "Requirement already satisfied: opencv-python>=4.6.0 in /usr/local/lib/python3.10/dist-packages (from ultralytics) (4.7.0.72)\n",
            "Requirement already satisfied: Pillow>=7.1.2 in /usr/local/lib/python3.10/dist-packages (from ultralytics) (8.4.0)\n",
            "Requirement already satisfied: PyYAML>=5.3.1 in /usr/local/lib/python3.10/dist-packages (from ultralytics) (6.0)\n",
            "Requirement already satisfied: requests>=2.23.0 in /usr/local/lib/python3.10/dist-packages (from ultralytics) (2.27.1)\n",
            "Requirement already satisfied: scipy>=1.4.1 in /usr/local/lib/python3.10/dist-packages (from ultralytics) (1.10.1)\n",
            "Requirement already satisfied: torch>=1.7.0 in /usr/local/lib/python3.10/dist-packages (from ultralytics) (2.0.0+cu118)\n",
            "Requirement already satisfied: torchvision>=0.8.1 in /usr/local/lib/python3.10/dist-packages (from ultralytics) (0.15.1+cu118)\n",
            "Requirement already satisfied: tqdm>=4.64.0 in /usr/local/lib/python3.10/dist-packages (from ultralytics) (4.65.0)\n",
            "Requirement already satisfied: pandas>=1.1.4 in /usr/local/lib/python3.10/dist-packages (from ultralytics) (1.5.3)\n",
            "Requirement already satisfied: seaborn>=0.11.0 in /usr/local/lib/python3.10/dist-packages (from ultralytics) (0.12.2)\n",
            "Requirement already satisfied: psutil in /usr/local/lib/python3.10/dist-packages (from ultralytics) (5.9.5)\n",
            "Collecting thop>=0.1.1 (from ultralytics)\n",
            "  Downloading thop-0.1.1.post2209072238-py3-none-any.whl (15 kB)\n",
            "Collecting sentry-sdk (from ultralytics)\n",
            "  Downloading sentry_sdk-1.23.0-py2.py3-none-any.whl (205 kB)\n",
            "\u001b[2K     \u001b[90m━━━━━━━━━━━━━━━━━━━━━━━━━━━━━━━━━━━━━━\u001b[0m \u001b[32m205.1/205.1 kB\u001b[0m \u001b[31m21.0 MB/s\u001b[0m eta \u001b[36m0:00:00\u001b[0m\n",
            "\u001b[?25hRequirement already satisfied: contourpy>=1.0.1 in /usr/local/lib/python3.10/dist-packages (from matplotlib>=3.2.2->ultralytics) (1.0.7)\n",
            "Requirement already satisfied: cycler>=0.10 in /usr/local/lib/python3.10/dist-packages (from matplotlib>=3.2.2->ultralytics) (0.11.0)\n",
            "Requirement already satisfied: fonttools>=4.22.0 in /usr/local/lib/python3.10/dist-packages (from matplotlib>=3.2.2->ultralytics) (4.39.3)\n",
            "Requirement already satisfied: kiwisolver>=1.0.1 in /usr/local/lib/python3.10/dist-packages (from matplotlib>=3.2.2->ultralytics) (1.4.4)\n",
            "Requirement already satisfied: numpy>=1.20 in /usr/local/lib/python3.10/dist-packages (from matplotlib>=3.2.2->ultralytics) (1.22.4)\n",
            "Requirement already satisfied: packaging>=20.0 in /usr/local/lib/python3.10/dist-packages (from matplotlib>=3.2.2->ultralytics) (23.1)\n",
            "Requirement already satisfied: pyparsing>=2.3.1 in /usr/local/lib/python3.10/dist-packages (from matplotlib>=3.2.2->ultralytics) (3.0.9)\n",
            "Requirement already satisfied: python-dateutil>=2.7 in /usr/local/lib/python3.10/dist-packages (from matplotlib>=3.2.2->ultralytics) (2.8.2)\n",
            "Requirement already satisfied: pytz>=2020.1 in /usr/local/lib/python3.10/dist-packages (from pandas>=1.1.4->ultralytics) (2022.7.1)\n",
            "Requirement already satisfied: urllib3<1.27,>=1.21.1 in /usr/local/lib/python3.10/dist-packages (from requests>=2.23.0->ultralytics) (1.26.15)\n",
            "Requirement already satisfied: certifi>=2017.4.17 in /usr/local/lib/python3.10/dist-packages (from requests>=2.23.0->ultralytics) (2022.12.7)\n",
            "Requirement already satisfied: charset-normalizer~=2.0.0 in /usr/local/lib/python3.10/dist-packages (from requests>=2.23.0->ultralytics) (2.0.12)\n",
            "Requirement already satisfied: idna<4,>=2.5 in /usr/local/lib/python3.10/dist-packages (from requests>=2.23.0->ultralytics) (3.4)\n",
            "Requirement already satisfied: filelock in /usr/local/lib/python3.10/dist-packages (from torch>=1.7.0->ultralytics) (3.12.0)\n",
            "Requirement already satisfied: typing-extensions in /usr/local/lib/python3.10/dist-packages (from torch>=1.7.0->ultralytics) (4.5.0)\n",
            "Requirement already satisfied: sympy in /usr/local/lib/python3.10/dist-packages (from torch>=1.7.0->ultralytics) (1.11.1)\n",
            "Requirement already satisfied: networkx in /usr/local/lib/python3.10/dist-packages (from torch>=1.7.0->ultralytics) (3.1)\n",
            "Requirement already satisfied: jinja2 in /usr/local/lib/python3.10/dist-packages (from torch>=1.7.0->ultralytics) (3.1.2)\n",
            "Requirement already satisfied: triton==2.0.0 in /usr/local/lib/python3.10/dist-packages (from torch>=1.7.0->ultralytics) (2.0.0)\n",
            "Requirement already satisfied: cmake in /usr/local/lib/python3.10/dist-packages (from triton==2.0.0->torch>=1.7.0->ultralytics) (3.25.2)\n",
            "Requirement already satisfied: lit in /usr/local/lib/python3.10/dist-packages (from triton==2.0.0->torch>=1.7.0->ultralytics) (16.0.3)\n",
            "Requirement already satisfied: six>=1.5 in /usr/local/lib/python3.10/dist-packages (from python-dateutil>=2.7->matplotlib>=3.2.2->ultralytics) (1.16.0)\n",
            "Requirement already satisfied: MarkupSafe>=2.0 in /usr/local/lib/python3.10/dist-packages (from jinja2->torch>=1.7.0->ultralytics) (2.1.2)\n",
            "Requirement already satisfied: mpmath>=0.19 in /usr/local/lib/python3.10/dist-packages (from sympy->torch>=1.7.0->ultralytics) (1.3.0)\n",
            "Installing collected packages: sentry-sdk, thop, ultralytics\n",
            "Successfully installed sentry-sdk-1.23.0 thop-0.1.1.post2209072238 ultralytics-8.0.103\n"
          ]
        }
      ],
      "source": [
        "!pip install fastapi\n",
        "!pip install uvicorn\n",
        "!pip install pyngrok\n",
        "!pip install python-multipart\n",
        "!pip install ultralytics"
      ]
    },
    {
      "cell_type": "code",
      "source": [
        "from fastapi import FastAPI, Request, Form, File, UploadFile\n",
        "from fastapi.templating import Jinja2Templates\n",
        "from pydantic import BaseModel\n",
        "from typing import List, Optional\n",
        "\n",
        "import cv2\n",
        "import numpy as np\n",
        "\n",
        "import torch\n",
        "import base64\n",
        "import random\n",
        "import ultralytics\n",
        "\n",
        "import uvicorn"
      ],
      "metadata": {
        "id": "Y5GIqP0hCuSp"
      },
      "execution_count": 26,
      "outputs": []
    },
    {
      "cell_type": "code",
      "source": [
        "app = FastAPI()\n",
        "templates = Jinja2Templates(directory = 'templates')\n",
        "\n",
        "model_selection_options = ['yolov5s','yolov5m','yolov5l','yolov5x','yolov5n',\n",
        "                        'yolov5n6','yolov5s6','yolov5m6','yolov5l6','yolov5x6']\n",
        "model_dict = {model_name: None for model_name in model_selection_options} #set up model cache\n",
        "\n",
        "colors = [tuple([random.randint(0, 255) for _ in range(3)]) for _ in range(100)] #for bbox plotting\n",
        "\n",
        "##############################################\n",
        "#-------------GET Request Routes--------------\n",
        "##############################################\n",
        "# @app.get(\"/\")\n",
        "# def home(request: Request):\n",
        "#     ''' Returns html jinja2 template render for home page form\n",
        "#     '''\n",
        "\n",
        "#     return templates.TemplateResponse('home.html', {\n",
        "#             \"request\": request,\n",
        "#             \"model_selection_options\": model_selection_options,\n",
        "#         })\n",
        "\n",
        "# @app.get(\"/drag_and_drop_detect\")\n",
        "# def drag_and_drop_detect(request: Request):\n",
        "#     ''' drag_and_drop_detect detect page. Uses a drag and drop\n",
        "#     file interface to upload files to the server, then renders \n",
        "#     the image + bboxes + labels on HTML canvas.\n",
        "#     '''\n",
        "\n",
        "#     return templates.TemplateResponse('drag_and_drop_detect.html', \n",
        "#             {\"request\": request,\n",
        "#             \"model_selection_options\": model_selection_options,\n",
        "#         })\n",
        "\n",
        "\n",
        "##############################################\n",
        "#------------POST Request Routes--------------\n",
        "##############################################\n",
        "@app.post(\"/\")\n",
        "def detect_with_server_side_rendering(request: Request,\n",
        "                        file_list: List[UploadFile] = File(...), \n",
        "                        model_name: str = Form(...),\n",
        "                        img_size: int = Form(640)):\n",
        "    \n",
        "    '''\n",
        "    Requires an image file upload, model name (ex. yolov5s). Optional image size parameter (Default 640).\n",
        "\n",
        "    Returns: HTML template render showing bbox data and base64 encoded image\n",
        "\n",
        "    Notes: \n",
        "    Intended to show how to do server sided image rendering + passing to client. But\n",
        "    generally, you will just want to return results as JSON and do the rendering client side.\n",
        "    See templates/drag_and_drop_detect.html for an example on how to do this.\n",
        "\n",
        "    If you just want JSON results, just return the results of the \n",
        "    results_to_json() function and skip the rest\n",
        "    '''\n",
        "\n",
        "    if model_dict[model_name] is None:\n",
        "        model_dict[model_name] = torch.hub.load('ultralytics/yolov5', model_name, pretrained=True)\n",
        "\n",
        "    img_batch = [cv2.imdecode(np.frombuffer(file.file.read(), np.uint8), cv2.IMREAD_COLOR)\n",
        "                    for file in file_list]\n",
        "\n",
        "    #create a copy that corrects for cv2.imdecode generating BGR images instead of RGB\n",
        "    #using cvtColor instead of [...,::-1] to keep array contiguous in RAM\n",
        "    img_batch_rgb = [cv2.cvtColor(img, cv2.COLOR_BGR2RGB) for img in img_batch]\n",
        "\n",
        "    results = model_dict[model_name](img_batch_rgb, size = img_size)\n",
        "\n",
        "    json_results = results_to_json(results,model_dict[model_name])\n",
        "\n",
        "    img_str_list = []\n",
        "    #plot bboxes on the image\n",
        "    for img, bbox_list in zip(img_batch, json_results):\n",
        "        for bbox in bbox_list:\n",
        "            label = f'{bbox[\"class_name\"]} {bbox[\"confidence\"]:.2f}'\n",
        "            plot_one_box(bbox['bbox'], img, label=label, \n",
        "                    color=colors[int(bbox['class'])], line_thickness=3)\n",
        "\n",
        "        img_str_list.append(base64EncodeImage(img))\n",
        "\n",
        "    #escape the apostrophes in the json string representation\n",
        "    encoded_json_results = str(json_results).replace(\"'\",r\"\\'\").replace('\"',r'\\\"')\n",
        "\n",
        "    return templates.TemplateResponse('show_results.html', {\n",
        "            'request': request,\n",
        "            'bbox_image_data_zipped': zip(img_str_list,json_results), #unzipped in jinja2 template\n",
        "            'bbox_data_str': encoded_json_results,\n",
        "        })\n",
        "\n",
        "\n",
        "@app.post(\"/detect\")\n",
        "def detect_via_api(request: Request,\n",
        "                file_list: List[UploadFile] = File(...), \n",
        "                model_name: str = Form(...),\n",
        "                img_size: Optional[int] = Form(640),\n",
        "                download_image: Optional[bool] = Form(False)):\n",
        "    \n",
        "    '''\n",
        "    Requires an image file upload, model name (ex. yolov5s). \n",
        "    Optional image size parameter (Default 640)\n",
        "    Optional download_image parameter that includes base64 encoded image(s) with bbox's drawn in the json response\n",
        "    \n",
        "    Returns: JSON results of running YOLOv5 on the uploaded image. Bbox format is X1Y1X2Y2. \n",
        "            If download_image parameter is True, images with\n",
        "            bboxes drawn are base64 encoded and returned inside the json response.\n",
        "\n",
        "    Intended for API usage.\n",
        "    '''\n",
        "\n",
        "    if model_dict[model_name] is None:\n",
        "        model_dict[model_name] = torch.hub.load('ultralytics/yolov5', 'custom',  path='/content/yolov5s.pt')\n",
        "\n",
        "    img_batch = [cv2.imdecode(np.frombuffer(file.file.read(), np.uint8), cv2.IMREAD_COLOR)\n",
        "                for file in file_list]\n",
        "\n",
        "    #create a copy that corrects for cv2.imdecode generating BGR images instead of RGB, \n",
        "    #using cvtColor instead of [...,::-1] to keep array contiguous in RAM\n",
        "    img_batch_rgb = [cv2.cvtColor(img, cv2.COLOR_BGR2RGB) for img in img_batch]\n",
        "    \n",
        "    results = model_dict[model_name](img_batch_rgb, size = img_size) \n",
        "    json_results = results_to_json(results,model_dict[model_name])\n",
        "\n",
        "    if download_image:\n",
        "        #server side render the image with bounding boxes\n",
        "        for idx, (img, bbox_list) in enumerate(zip(img_batch, json_results)):\n",
        "            for bbox in bbox_list:\n",
        "                print(bbox)\n",
        "                label = f'{bbox[\"class_name\"]} {bbox[\"confidence\"]:.2f}'\n",
        "                plot_one_box(bbox['bbox'], img, label=label, \n",
        "                        color=colors[int(bbox['class'])], line_thickness=3)\n",
        "\n",
        "            payload = {'image_base64':base64EncodeImage(img)}\n",
        "            json_results[idx].append(payload)\n",
        "\n",
        "    encoded_json_results = str(json_results).replace(\"'\",r'\"')\n",
        "    return encoded_json_results\n",
        "    \n",
        "##############################################\n",
        "#--------------Helper Functions---------------\n",
        "##############################################\n",
        "\n",
        "def results_to_json(results, model):\n",
        "    ''' Converts yolo model output to json (list of list of dicts)'''\n",
        "    return [\n",
        "                [\n",
        "                    {\n",
        "                    \"class\": int(pred[5]),\n",
        "                    \"class_name\": model.model.names[int(pred[5])],\n",
        "                    \"bbox\": [int(x) for x in pred[:4].tolist()], #convert bbox results to int from float\n",
        "                    \"confidence\": float(pred[4]),\n",
        "                    }\n",
        "                for pred in result\n",
        "                ]\n",
        "            for result in results.xyxy\n",
        "            ]\n",
        "\n",
        "\n",
        "def plot_one_box(x, im, color=(128, 128, 128), label=None, line_thickness=3):\n",
        "    # Directly copied from: https://github.com/ultralytics/yolov5/blob/cd540d8625bba8a05329ede3522046ee53eb349d/utils/plots.py\n",
        "    # Plots one bounding box on image 'im' using OpenCV\n",
        "    assert im.data.contiguous, 'Image not contiguous. Apply np.ascontiguousarray(im) to plot_on_box() input image.'\n",
        "    tl = line_thickness or round(0.002 * (im.shape[0] + im.shape[1]) / 2) + 1  # line/font thickness\n",
        "    c1, c2 = (int(x[0]), int(x[1])), (int(x[2]), int(x[3]))\n",
        "    cv2.rectangle(im, c1, c2, color, thickness=tl, lineType=cv2.LINE_AA)\n",
        "    if label:\n",
        "        tf = max(tl - 1, 1)  # font thickness\n",
        "        t_size = cv2.getTextSize(label, 0, fontScale=tl / 3, thickness=tf)[0]\n",
        "        c2 = c1[0] + t_size[0], c1[1] - t_size[1] - 3\n",
        "        cv2.rectangle(im, c1, c2, color, -1, cv2.LINE_AA)  # filled\n",
        "        cv2.putText(im, label, (c1[0], c1[1] - 2), 0, tl / 3, [225, 255, 255], thickness=tf, lineType=cv2.LINE_AA)\n",
        "\n",
        "\n",
        "def base64EncodeImage(img):\n",
        "    ''' Takes an input image and returns a base64 encoded string representation of that image (jpg format)'''\n",
        "    _, im_arr = cv2.imencode('.jpg', img)\n",
        "    im_b64 = base64.b64encode(im_arr.tobytes()).decode('utf-8')\n",
        "\n",
        "    return im_b64"
      ],
      "metadata": {
        "id": "rW9fc38PC8IZ"
      },
      "execution_count": null,
      "outputs": []
    },
    {
      "cell_type": "code",
      "source": [
        "# !cd /root/.cache/torch/hub/ultralytics_yolov5_master/"
      ],
      "metadata": {
        "id": "zqVpKjWjjnJW"
      },
      "execution_count": null,
      "outputs": []
    },
    {
      "cell_type": "code",
      "source": [
        "ngrok_tunnel = ngrok.connect(5555)\n",
        "print('Public URL:', ngrok_tunnel.public_url)\n",
        "nest_asyncio.apply()\n",
        "uvicorn.run(app, port=5555)"
      ],
      "metadata": {
        "colab": {
          "base_uri": "https://localhost:8080/"
        },
        "id": "vH-YDrmcC88Z",
        "outputId": "968f64f8-6e50-4eed-a8c3-1ff810065ef6"
      },
      "execution_count": null,
      "outputs": [
        {
          "output_type": "stream",
          "name": "stderr",
          "text": [
            "WARNING:pyngrok.process.ngrok:t=2023-05-16T10:41:22+0000 lvl=warn msg=\"ngrok config file found at legacy location, move to XDG location\" xdg_path=/root/.config/ngrok/ngrok.yml legacy_path=/root/.ngrok2/ngrok.yml\n"
          ]
        },
        {
          "output_type": "stream",
          "name": "stdout",
          "text": [
            "Public URL: https://7ec1-34-29-136-228.ngrok.io\n"
          ]
        },
        {
          "output_type": "stream",
          "name": "stderr",
          "text": [
            "INFO:     Started server process [667]\n",
            "INFO:     Waiting for application startup.\n",
            "INFO:     Application startup complete.\n",
            "INFO:     Uvicorn running on http://127.0.0.1:5555 (Press CTRL+C to quit)\n"
          ]
        },
        {
          "output_type": "stream",
          "name": "stdout",
          "text": [
            "INFO:     157.88.139.133:0 - \"POST /detect HTTP/1.1\" 200 OK\n",
            "INFO:     157.88.139.133:0 - \"POST /detect HTTP/1.1\" 200 OK\n",
            "INFO:     157.88.139.133:0 - \"POST /detect HTTP/1.1\" 200 OK\n",
            "INFO:     157.88.139.133:0 - \"POST /detect HTTP/1.1\" 200 OK\n",
            "INFO:     157.88.139.133:0 - \"POST /detect HTTP/1.1\" 200 OK\n",
            "INFO:     157.88.139.133:0 - \"POST /detect HTTP/1.1\" 200 OK\n",
            "INFO:     157.88.139.133:0 - \"POST /detect HTTP/1.1\" 200 OK\n",
            "INFO:     157.88.139.133:0 - \"POST /detect HTTP/1.1\" 200 OK\n",
            "INFO:     157.88.139.133:0 - \"POST /detect HTTP/1.1\" 200 OK\n",
            "INFO:     157.88.139.133:0 - \"POST /detect HTTP/1.1\" 200 OK\n",
            "INFO:     157.88.139.133:0 - \"POST /detect HTTP/1.1\" 200 OK\n",
            "INFO:     157.88.139.133:0 - \"POST /detect HTTP/1.1\" 200 OK\n",
            "INFO:     157.88.139.133:0 - \"POST /detect HTTP/1.1\" 200 OK\n",
            "INFO:     157.88.139.133:0 - \"POST /detect HTTP/1.1\" 200 OK\n",
            "INFO:     157.88.139.133:0 - \"POST /detect HTTP/1.1\" 200 OK\n",
            "INFO:     157.88.139.133:0 - \"POST /detect HTTP/1.1\" 200 OK\n",
            "INFO:     157.88.139.133:0 - \"POST /detect HTTP/1.1\" 200 OK\n",
            "INFO:     157.88.139.133:0 - \"POST /detect HTTP/1.1\" 200 OK\n",
            "INFO:     157.88.139.133:0 - \"POST /detect HTTP/1.1\" 200 OK\n",
            "INFO:     157.88.139.133:0 - \"POST /detect HTTP/1.1\" 200 OK\n",
            "INFO:     157.88.139.133:0 - \"POST /detect HTTP/1.1\" 200 OK\n",
            "INFO:     157.88.139.133:0 - \"POST /detect HTTP/1.1\" 200 OK\n",
            "INFO:     157.88.139.133:0 - \"POST /detect HTTP/1.1\" 200 OK\n",
            "INFO:     157.88.139.133:0 - \"POST /detect HTTP/1.1\" 200 OK\n",
            "INFO:     157.88.139.133:0 - \"POST /detect HTTP/1.1\" 200 OK\n",
            "INFO:     157.88.139.133:0 - \"POST /detect HTTP/1.1\" 200 OK\n",
            "INFO:     157.88.139.133:0 - \"POST /detect HTTP/1.1\" 200 OK\n",
            "INFO:     157.88.139.133:0 - \"POST /detect HTTP/1.1\" 200 OK\n",
            "INFO:     157.88.139.133:0 - \"POST /detect HTTP/1.1\" 200 OK\n",
            "INFO:     157.88.139.133:0 - \"POST /detect HTTP/1.1\" 200 OK\n",
            "INFO:     157.88.139.133:0 - \"POST /detect HTTP/1.1\" 200 OK\n",
            "INFO:     157.88.139.133:0 - \"POST /detect HTTP/1.1\" 200 OK\n",
            "INFO:     157.88.139.133:0 - \"POST /detect HTTP/1.1\" 200 OK\n",
            "INFO:     157.88.139.133:0 - \"POST /detect HTTP/1.1\" 200 OK\n",
            "INFO:     157.88.139.133:0 - \"POST /detect HTTP/1.1\" 200 OK\n",
            "INFO:     157.88.139.133:0 - \"POST /detect HTTP/1.1\" 200 OK\n",
            "INFO:     157.88.139.133:0 - \"POST /detect HTTP/1.1\" 200 OK\n",
            "INFO:     157.88.139.133:0 - \"POST /detect HTTP/1.1\" 200 OK\n",
            "INFO:     157.88.139.133:0 - \"POST /detect HTTP/1.1\" 200 OK\n",
            "INFO:     157.88.139.133:0 - \"POST /detect HTTP/1.1\" 200 OK\n",
            "INFO:     157.88.139.133:0 - \"POST /detect HTTP/1.1\" 200 OK\n",
            "INFO:     157.88.139.133:0 - \"POST /detect HTTP/1.1\" 200 OK\n",
            "INFO:     157.88.139.133:0 - \"POST /detect HTTP/1.1\" 200 OK\n",
            "INFO:     157.88.139.133:0 - \"POST /detect HTTP/1.1\" 200 OK\n",
            "INFO:     157.88.139.133:0 - \"POST /detect HTTP/1.1\" 200 OK\n",
            "INFO:     157.88.139.133:0 - \"POST /detect HTTP/1.1\" 200 OK\n",
            "INFO:     157.88.139.133:0 - \"POST /detect HTTP/1.1\" 200 OK\n",
            "INFO:     157.88.139.133:0 - \"POST /detect HTTP/1.1\" 200 OK\n",
            "INFO:     157.88.139.133:0 - \"POST /detect HTTP/1.1\" 200 OK\n",
            "INFO:     157.88.139.133:0 - \"POST /detect HTTP/1.1\" 200 OK\n",
            "INFO:     157.88.139.133:0 - \"POST /detect HTTP/1.1\" 200 OK\n",
            "INFO:     157.88.139.133:0 - \"POST /detect HTTP/1.1\" 200 OK\n",
            "INFO:     157.88.139.133:0 - \"POST /detect HTTP/1.1\" 200 OK\n",
            "INFO:     157.88.139.133:0 - \"POST /detect HTTP/1.1\" 200 OK\n",
            "INFO:     157.88.139.133:0 - \"POST /detect HTTP/1.1\" 200 OK\n",
            "INFO:     157.88.139.133:0 - \"POST /detect HTTP/1.1\" 200 OK\n",
            "INFO:     157.88.139.133:0 - \"POST /detect HTTP/1.1\" 200 OK\n",
            "INFO:     157.88.139.133:0 - \"POST /detect HTTP/1.1\" 200 OK\n",
            "INFO:     157.88.139.133:0 - \"POST /detect HTTP/1.1\" 200 OK\n",
            "INFO:     157.88.139.133:0 - \"POST /detect HTTP/1.1\" 200 OK\n",
            "INFO:     157.88.139.133:0 - \"POST /detect HTTP/1.1\" 200 OK\n",
            "INFO:     157.88.139.133:0 - \"POST /detect HTTP/1.1\" 200 OK\n",
            "INFO:     157.88.139.133:0 - \"POST /detect HTTP/1.1\" 200 OK\n",
            "INFO:     157.88.139.133:0 - \"POST /detect HTTP/1.1\" 200 OK\n",
            "INFO:     157.88.139.133:0 - \"POST /detect HTTP/1.1\" 200 OK\n",
            "INFO:     157.88.139.133:0 - \"POST /detect HTTP/1.1\" 200 OK\n",
            "INFO:     157.88.139.133:0 - \"POST /detect HTTP/1.1\" 200 OK\n",
            "INFO:     157.88.139.133:0 - \"POST /detect HTTP/1.1\" 200 OK\n",
            "INFO:     157.88.139.133:0 - \"POST /detect HTTP/1.1\" 200 OK\n",
            "INFO:     157.88.139.133:0 - \"POST /detect HTTP/1.1\" 200 OK\n",
            "INFO:     157.88.139.133:0 - \"POST /detect HTTP/1.1\" 200 OK\n",
            "INFO:     157.88.139.133:0 - \"POST /detect HTTP/1.1\" 200 OK\n",
            "INFO:     157.88.139.133:0 - \"POST /detect HTTP/1.1\" 200 OK\n"
          ]
        },
        {
          "output_type": "stream",
          "name": "stderr",
          "text": [
            "INFO:     Shutting down\n",
            "INFO:     Waiting for application shutdown.\n",
            "INFO:     Application shutdown complete.\n",
            "INFO:     Finished server process [667]\n"
          ]
        }
      ]
    },
    {
      "cell_type": "code",
      "source": [
        "!apt-get install -y ssh"
      ],
      "metadata": {
        "id": "CX8d67N2HmLY",
        "outputId": "2bcb1056-4d02-48c2-a2c9-fd34fb45a53c",
        "colab": {
          "base_uri": "https://localhost:8080/"
        }
      },
      "execution_count": 1,
      "outputs": [
        {
          "output_type": "stream",
          "name": "stdout",
          "text": [
            "Reading package lists... Done\n",
            "Building dependency tree       \n",
            "Reading state information... Done\n",
            "The following additional packages will be installed:\n",
            "  ncurses-term openssh-server openssh-sftp-server python3-distro ssh-import-id\n",
            "Suggested packages:\n",
            "  molly-guard monkeysphere ssh-askpass ufw\n",
            "The following NEW packages will be installed:\n",
            "  ncurses-term openssh-server openssh-sftp-server python3-distro ssh\n",
            "  ssh-import-id\n",
            "0 upgraded, 6 newly installed, 0 to remove and 24 not upgraded.\n",
            "Need to get 708 kB of archives.\n",
            "After this operation, 6,200 kB of additional disk space will be used.\n",
            "Get:1 http://archive.ubuntu.com/ubuntu focal-updates/main amd64 openssh-sftp-server amd64 1:8.2p1-4ubuntu0.7 [51.5 kB]\n",
            "Get:2 http://archive.ubuntu.com/ubuntu focal-updates/main amd64 openssh-server amd64 1:8.2p1-4ubuntu0.7 [377 kB]\n",
            "Get:3 http://archive.ubuntu.com/ubuntu focal-updates/main amd64 ssh all 1:8.2p1-4ubuntu0.7 [5,080 B]\n",
            "Get:4 http://archive.ubuntu.com/ubuntu focal/main amd64 ncurses-term all 6.2-0ubuntu2 [249 kB]\n",
            "Get:5 http://archive.ubuntu.com/ubuntu focal/main amd64 python3-distro all 1.4.0-1 [14.6 kB]\n",
            "Get:6 http://archive.ubuntu.com/ubuntu focal/main amd64 ssh-import-id all 5.10-0ubuntu1 [10.0 kB]\n",
            "Fetched 708 kB in 8s (85.0 kB/s)\n",
            "Preconfiguring packages ...\n",
            "Selecting previously unselected package openssh-sftp-server.\n",
            "(Reading database ... 122519 files and directories currently installed.)\n",
            "Preparing to unpack .../0-openssh-sftp-server_1%3a8.2p1-4ubuntu0.7_amd64.deb ...\n",
            "Unpacking openssh-sftp-server (1:8.2p1-4ubuntu0.7) ...\n",
            "Selecting previously unselected package openssh-server.\n",
            "Preparing to unpack .../1-openssh-server_1%3a8.2p1-4ubuntu0.7_amd64.deb ...\n",
            "Unpacking openssh-server (1:8.2p1-4ubuntu0.7) ...\n",
            "Selecting previously unselected package ssh.\n",
            "Preparing to unpack .../2-ssh_1%3a8.2p1-4ubuntu0.7_all.deb ...\n",
            "Unpacking ssh (1:8.2p1-4ubuntu0.7) ...\n",
            "Selecting previously unselected package ncurses-term.\n",
            "Preparing to unpack .../3-ncurses-term_6.2-0ubuntu2_all.deb ...\n",
            "Unpacking ncurses-term (6.2-0ubuntu2) ...\n",
            "Selecting previously unselected package python3-distro.\n",
            "Preparing to unpack .../4-python3-distro_1.4.0-1_all.deb ...\n",
            "Unpacking python3-distro (1.4.0-1) ...\n",
            "Selecting previously unselected package ssh-import-id.\n",
            "Preparing to unpack .../5-ssh-import-id_5.10-0ubuntu1_all.deb ...\n",
            "Unpacking ssh-import-id (5.10-0ubuntu1) ...\n",
            "Setting up openssh-sftp-server (1:8.2p1-4ubuntu0.7) ...\n",
            "Setting up python3-distro (1.4.0-1) ...\n",
            "Setting up openssh-server (1:8.2p1-4ubuntu0.7) ...\n",
            "\n",
            "Creating config file /etc/ssh/sshd_config with new version\n",
            "Creating SSH2 RSA key; this may take some time ...\n",
            "3072 SHA256:I+qkO3rus190vdPOZaIuZhbJqtkYSZvo+LGjIWCDCLs root@9040d237c1c5 (RSA)\n",
            "Creating SSH2 ECDSA key; this may take some time ...\n",
            "256 SHA256:wPuY+AQEzsG1j4SHoRFpjhKpuWviv8Ar1o9nuW0REe0 root@9040d237c1c5 (ECDSA)\n",
            "Creating SSH2 ED25519 key; this may take some time ...\n",
            "256 SHA256:t8ab1FwFX1DbKBLUYlDLZV2x+39UujpYHhz26sy8/Uc root@9040d237c1c5 (ED25519)\n",
            "Created symlink /etc/systemd/system/sshd.service → /lib/systemd/system/ssh.service.\n",
            "Created symlink /etc/systemd/system/multi-user.target.wants/ssh.service → /lib/systemd/system/ssh.service.\n",
            "invoke-rc.d: could not determine current runlevel\n",
            "invoke-rc.d: policy-rc.d denied execution of start.\n",
            "Setting up ssh-import-id (5.10-0ubuntu1) ...\n",
            "Attempting to convert /etc/ssh/ssh_import_id\n",
            "Setting up ncurses-term (6.2-0ubuntu2) ...\n",
            "Setting up ssh (1:8.2p1-4ubuntu0.7) ...\n",
            "Processing triggers for man-db (2.9.1-1) ...\n",
            "Processing triggers for systemd (245.4-4ubuntu3.21) ...\n"
          ]
        }
      ]
    },
    {
      "cell_type": "code",
      "source": [
        "import subprocess\n",
        "\n",
        "# Iniciar el servidor local en el puerto 5555\n",
        "#subprocess.Popen(['uvicorn', 'app:app', '--port', '5555'])\n",
        "\n",
        "# Iniciar el túnel de Serveo\n",
        "ssh_command = 'ssh -R 80:localhost:3000 serveo.net'\n",
        "result=subprocess.Popen(ssh_command.split())\n",
        "\n",
        "output, errors = result.communicate()\n",
        "\n",
        "# ssh_tunnel = result.connect(3000)\n",
        "# print('Public URL:', ssh_tunnel.public_url)\n",
        "# nest_asyncio.apply()\n",
        "# uvicorn.run(app, port=5555)\n"
      ],
      "metadata": {
        "id": "0PC_maeAtYXO",
        "outputId": "504adb1e-e65f-4f13-b7fe-29754ef9a924",
        "colab": {
          "base_uri": "https://localhost:8080/",
          "height": 269
        }
      },
      "execution_count": 14,
      "outputs": [
        {
          "output_type": "stream",
          "name": "stdout",
          "text": [
            "Salida:\n",
            "Errores:\n"
          ]
        },
        {
          "output_type": "error",
          "ename": "AttributeError",
          "evalue": "ignored",
          "traceback": [
            "\u001b[0;31m---------------------------------------------------------------------------\u001b[0m",
            "\u001b[0;31mAttributeError\u001b[0m                            Traceback (most recent call last)",
            "\u001b[0;32m<ipython-input-14-0260ad1bbd8a>\u001b[0m in \u001b[0;36m<cell line: 16>\u001b[0;34m()\u001b[0m\n\u001b[1;32m     14\u001b[0m \u001b[0;34m\u001b[0m\u001b[0m\n\u001b[1;32m     15\u001b[0m \u001b[0mprint\u001b[0m\u001b[0;34m(\u001b[0m\u001b[0;34m\"Errores:\"\u001b[0m\u001b[0;34m)\u001b[0m\u001b[0;34m\u001b[0m\u001b[0;34m\u001b[0m\u001b[0m\n\u001b[0;32m---> 16\u001b[0;31m \u001b[0mprint\u001b[0m\u001b[0;34m(\u001b[0m\u001b[0merrors\u001b[0m\u001b[0;34m.\u001b[0m\u001b[0mdecode\u001b[0m\u001b[0;34m(\u001b[0m\u001b[0;34m'utf-8'\u001b[0m\u001b[0;34m)\u001b[0m\u001b[0;34m)\u001b[0m\u001b[0;34m\u001b[0m\u001b[0;34m\u001b[0m\u001b[0m\n\u001b[0m\u001b[1;32m     17\u001b[0m \u001b[0;34m\u001b[0m\u001b[0m\n\u001b[1;32m     18\u001b[0m \u001b[0;31m# ssh_tunnel = result.connect(3000)\u001b[0m\u001b[0;34m\u001b[0m\u001b[0;34m\u001b[0m\u001b[0m\n",
            "\u001b[0;31mAttributeError\u001b[0m: 'NoneType' object has no attribute 'decode'"
          ]
        }
      ]
    },
    {
      "cell_type": "code",
      "source": [
        "!npm install -g localtunnel"
      ],
      "metadata": {
        "id": "YLHvbVa-a_o_",
        "outputId": "960776ab-d76e-4c31-c84e-e35b5a3f6847",
        "colab": {
          "base_uri": "https://localhost:8080/"
        }
      },
      "execution_count": 16,
      "outputs": [
        {
          "output_type": "stream",
          "name": "stdout",
          "text": [
            "\u001b[K\u001b[?25h/tools/node/bin/lt -> /tools/node/lib/node_modules/localtunnel/bin/lt.js\n",
            "+ localtunnel@2.0.2\n",
            "added 22 packages from 22 contributors in 2.822s\n"
          ]
        }
      ]
    },
    {
      "cell_type": "code",
      "source": [
        "!pip install uvicorn"
      ],
      "metadata": {
        "id": "IFNgwE5ebqMQ",
        "outputId": "e79b96d2-c8d3-4151-dca4-a93acfcf4c86",
        "colab": {
          "base_uri": "https://localhost:8080/"
        }
      },
      "execution_count": 19,
      "outputs": [
        {
          "output_type": "stream",
          "name": "stdout",
          "text": [
            "Looking in indexes: https://pypi.org/simple, https://us-python.pkg.dev/colab-wheels/public/simple/\n",
            "Collecting uvicorn\n",
            "  Downloading uvicorn-0.22.0-py3-none-any.whl (58 kB)\n",
            "\u001b[2K     \u001b[90m━━━━━━━━━━━━━━━━━━━━━━━━━━━━━━━━━━━━━━━━\u001b[0m \u001b[32m58.3/58.3 kB\u001b[0m \u001b[31m3.1 MB/s\u001b[0m eta \u001b[36m0:00:00\u001b[0m\n",
            "\u001b[?25hRequirement already satisfied: click>=7.0 in /usr/local/lib/python3.10/dist-packages (from uvicorn) (8.1.3)\n",
            "Collecting h11>=0.8 (from uvicorn)\n",
            "  Downloading h11-0.14.0-py3-none-any.whl (58 kB)\n",
            "\u001b[2K     \u001b[90m━━━━━━━━━━━━━━━━━━━━━━━━━━━━━━━━━━━━━━━━\u001b[0m \u001b[32m58.3/58.3 kB\u001b[0m \u001b[31m7.3 MB/s\u001b[0m eta \u001b[36m0:00:00\u001b[0m\n",
            "\u001b[?25hInstalling collected packages: h11, uvicorn\n",
            "Successfully installed h11-0.14.0 uvicorn-0.22.0\n"
          ]
        }
      ]
    },
    {
      "cell_type": "code",
      "source": [
        "import subprocess\n",
        "import uvicorn\n",
        "\n",
        "subprocess.Popen(['uvicorn', 'app:app', '--port', '5555'])"
      ],
      "metadata": {
        "id": "CHRmTt30MzC8",
        "outputId": "919c32a7-420f-4e10-ad78-a805d3e7b9d7",
        "colab": {
          "base_uri": "https://localhost:8080/"
        }
      },
      "execution_count": 20,
      "outputs": [
        {
          "output_type": "execute_result",
          "data": {
            "text/plain": [
              "<Popen: returncode: None args: ['uvicorn', 'app:app', '--port', '5555']>"
            ]
          },
          "metadata": {},
          "execution_count": 20
        }
      ]
    },
    {
      "cell_type": "code",
      "source": [],
      "metadata": {
        "id": "xbjuycFxboGf"
      },
      "execution_count": null,
      "outputs": []
    },
    {
      "cell_type": "code",
      "source": [
        "!lt --port 5555"
      ],
      "metadata": {
        "id": "vlaBKq_RbRue",
        "outputId": "0df1d19d-3f19-4dab-aa4f-dd93c0a86e64",
        "colab": {
          "base_uri": "https://localhost:8080/"
        }
      },
      "execution_count": 22,
      "outputs": [
        {
          "output_type": "stream",
          "name": "stdout",
          "text": [
            "your url is: https://nice-actors-reply.loca.lt\n",
            "^C\n"
          ]
        }
      ]
    },
    {
      "cell_type": "code",
      "source": [],
      "metadata": {
        "id": "nSaCp2c2bIAc"
      },
      "execution_count": null,
      "outputs": []
    }
  ]
}