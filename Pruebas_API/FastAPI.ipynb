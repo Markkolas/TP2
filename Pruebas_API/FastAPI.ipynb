{
  "nbformat": 4,
  "nbformat_minor": 0,
  "metadata": {
    "colab": {
      "provenance": [],
      "gpuType": "T4",
      "authorship_tag": "ABX9TyNQ+2klF5FB6Pledy+qBo5v",
      "include_colab_link": true
    },
    "kernelspec": {
      "name": "python3",
      "display_name": "Python 3"
    },
    "language_info": {
      "name": "python"
    },
    "accelerator": "GPU",
    "gpuClass": "standard"
  },
  "cells": [
    {
      "cell_type": "markdown",
      "metadata": {
        "id": "view-in-github",
        "colab_type": "text"
      },
      "source": [
        "<a href=\"https://colab.research.google.com/github/Markkolas/TP2/blob/jorge-test/Pruebas_API/FastAPI.ipynb\" target=\"_parent\"><img src=\"https://colab.research.google.com/assets/colab-badge.svg\" alt=\"Open In Colab\"/></a>"
      ]
    },
    {
      "cell_type": "code",
      "source": [
        "!git clone https://github.com/WelkinU/yolov5-fastapi-demo"
      ],
      "metadata": {
        "colab": {
          "base_uri": "https://localhost:8080/"
        },
        "id": "_bDgWE5fDsri",
        "outputId": "cb3dcd6d-63ac-41d7-c6e7-5319865dc35f"
      },
      "execution_count": 1,
      "outputs": [
        {
          "output_type": "stream",
          "name": "stdout",
          "text": [
            "Cloning into 'yolov5-fastapi-demo'...\n",
            "remote: Enumerating objects: 190, done.\u001b[K\n",
            "remote: Counting objects: 100% (62/62), done.\u001b[K\n",
            "remote: Compressing objects: 100% (10/10), done.\u001b[K\n",
            "remote: Total 190 (delta 55), reused 52 (delta 52), pack-reused 128\u001b[K\n",
            "Receiving objects: 100% (190/190), 1.50 MiB | 17.70 MiB/s, done.\n",
            "Resolving deltas: 100% (108/108), done.\n"
          ]
        }
      ]
    },
    {
      "cell_type": "code",
      "execution_count": 2,
      "metadata": {
        "colab": {
          "base_uri": "https://localhost:8080/"
        },
        "id": "9tQI6pAkCrmo",
        "outputId": "8e4c853a-2e39-48bc-90c6-70f451bef6c1"
      },
      "outputs": [
        {
          "output_type": "stream",
          "name": "stdout",
          "text": [
            "Looking in indexes: https://pypi.org/simple, https://us-python.pkg.dev/colab-wheels/public/simple/\n",
            "Collecting fastapi\n",
            "  Downloading fastapi-0.95.1-py3-none-any.whl (56 kB)\n",
            "\u001b[2K     \u001b[90m━━━━━━━━━━━━━━━━━━━━━━━━━━━━━━━━━━━━━━━━\u001b[0m \u001b[32m57.0/57.0 kB\u001b[0m \u001b[31m2.8 MB/s\u001b[0m eta \u001b[36m0:00:00\u001b[0m\n",
            "\u001b[?25hRequirement already satisfied: pydantic!=1.7,!=1.7.1,!=1.7.2,!=1.7.3,!=1.8,!=1.8.1,<2.0.0,>=1.6.2 in /usr/local/lib/python3.10/dist-packages (from fastapi) (1.10.7)\n",
            "Collecting starlette<0.27.0,>=0.26.1 (from fastapi)\n",
            "  Downloading starlette-0.26.1-py3-none-any.whl (66 kB)\n",
            "\u001b[2K     \u001b[90m━━━━━━━━━━━━━━━━━━━━━━━━━━━━━━━━━━━━━━━━\u001b[0m \u001b[32m66.9/66.9 kB\u001b[0m \u001b[31m5.4 MB/s\u001b[0m eta \u001b[36m0:00:00\u001b[0m\n",
            "\u001b[?25hRequirement already satisfied: typing-extensions>=4.2.0 in /usr/local/lib/python3.10/dist-packages (from pydantic!=1.7,!=1.7.1,!=1.7.2,!=1.7.3,!=1.8,!=1.8.1,<2.0.0,>=1.6.2->fastapi) (4.5.0)\n",
            "Requirement already satisfied: anyio<5,>=3.4.0 in /usr/local/lib/python3.10/dist-packages (from starlette<0.27.0,>=0.26.1->fastapi) (3.6.2)\n",
            "Requirement already satisfied: idna>=2.8 in /usr/local/lib/python3.10/dist-packages (from anyio<5,>=3.4.0->starlette<0.27.0,>=0.26.1->fastapi) (3.4)\n",
            "Requirement already satisfied: sniffio>=1.1 in /usr/local/lib/python3.10/dist-packages (from anyio<5,>=3.4.0->starlette<0.27.0,>=0.26.1->fastapi) (1.3.0)\n",
            "Installing collected packages: starlette, fastapi\n",
            "Successfully installed fastapi-0.95.1 starlette-0.26.1\n",
            "Looking in indexes: https://pypi.org/simple, https://us-python.pkg.dev/colab-wheels/public/simple/\n",
            "Collecting uvicorn\n",
            "  Downloading uvicorn-0.22.0-py3-none-any.whl (58 kB)\n",
            "\u001b[2K     \u001b[90m━━━━━━━━━━━━━━━━━━━━━━━━━━━━━━━━━━━━━━━━\u001b[0m \u001b[32m58.3/58.3 kB\u001b[0m \u001b[31m7.3 MB/s\u001b[0m eta \u001b[36m0:00:00\u001b[0m\n",
            "\u001b[?25hRequirement already satisfied: click>=7.0 in /usr/local/lib/python3.10/dist-packages (from uvicorn) (8.1.3)\n",
            "Collecting h11>=0.8 (from uvicorn)\n",
            "  Downloading h11-0.14.0-py3-none-any.whl (58 kB)\n",
            "\u001b[2K     \u001b[90m━━━━━━━━━━━━━━━━━━━━━━━━━━━━━━━━━━━━━━━━\u001b[0m \u001b[32m58.3/58.3 kB\u001b[0m \u001b[31m7.5 MB/s\u001b[0m eta \u001b[36m0:00:00\u001b[0m\n",
            "\u001b[?25hInstalling collected packages: h11, uvicorn\n",
            "Successfully installed h11-0.14.0 uvicorn-0.22.0\n",
            "Looking in indexes: https://pypi.org/simple, https://us-python.pkg.dev/colab-wheels/public/simple/\n",
            "Collecting pyngrok\n",
            "  Downloading pyngrok-6.0.0.tar.gz (681 kB)\n",
            "\u001b[2K     \u001b[90m━━━━━━━━━━━━━━━━━━━━━━━━━━━━━━━━━━━━━━\u001b[0m \u001b[32m681.2/681.2 kB\u001b[0m \u001b[31m17.8 MB/s\u001b[0m eta \u001b[36m0:00:00\u001b[0m\n",
            "\u001b[?25h  Preparing metadata (setup.py) ... \u001b[?25l\u001b[?25hdone\n",
            "Requirement already satisfied: PyYAML in /usr/local/lib/python3.10/dist-packages (from pyngrok) (6.0)\n",
            "Building wheels for collected packages: pyngrok\n",
            "  Building wheel for pyngrok (setup.py) ... \u001b[?25l\u001b[?25hdone\n",
            "  Created wheel for pyngrok: filename=pyngrok-6.0.0-py3-none-any.whl size=19867 sha256=86bde8f5b569a1197c3f126efe0234c6af546f1584ad86ef5b33a3ffcf7a204c\n",
            "  Stored in directory: /root/.cache/pip/wheels/5c/42/78/0c3d438d7f5730451a25f7ac6cbf4391759d22a67576ed7c2c\n",
            "Successfully built pyngrok\n",
            "Installing collected packages: pyngrok\n",
            "Successfully installed pyngrok-6.0.0\n",
            "Looking in indexes: https://pypi.org/simple, https://us-python.pkg.dev/colab-wheels/public/simple/\n",
            "Collecting python-multipart\n",
            "  Downloading python_multipart-0.0.6-py3-none-any.whl (45 kB)\n",
            "\u001b[2K     \u001b[90m━━━━━━━━━━━━━━━━━━━━━━━━━━━━━━━━━━━━━━━━\u001b[0m \u001b[32m45.7/45.7 kB\u001b[0m \u001b[31m3.2 MB/s\u001b[0m eta \u001b[36m0:00:00\u001b[0m\n",
            "\u001b[?25hInstalling collected packages: python-multipart\n",
            "Successfully installed python-multipart-0.0.6\n"
          ]
        }
      ],
      "source": [
        "!pip install fastapi\n",
        "!pip install uvicorn\n",
        "!pip install pyngrok\n",
        "!pip install python-multipart"
      ]
    },
    {
      "cell_type": "code",
      "source": [
        "from fastapi import FastAPI, Request, Form, File, UploadFile\n",
        "from fastapi.templating import Jinja2Templates\n",
        "from pydantic import BaseModel\n",
        "from typing import List, Optional\n",
        "\n",
        "import cv2\n",
        "import numpy as np\n",
        "\n",
        "import torch\n",
        "import base64\n",
        "import random\n",
        "\n",
        "import uvicorn\n",
        "import nest_asyncio\n",
        "from pyngrok import ngrok"
      ],
      "metadata": {
        "id": "Y5GIqP0hCuSp"
      },
      "execution_count": 3,
      "outputs": []
    },
    {
      "cell_type": "code",
      "source": [
        "app = FastAPI()\n",
        "templates = Jinja2Templates(directory = 'templates')\n",
        "\n",
        "model_selection_options = ['yolov5s','yolov5m','yolov5l','yolov5x','yolov5n',\n",
        "                        'yolov5n6','yolov5s6','yolov5m6','yolov5l6','yolov5x6']\n",
        "model_dict = {model_name: None for model_name in model_selection_options} #set up model cache\n",
        "\n",
        "colors = [tuple([random.randint(0, 255) for _ in range(3)]) for _ in range(100)] #for bbox plotting\n",
        "\n",
        "##############################################\n",
        "#-------------GET Request Routes--------------\n",
        "##############################################\n",
        "# @app.get(\"/\")\n",
        "# def home(request: Request):\n",
        "#     ''' Returns html jinja2 template render for home page form\n",
        "#     '''\n",
        "\n",
        "#     return templates.TemplateResponse('home.html', {\n",
        "#             \"request\": request,\n",
        "#             \"model_selection_options\": model_selection_options,\n",
        "#         })\n",
        "\n",
        "# @app.get(\"/drag_and_drop_detect\")\n",
        "# def drag_and_drop_detect(request: Request):\n",
        "#     ''' drag_and_drop_detect detect page. Uses a drag and drop\n",
        "#     file interface to upload files to the server, then renders \n",
        "#     the image + bboxes + labels on HTML canvas.\n",
        "#     '''\n",
        "\n",
        "#     return templates.TemplateResponse('drag_and_drop_detect.html', \n",
        "#             {\"request\": request,\n",
        "#             \"model_selection_options\": model_selection_options,\n",
        "#         })\n",
        "\n",
        "\n",
        "##############################################\n",
        "#------------POST Request Routes--------------\n",
        "##############################################\n",
        "@app.post(\"/\")\n",
        "def detect_with_server_side_rendering(request: Request,\n",
        "                        file_list: List[UploadFile] = File(...), \n",
        "                        model_name: str = Form(...),\n",
        "                        img_size: int = Form(640)):\n",
        "    \n",
        "    '''\n",
        "    Requires an image file upload, model name (ex. yolov5s). Optional image size parameter (Default 640).\n",
        "\n",
        "    Returns: HTML template render showing bbox data and base64 encoded image\n",
        "\n",
        "    Notes: \n",
        "    Intended to show how to do server sided image rendering + passing to client. But\n",
        "    generally, you will just want to return results as JSON and do the rendering client side.\n",
        "    See templates/drag_and_drop_detect.html for an example on how to do this.\n",
        "\n",
        "    If you just want JSON results, just return the results of the \n",
        "    results_to_json() function and skip the rest\n",
        "    '''\n",
        "\n",
        "    if model_dict[model_name] is None:\n",
        "        model_dict[model_name] = torch.hub.load('ultralytics/yolov5', model_name, pretrained=True)\n",
        "\n",
        "    img_batch = [cv2.imdecode(np.frombuffer(file.file.read(), np.uint8), cv2.IMREAD_COLOR)\n",
        "                    for file in file_list]\n",
        "\n",
        "    #create a copy that corrects for cv2.imdecode generating BGR images instead of RGB\n",
        "    #using cvtColor instead of [...,::-1] to keep array contiguous in RAM\n",
        "    img_batch_rgb = [cv2.cvtColor(img, cv2.COLOR_BGR2RGB) for img in img_batch]\n",
        "\n",
        "    results = model_dict[model_name](img_batch_rgb, size = img_size)\n",
        "\n",
        "    json_results = results_to_json(results,model_dict[model_name])\n",
        "\n",
        "    img_str_list = []\n",
        "    #plot bboxes on the image\n",
        "    for img, bbox_list in zip(img_batch, json_results):\n",
        "        for bbox in bbox_list:\n",
        "            label = f'{bbox[\"class_name\"]} {bbox[\"confidence\"]:.2f}'\n",
        "            plot_one_box(bbox['bbox'], img, label=label, \n",
        "                    color=colors[int(bbox['class'])], line_thickness=3)\n",
        "\n",
        "        img_str_list.append(base64EncodeImage(img))\n",
        "\n",
        "    #escape the apostrophes in the json string representation\n",
        "    encoded_json_results = str(json_results).replace(\"'\",r\"\\'\").replace('\"',r'\\\"')\n",
        "\n",
        "    return templates.TemplateResponse('show_results.html', {\n",
        "            'request': request,\n",
        "            'bbox_image_data_zipped': zip(img_str_list,json_results), #unzipped in jinja2 template\n",
        "            'bbox_data_str': encoded_json_results,\n",
        "        })\n",
        "\n",
        "\n",
        "@app.post(\"/detect\")\n",
        "def detect_via_api(request: Request,\n",
        "                file_list: List[UploadFile] = File(...), \n",
        "                model_name: str = Form(...),\n",
        "                img_size: Optional[int] = Form(640),\n",
        "                download_image: Optional[bool] = Form(False)):\n",
        "    \n",
        "    '''\n",
        "    Requires an image file upload, model name (ex. yolov5s). \n",
        "    Optional image size parameter (Default 640)\n",
        "    Optional download_image parameter that includes base64 encoded image(s) with bbox's drawn in the json response\n",
        "    \n",
        "    Returns: JSON results of running YOLOv5 on the uploaded image. Bbox format is X1Y1X2Y2. \n",
        "            If download_image parameter is True, images with\n",
        "            bboxes drawn are base64 encoded and returned inside the json response.\n",
        "\n",
        "    Intended for API usage.\n",
        "    '''\n",
        "\n",
        "    if model_dict[model_name] is None:\n",
        "        model_dict[model_name] = torch.hub.load('ultralytics/yolov5', model_name, pretrained=True)\n",
        "    \n",
        "    img_batch = [cv2.imdecode(np.frombuffer(file.file.read(), np.uint8), cv2.IMREAD_COLOR)\n",
        "                for file in file_list]\n",
        "\n",
        "    #create a copy that corrects for cv2.imdecode generating BGR images instead of RGB, \n",
        "    #using cvtColor instead of [...,::-1] to keep array contiguous in RAM\n",
        "    img_batch_rgb = [cv2.cvtColor(img, cv2.COLOR_BGR2RGB) for img in img_batch]\n",
        "    \n",
        "    results = model_dict[model_name](img_batch_rgb, size = img_size) \n",
        "    json_results = results_to_json(results,model_dict[model_name])\n",
        "\n",
        "    if download_image:\n",
        "        #server side render the image with bounding boxes\n",
        "        for idx, (img, bbox_list) in enumerate(zip(img_batch, json_results)):\n",
        "            for bbox in bbox_list:\n",
        "                label = f'{bbox[\"class_name\"]} {bbox[\"confidence\"]:.2f}'\n",
        "                plot_one_box(bbox['bbox'], img, label=label, \n",
        "                        color=colors[int(bbox['class'])], line_thickness=3)\n",
        "\n",
        "            payload = {'image_base64':base64EncodeImage(img)}\n",
        "            json_results[idx].append(payload)\n",
        "\n",
        "    encoded_json_results = str(json_results).replace(\"'\",r'\"')\n",
        "    return encoded_json_results\n",
        "    \n",
        "##############################################\n",
        "#--------------Helper Functions---------------\n",
        "##############################################\n",
        "\n",
        "def results_to_json(results, model):\n",
        "    ''' Converts yolo model output to json (list of list of dicts)'''\n",
        "    return [\n",
        "                [\n",
        "                    {\n",
        "                    \"class\": int(pred[5]),\n",
        "                    \"class_name\": model.model.names[int(pred[5])],\n",
        "                    \"bbox\": [int(x) for x in pred[:4].tolist()], #convert bbox results to int from float\n",
        "                    \"confidence\": float(pred[4]),\n",
        "                    }\n",
        "                for pred in result\n",
        "                ]\n",
        "            for result in results.xyxy\n",
        "            ]\n",
        "\n",
        "\n",
        "def plot_one_box(x, im, color=(128, 128, 128), label=None, line_thickness=3):\n",
        "    # Directly copied from: https://github.com/ultralytics/yolov5/blob/cd540d8625bba8a05329ede3522046ee53eb349d/utils/plots.py\n",
        "    # Plots one bounding box on image 'im' using OpenCV\n",
        "    assert im.data.contiguous, 'Image not contiguous. Apply np.ascontiguousarray(im) to plot_on_box() input image.'\n",
        "    tl = line_thickness or round(0.002 * (im.shape[0] + im.shape[1]) / 2) + 1  # line/font thickness\n",
        "    c1, c2 = (int(x[0]), int(x[1])), (int(x[2]), int(x[3]))\n",
        "    cv2.rectangle(im, c1, c2, color, thickness=tl, lineType=cv2.LINE_AA)\n",
        "    if label:\n",
        "        tf = max(tl - 1, 1)  # font thickness\n",
        "        t_size = cv2.getTextSize(label, 0, fontScale=tl / 3, thickness=tf)[0]\n",
        "        c2 = c1[0] + t_size[0], c1[1] - t_size[1] - 3\n",
        "        cv2.rectangle(im, c1, c2, color, -1, cv2.LINE_AA)  # filled\n",
        "        cv2.putText(im, label, (c1[0], c1[1] - 2), 0, tl / 3, [225, 255, 255], thickness=tf, lineType=cv2.LINE_AA)\n",
        "\n",
        "\n",
        "def base64EncodeImage(img):\n",
        "    ''' Takes an input image and returns a base64 encoded string representation of that image (jpg format)'''\n",
        "    _, im_arr = cv2.imencode('.jpg', img)\n",
        "    im_b64 = base64.b64encode(im_arr.tobytes()).decode('utf-8')\n",
        "\n",
        "    return im_b64"
      ],
      "metadata": {
        "id": "rW9fc38PC8IZ"
      },
      "execution_count": 8,
      "outputs": []
    },
    {
      "cell_type": "code",
      "source": [
        "ngrok_tunnel = ngrok.connect(5555)\n",
        "print('Public URL:', ngrok_tunnel.public_url)\n",
        "nest_asyncio.apply()\n",
        "uvicorn.run(app, port=5555)"
      ],
      "metadata": {
        "colab": {
          "base_uri": "https://localhost:8080/"
        },
        "id": "vH-YDrmcC88Z",
        "outputId": "ac51114c-2565-48ae-d528-bdb9ef578293"
      },
      "execution_count": 11,
      "outputs": [
        {
          "output_type": "stream",
          "name": "stderr",
          "text": [
            "WARNING:pyngrok.process.ngrok:t=2023-05-11T19:44:46+0000 lvl=warn msg=\"ngrok config file found at legacy location, move to XDG location\" xdg_path=/root/.config/ngrok/ngrok.yml legacy_path=/root/.ngrok2/ngrok.yml\n"
          ]
        },
        {
          "output_type": "stream",
          "name": "stdout",
          "text": [
            "Public URL: https://ee74-35-247-66-48.ngrok.io\n"
          ]
        },
        {
          "output_type": "stream",
          "name": "stderr",
          "text": [
            "INFO:     Started server process [567]\n",
            "INFO:     Waiting for application startup.\n",
            "INFO:     Application startup complete.\n",
            "INFO:     Uvicorn running on http://127.0.0.1:5555 (Press CTRL+C to quit)\n",
            "INFO:     Shutting down\n",
            "INFO:     Waiting for application shutdown.\n",
            "INFO:     Application shutdown complete.\n",
            "INFO:     Finished server process [567]\n"
          ]
        }
      ]
    }
  ]
}