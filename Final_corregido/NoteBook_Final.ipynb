{
  "nbformat": 4,
  "nbformat_minor": 0,
  "metadata": {
    "colab": {
      "provenance": [],
      "include_colab_link": true
    },
    "kernelspec": {
      "name": "python3",
      "display_name": "Python 3"
    },
    "language_info": {
      "name": "python"
    },
    "accelerator": "GPU",
    "gpuClass": "standard"
  },
  "cells": [
    {
      "cell_type": "markdown",
      "metadata": {
        "id": "view-in-github",
        "colab_type": "text"
      },
      "source": [
        "<a href=\"https://colab.research.google.com/github/Markkolas/TP2/blob/jorge-test/Final_corregido/NoteBook_Final.ipynb\" target=\"_parent\"><img src=\"https://colab.research.google.com/assets/colab-badge.svg\" alt=\"Open In Colab\"/></a>"
      ]
    },
    {
      "cell_type": "code",
      "execution_count": 1,
      "metadata": {
        "id": "n_Ko1xe5vmSb"
      },
      "outputs": [],
      "source": [
        "%%capture\n",
        "from google.colab import drive\n",
        "drive.mount('/content/drive')"
      ]
    },
    {
      "cell_type": "code",
      "source": [
        "%%capture\n",
        "import torch\n",
        "torch.cuda.is_available()"
      ],
      "metadata": {
        "id": "BdaVGv8rvrD8"
      },
      "execution_count": 2,
      "outputs": []
    },
    {
      "cell_type": "code",
      "source": [
        "%%capture\n",
        "!pip3 install torch torchvision torchaudio "
      ],
      "metadata": {
        "id": "1v0wh0Kzvs96"
      },
      "execution_count": 3,
      "outputs": []
    },
    {
      "cell_type": "code",
      "source": [
        "%%capture\n",
        "!git clone https://github.com/ultralytics/yolov5"
      ],
      "metadata": {
        "id": "RKvthXUevu46"
      },
      "execution_count": 4,
      "outputs": []
    },
    {
      "cell_type": "code",
      "source": [
        "%%capture\n",
        "%cd /content/yolov5\n",
        "!git pull\n",
        "%cd ../"
      ],
      "metadata": {
        "id": "cmzb83PUv-ky"
      },
      "execution_count": 5,
      "outputs": []
    },
    {
      "cell_type": "code",
      "source": [
        "%%capture\n",
        "!pip install -r yolov5/requirements.txt"
      ],
      "metadata": {
        "id": "HQPzl6QzwAAa"
      },
      "execution_count": 6,
      "outputs": []
    },
    {
      "cell_type": "code",
      "source": [
        "import torch\n",
        "from matplotlib import pyplot as plt\n",
        "import numpy as np\n",
        "import cv2 #Para abrir webcam\n",
        "# cv2.imshow() is disabled in Colab, because it causes Jupyter sessionsto crash, consider using cv2_imshow \n",
        "from google.colab.patches import cv2_imshow \n",
        "import sys # to access the system\n",
        "\n",
        "# Esta línea de código establece una variable de entorno llamada KMP_DUPLICATE_LIB_OK con el valor \"True\", lo que significa que permite la carga de bibliotecas duplicadas en el entorno de Python. Esto es útil para algunas bibliotecas de Machine Learning que usan OpenMP para acelerar el cómputo.\n",
        "import os    \n",
        "os.environ['KMP_DUPLICATE_LIB_OK'] = 'True'"
      ],
      "metadata": {
        "id": "uovDTFbCwBlL"
      },
      "execution_count": 7,
      "outputs": []
    },
    {
      "cell_type": "code",
      "source": [
        "import os\n",
        "import random\n",
        "import shutil\n",
        "\n",
        "# Creamos los directorios necesarios\n",
        "os.makedirs('/content/data/train/images', exist_ok=True)\n",
        "os.makedirs('/content/data/train/labels', exist_ok=True)\n",
        "os.makedirs('/content/data/val/images', exist_ok=True)\n",
        "os.makedirs('/content/data/val/labels', exist_ok=True)\n",
        "os.makedirs('/content/data/test/images', exist_ok=True)\n",
        "os.makedirs('/content/data/test/labels', exist_ok=True)\n",
        "\n",
        "dest_train_Image = \"/content/data/train/images/\"\n",
        "dest_train_Label = \"/content/data/train/labels/\"\n",
        "dest_val_Image = \"/content/data/val/images/\"\n",
        "dest_val_Label = \"/content/data/val/labels/\"\n",
        "dest_test_Image = \"/content/data/test/images/\"\n",
        "dest_test_Label = \"/content/data/test/labels/\"\n",
        "\n",
        "\n",
        "with os.scandir('/content/drive/MyDrive/IA/Datasets/Final_corregido/train/images') as entries:\n",
        "  for entry in entries:\n",
        "    shutil.copy2(entry.path, dest_train_Image)\n",
        "\n",
        "with os.scandir('/content/drive/MyDrive/IA/Datasets/Final_corregido/train/labels') as entries:\n",
        "  for entry in entries:\n",
        "    shutil.copy2(entry.path, dest_train_Label)\n",
        "\n",
        "with os.scandir('/content/drive/MyDrive/IA/Datasets/Final_corregido/val/images') as entries:\n",
        "  for entry in entries:\n",
        "    shutil.copy2(entry.path, dest_val_Image)\n",
        "\n",
        "with os.scandir('/content/drive/MyDrive/IA/Datasets/Final_corregido/val/labels') as entries:\n",
        "  for entry in entries:\n",
        "    shutil.copy2(entry.path, dest_val_Label)\n",
        "\n",
        "with os.scandir('/content/drive/MyDrive/IA/Datasets/Final_corregido/test/images') as entries:\n",
        "  for entry in entries:\n",
        "    shutil.copy2(entry.path, dest_test_Image)\n",
        "\n",
        "with os.scandir('/content/drive/MyDrive/IA/Datasets/Final_corregido/test/labels') as entries:\n",
        "  for entry in entries:\n",
        "    shutil.copy2(entry.path, dest_test_Label)"
      ],
      "metadata": {
        "id": "odDjyoF6wEAz"
      },
      "execution_count": 8,
      "outputs": []
    },
    {
      "cell_type": "code",
      "source": [
        "f= open(\"yolov5/data/Final_corregido.yaml\",\"w+\")\n",
        "\n",
        "f.write(\"path: ../data \\ntrain: train/images/ \\nval: val/images \\ntest: test/images \\n\\nnc: 4 \\n\\nnames: ['Obligacion', 'Peligro', 'Prohibicion', 'STOP']\")\n",
        "\n",
        "f.close()"
      ],
      "metadata": {
        "id": "PRatlsX1wg2D"
      },
      "execution_count": 9,
      "outputs": []
    },
    {
      "cell_type": "markdown",
      "source": [
        "# **Este paso es opcional, con esto primero se consiguen los mejores hyperparametros y luego se entrena directamente**"
      ],
      "metadata": {
        "id": "06h3di7dbCbI"
      }
    },
    {
      "cell_type": "code",
      "source": [
        "# shutil.copy2(\"/content/yolov5/requirements.txt\", \"/content/requirements.txt\")\n",
        "# !cd yolov5 && python train.py --evolve --img 640 --batch-size 16 --epochs 150 --data Final_corregido.yaml --weights yolov5s.pt --save-period 10 --project \"/content/drive/MyDrive/IA/Pesos_yoloV5/Final_corregido\" --name \"Small\""
      ],
      "metadata": {
        "id": "VtDM-QIWhDXI"
      },
      "execution_count": null,
      "outputs": []
    },
    {
      "cell_type": "code",
      "source": [
        "# shutil.copy2(\"/content/yolov5/requirements.txt\", \"/content/requirements.txt\")\n",
        "# !cd yolov5 && python train.py --evolve --img 640 --batch-size 16 --epochs 150 --data Final_corregido.yaml --weights yolov5n.pt --save-period 10 --project \"/content/drive/MyDrive/IA/Pesos_yoloV5/Final_corregido\" --name \"Nano\""
      ],
      "metadata": {
        "id": "_AqZZgVub9Z_"
      },
      "execution_count": 11,
      "outputs": []
    },
    {
      "cell_type": "markdown",
      "source": [
        "# **Si hacemos este paso directamente, entrenamos sin optimizar los hyperparametros**"
      ],
      "metadata": {
        "id": "jf0lN2eEbRGw"
      }
    },
    {
      "cell_type": "code",
      "source": [
        "shutil.copy2(\"/content/yolov5/requirements.txt\", \"/content/requirements.txt\")\n",
        "!cd yolov5 && python train.py --img 640 --batch-size 64 --epochs 150 --data Final_corregido.yaml --weights yolov5s.pt --save-period 10 --project \"/content/drive/MyDrive/IA/Pesos_yoloV5/Final_corregido\" --name \"Small\""
      ],
      "metadata": {
        "id": "OhLeJU-OxGtV",
        "outputId": "6b0e59e6-0b2b-4836-81fb-be4a64701434",
        "colab": {
          "base_uri": "https://localhost:8080/"
        }
      },
      "execution_count": 20,
      "outputs": [
        {
          "output_type": "stream",
          "name": "stdout",
          "text": [
            "\u001b[34m\u001b[1mtrain: \u001b[0mweights=yolov5s.pt, cfg=, data=Final_corregido.yaml, hyp=data/hyps/hyp.scratch-low.yaml, epochs=150, batch_size=64, imgsz=640, rect=False, resume=False, nosave=False, noval=False, noautoanchor=False, noplots=False, evolve=None, bucket=, cache=None, image_weights=False, device=, multi_scale=False, single_cls=False, optimizer=SGD, sync_bn=False, workers=8, project=/content/drive/MyDrive/IA/Pesos_yoloV5/Final_corregido, name=Small, exist_ok=False, quad=False, cos_lr=False, label_smoothing=0.0, patience=100, freeze=[0], save_period=10, seed=0, local_rank=-1, entity=None, upload_dataset=False, bbox_interval=-1, artifact_alias=latest\n",
            "\u001b[34m\u001b[1mgithub: \u001b[0mup to date with https://github.com/ultralytics/yolov5 ✅\n",
            "YOLOv5 🚀 v7.0-172-gc3c1304 Python-3.10.11 torch-2.0.1+cu118 CUDA:0 (Tesla T4, 15102MiB)\n",
            "\n",
            "\u001b[34m\u001b[1mhyperparameters: \u001b[0mlr0=0.01, lrf=0.01, momentum=0.937, weight_decay=0.0005, warmup_epochs=3.0, warmup_momentum=0.8, warmup_bias_lr=0.1, box=0.05, cls=0.5, cls_pw=1.0, obj=1.0, obj_pw=1.0, iou_t=0.2, anchor_t=4.0, fl_gamma=0.0, hsv_h=0.015, hsv_s=0.7, hsv_v=0.4, degrees=0.0, translate=0.1, scale=0.5, shear=0.0, perspective=0.0, flipud=0.0, fliplr=0.5, mosaic=1.0, mixup=0.0, copy_paste=0.0\n",
            "\u001b[34m\u001b[1mClearML: \u001b[0mrun 'pip install clearml' to automatically track, visualize and remotely train YOLOv5 🚀 in ClearML\n",
            "\u001b[34m\u001b[1mComet: \u001b[0mrun 'pip install comet_ml' to automatically track and visualize YOLOv5 🚀 runs in Comet\n",
            "\u001b[34m\u001b[1mTensorBoard: \u001b[0mStart with 'tensorboard --logdir /content/drive/MyDrive/IA/Pesos_yoloV5/Final_corregido', view at http://localhost:6006/\n",
            "Overriding model.yaml nc=80 with nc=4\n",
            "\n",
            "                 from  n    params  module                                  arguments                     \n",
            "  0                -1  1      3520  models.common.Conv                      [3, 32, 6, 2, 2]              \n",
            "  1                -1  1     18560  models.common.Conv                      [32, 64, 3, 2]                \n",
            "  2                -1  1     18816  models.common.C3                        [64, 64, 1]                   \n",
            "  3                -1  1     73984  models.common.Conv                      [64, 128, 3, 2]               \n",
            "  4                -1  2    115712  models.common.C3                        [128, 128, 2]                 \n",
            "  5                -1  1    295424  models.common.Conv                      [128, 256, 3, 2]              \n",
            "  6                -1  3    625152  models.common.C3                        [256, 256, 3]                 \n",
            "  7                -1  1   1180672  models.common.Conv                      [256, 512, 3, 2]              \n",
            "  8                -1  1   1182720  models.common.C3                        [512, 512, 1]                 \n",
            "  9                -1  1    656896  models.common.SPPF                      [512, 512, 5]                 \n",
            " 10                -1  1    131584  models.common.Conv                      [512, 256, 1, 1]              \n",
            " 11                -1  1         0  torch.nn.modules.upsampling.Upsample    [None, 2, 'nearest']          \n",
            " 12           [-1, 6]  1         0  models.common.Concat                    [1]                           \n",
            " 13                -1  1    361984  models.common.C3                        [512, 256, 1, False]          \n",
            " 14                -1  1     33024  models.common.Conv                      [256, 128, 1, 1]              \n",
            " 15                -1  1         0  torch.nn.modules.upsampling.Upsample    [None, 2, 'nearest']          \n",
            " 16           [-1, 4]  1         0  models.common.Concat                    [1]                           \n",
            " 17                -1  1     90880  models.common.C3                        [256, 128, 1, False]          \n",
            " 18                -1  1    147712  models.common.Conv                      [128, 128, 3, 2]              \n",
            " 19          [-1, 14]  1         0  models.common.Concat                    [1]                           \n",
            " 20                -1  1    296448  models.common.C3                        [256, 256, 1, False]          \n",
            " 21                -1  1    590336  models.common.Conv                      [256, 256, 3, 2]              \n",
            " 22          [-1, 10]  1         0  models.common.Concat                    [1]                           \n",
            " 23                -1  1   1182720  models.common.C3                        [512, 512, 1, False]          \n",
            " 24      [17, 20, 23]  1     24273  models.yolo.Detect                      [4, [[10, 13, 16, 30, 33, 23], [30, 61, 62, 45, 59, 119], [116, 90, 156, 198, 373, 326]], [128, 256, 512]]\n",
            "Model summary: 214 layers, 7030417 parameters, 7030417 gradients, 16.0 GFLOPs\n",
            "\n",
            "Transferred 343/349 items from yolov5s.pt\n",
            "\u001b[34m\u001b[1mAMP: \u001b[0mchecks passed ✅\n",
            "\u001b[34m\u001b[1moptimizer:\u001b[0m SGD(lr=0.01) with parameter groups 57 weight(decay=0.0), 60 weight(decay=0.0005), 60 bias\n",
            "\u001b[34m\u001b[1malbumentations: \u001b[0mBlur(p=0.01, blur_limit=(3, 7)), MedianBlur(p=0.01, blur_limit=(3, 7)), ToGray(p=0.01), CLAHE(p=0.01, clip_limit=(1, 4.0), tile_grid_size=(8, 8))\n",
            "\u001b[34m\u001b[1mtrain: \u001b[0mScanning /content/data/train/labels.cache... 984 images, 180 backgrounds, 0 corrupt: 100% 984/984 [00:00<?, ?it/s]\n",
            "\u001b[34m\u001b[1mval: \u001b[0mScanning /content/data/val/labels.cache... 70 images, 8 backgrounds, 0 corrupt: 100% 70/70 [00:00<?, ?it/s]\n",
            "\n",
            "\u001b[34m\u001b[1mAutoAnchor: \u001b[0m5.92 anchors/target, 1.000 Best Possible Recall (BPR). Current anchors are a good fit to dataset ✅\n",
            "Plotting labels to /content/drive/MyDrive/IA/Pesos_yoloV5/Final_corregido/Small2/labels.jpg... \n",
            "Image sizes 640 train, 640 val\n",
            "Using 2 dataloader workers\n",
            "Logging results to \u001b[1m/content/drive/MyDrive/IA/Pesos_yoloV5/Final_corregido/Small2\u001b[0m\n",
            "Starting training for 150 epochs...\n",
            "\n",
            "      Epoch    GPU_mem   box_loss   obj_loss   cls_loss  Instances       Size\n",
            "      0/149      13.1G     0.1185    0.03846    0.04589        109        640: 100% 16/16 [00:27<00:00,  1.71s/it]\n",
            "                 Class     Images  Instances          P          R      mAP50   mAP50-95: 100% 1/1 [00:01<00:00,  1.89s/it]\n",
            "                   all         70        263    0.00249      0.167    0.00838    0.00193\n",
            "\n",
            "      Epoch    GPU_mem   box_loss   obj_loss   cls_loss  Instances       Size\n",
            "      1/149      13.1G    0.08928    0.04207    0.04064        108        640: 100% 16/16 [00:27<00:00,  1.74s/it]\n",
            "                 Class     Images  Instances          P          R      mAP50   mAP50-95: 100% 1/1 [00:02<00:00,  2.09s/it]\n",
            "                   all         70        263      0.158       0.33      0.182     0.0595\n",
            "\n",
            "      Epoch    GPU_mem   box_loss   obj_loss   cls_loss  Instances       Size\n",
            "      2/149      13.1G    0.06972    0.03545    0.03718        116        640: 100% 16/16 [00:25<00:00,  1.61s/it]\n",
            "                 Class     Images  Instances          P          R      mAP50   mAP50-95: 100% 1/1 [00:02<00:00,  2.61s/it]\n",
            "                   all         70        263      0.291      0.492      0.275     0.0968\n",
            "\n",
            "      Epoch    GPU_mem   box_loss   obj_loss   cls_loss  Instances       Size\n",
            "      3/149      13.1G    0.06596    0.02956    0.03177        132        640: 100% 16/16 [00:25<00:00,  1.62s/it]\n",
            "                 Class     Images  Instances          P          R      mAP50   mAP50-95: 100% 1/1 [00:02<00:00,  2.14s/it]\n",
            "                   all         70        263      0.411      0.442      0.394      0.159\n",
            "\n",
            "      Epoch    GPU_mem   box_loss   obj_loss   cls_loss  Instances       Size\n",
            "      4/149      13.1G    0.06376    0.02523    0.02619         87        640: 100% 16/16 [00:25<00:00,  1.60s/it]\n",
            "                 Class     Images  Instances          P          R      mAP50   mAP50-95: 100% 1/1 [00:01<00:00,  1.84s/it]\n",
            "                   all         70        263       0.33      0.594      0.406      0.125\n",
            "\n",
            "      Epoch    GPU_mem   box_loss   obj_loss   cls_loss  Instances       Size\n",
            "      5/149      13.1G    0.06036    0.02238    0.02237        134        640: 100% 16/16 [00:25<00:00,  1.61s/it]\n",
            "                 Class     Images  Instances          P          R      mAP50   mAP50-95: 100% 1/1 [00:02<00:00,  2.04s/it]\n",
            "                   all         70        263      0.297      0.711      0.354      0.139\n",
            "\n",
            "      Epoch    GPU_mem   box_loss   obj_loss   cls_loss  Instances       Size\n",
            "      6/149      13.1G    0.05674    0.02083     0.0178         83        640: 100% 16/16 [00:25<00:00,  1.61s/it]\n",
            "                 Class     Images  Instances          P          R      mAP50   mAP50-95: 100% 1/1 [00:01<00:00,  1.78s/it]\n",
            "                   all         70        263      0.505      0.708      0.619       0.32\n",
            "\n",
            "      Epoch    GPU_mem   box_loss   obj_loss   cls_loss  Instances       Size\n",
            "      7/149      13.1G    0.05073    0.01956    0.01387         73        640: 100% 16/16 [00:25<00:00,  1.58s/it]\n",
            "                 Class     Images  Instances          P          R      mAP50   mAP50-95: 100% 1/1 [00:01<00:00,  1.69s/it]\n",
            "                   all         70        263      0.494      0.713      0.599      0.273\n",
            "\n",
            "      Epoch    GPU_mem   box_loss   obj_loss   cls_loss  Instances       Size\n",
            "      8/149      13.1G    0.04693    0.01894    0.01028        120        640: 100% 16/16 [00:28<00:00,  1.75s/it]\n",
            "                 Class     Images  Instances          P          R      mAP50   mAP50-95: 100% 1/1 [00:01<00:00,  1.91s/it]\n",
            "                   all         70        263      0.752      0.793      0.827      0.462\n",
            "\n",
            "      Epoch    GPU_mem   box_loss   obj_loss   cls_loss  Instances       Size\n",
            "      9/149      13.1G     0.0441    0.01827   0.008998         87        640: 100% 16/16 [00:25<00:00,  1.62s/it]\n",
            "                 Class     Images  Instances          P          R      mAP50   mAP50-95: 100% 1/1 [00:01<00:00,  1.91s/it]\n",
            "                   all         70        263      0.769      0.805      0.842      0.424\n",
            "\n",
            "      Epoch    GPU_mem   box_loss   obj_loss   cls_loss  Instances       Size\n",
            "     10/149      13.1G    0.04212    0.01765   0.007784        158        640: 100% 16/16 [00:25<00:00,  1.62s/it]\n",
            "                 Class     Images  Instances          P          R      mAP50   mAP50-95: 100% 1/1 [00:01<00:00,  1.63s/it]\n",
            "                   all         70        263      0.799      0.855      0.899      0.504\n",
            "\n",
            "      Epoch    GPU_mem   box_loss   obj_loss   cls_loss  Instances       Size\n",
            "     11/149      13.1G    0.04004    0.01719   0.007065        123        640: 100% 16/16 [00:25<00:00,  1.59s/it]\n",
            "                 Class     Images  Instances          P          R      mAP50   mAP50-95: 100% 1/1 [00:01<00:00,  1.40s/it]\n",
            "                   all         70        263      0.898      0.846      0.929      0.552\n",
            "\n",
            "      Epoch    GPU_mem   box_loss   obj_loss   cls_loss  Instances       Size\n",
            "     12/149      13.1G    0.03848    0.01719   0.006513        113        640: 100% 16/16 [00:25<00:00,  1.57s/it]\n",
            "                 Class     Images  Instances          P          R      mAP50   mAP50-95: 100% 1/1 [00:01<00:00,  1.29s/it]\n",
            "                   all         70        263      0.885      0.878       0.93      0.532\n",
            "\n",
            "      Epoch    GPU_mem   box_loss   obj_loss   cls_loss  Instances       Size\n",
            "     13/149      13.1G    0.03835    0.01729    0.00662        131        640: 100% 16/16 [00:26<00:00,  1.69s/it]\n",
            "                 Class     Images  Instances          P          R      mAP50   mAP50-95: 100% 1/1 [00:01<00:00,  1.21s/it]\n",
            "                   all         70        263       0.86      0.864      0.918      0.547\n",
            "\n",
            "      Epoch    GPU_mem   box_loss   obj_loss   cls_loss  Instances       Size\n",
            "     14/149      13.1G     0.0373    0.01635   0.006603        106        640: 100% 16/16 [00:29<00:00,  1.82s/it]\n",
            "                 Class     Images  Instances          P          R      mAP50   mAP50-95: 100% 1/1 [00:01<00:00,  1.76s/it]\n",
            "                   all         70        263      0.867      0.875      0.932      0.587\n",
            "\n",
            "      Epoch    GPU_mem   box_loss   obj_loss   cls_loss  Instances       Size\n",
            "     15/149      13.1G    0.03624    0.01623    0.00568        106        640: 100% 16/16 [00:25<00:00,  1.60s/it]\n",
            "                 Class     Images  Instances          P          R      mAP50   mAP50-95: 100% 1/1 [00:01<00:00,  1.91s/it]\n",
            "                   all         70        263      0.898      0.869      0.923      0.556\n",
            "\n",
            "      Epoch    GPU_mem   box_loss   obj_loss   cls_loss  Instances       Size\n",
            "     16/149      13.1G    0.03555     0.0166   0.005593        137        640: 100% 16/16 [00:26<00:00,  1.65s/it]\n",
            "                 Class     Images  Instances          P          R      mAP50   mAP50-95: 100% 1/1 [00:01<00:00,  1.66s/it]\n",
            "                   all         70        263      0.901       0.89      0.946      0.534\n",
            "\n",
            "      Epoch    GPU_mem   box_loss   obj_loss   cls_loss  Instances       Size\n",
            "     17/149      13.1G    0.03549     0.0159   0.004867        103        640: 100% 16/16 [00:26<00:00,  1.63s/it]\n",
            "                 Class     Images  Instances          P          R      mAP50   mAP50-95: 100% 1/1 [00:01<00:00,  1.56s/it]\n",
            "                   all         70        263      0.933      0.864      0.955      0.631\n",
            "\n",
            "      Epoch    GPU_mem   box_loss   obj_loss   cls_loss  Instances       Size\n",
            "     18/149      13.1G    0.03455    0.01564   0.004783         85        640: 100% 16/16 [00:26<00:00,  1.65s/it]\n",
            "                 Class     Images  Instances          P          R      mAP50   mAP50-95: 100% 1/1 [00:01<00:00,  1.47s/it]\n",
            "                   all         70        263      0.913      0.912      0.939      0.584\n",
            "\n",
            "      Epoch    GPU_mem   box_loss   obj_loss   cls_loss  Instances       Size\n",
            "     19/149      13.1G    0.03416    0.01691   0.004651        153        640: 100% 16/16 [00:26<00:00,  1.67s/it]\n",
            "                 Class     Images  Instances          P          R      mAP50   mAP50-95: 100% 1/1 [00:01<00:00,  1.38s/it]\n",
            "                   all         70        263      0.917      0.896      0.943      0.641\n",
            "\n",
            "      Epoch    GPU_mem   box_loss   obj_loss   cls_loss  Instances       Size\n",
            "     20/149      13.1G    0.03288     0.0158   0.004925         94        640: 100% 16/16 [00:29<00:00,  1.81s/it]\n",
            "                 Class     Images  Instances          P          R      mAP50   mAP50-95: 100% 1/1 [00:01<00:00,  1.29s/it]\n",
            "                   all         70        263      0.904      0.891      0.942      0.565\n",
            "\n",
            "      Epoch    GPU_mem   box_loss   obj_loss   cls_loss  Instances       Size\n",
            "     21/149      13.1G    0.03216    0.01522   0.004807         76        640: 100% 16/16 [00:27<00:00,  1.71s/it]\n",
            "                 Class     Images  Instances          P          R      mAP50   mAP50-95: 100% 1/1 [00:01<00:00,  1.13s/it]\n",
            "                   all         70        263      0.875      0.872      0.932      0.612\n",
            "\n",
            "      Epoch    GPU_mem   box_loss   obj_loss   cls_loss  Instances       Size\n",
            "     22/149      13.1G    0.03291    0.01626   0.005014        119        640: 100% 16/16 [00:27<00:00,  1.71s/it]\n",
            "                 Class     Images  Instances          P          R      mAP50   mAP50-95: 100% 1/1 [00:01<00:00,  1.05s/it]\n",
            "                   all         70        263      0.906      0.838       0.93      0.603\n",
            "\n",
            "      Epoch    GPU_mem   box_loss   obj_loss   cls_loss  Instances       Size\n",
            "     23/149      13.1G     0.0332    0.01517   0.004769         89        640: 100% 16/16 [00:26<00:00,  1.67s/it]\n",
            "                 Class     Images  Instances          P          R      mAP50   mAP50-95: 100% 1/1 [00:01<00:00,  1.25s/it]\n",
            "                   all         70        263      0.903      0.905      0.947      0.559\n",
            "\n",
            "      Epoch    GPU_mem   box_loss   obj_loss   cls_loss  Instances       Size\n",
            "     24/149      13.1G    0.03288    0.01592   0.004163         78        640: 100% 16/16 [00:27<00:00,  1.74s/it]\n",
            "                 Class     Images  Instances          P          R      mAP50   mAP50-95: 100% 1/1 [00:01<00:00,  1.16s/it]\n",
            "                   all         70        263      0.899      0.921      0.951      0.637\n",
            "\n",
            "      Epoch    GPU_mem   box_loss   obj_loss   cls_loss  Instances       Size\n",
            "     25/149      13.1G    0.03149    0.01574   0.004148        104        640: 100% 16/16 [00:27<00:00,  1.71s/it]\n",
            "                 Class     Images  Instances          P          R      mAP50   mAP50-95: 100% 1/1 [00:01<00:00,  1.26s/it]\n",
            "                   all         70        263       0.89      0.911       0.95      0.617\n",
            "\n",
            "      Epoch    GPU_mem   box_loss   obj_loss   cls_loss  Instances       Size\n",
            "     26/149      13.1G    0.03128    0.01566   0.004397        131        640: 100% 16/16 [00:29<00:00,  1.84s/it]\n",
            "                 Class     Images  Instances          P          R      mAP50   mAP50-95: 100% 1/1 [00:01<00:00,  1.79s/it]\n",
            "                   all         70        263      0.896      0.906       0.95      0.615\n",
            "\n",
            "      Epoch    GPU_mem   box_loss   obj_loss   cls_loss  Instances       Size\n",
            "     27/149      13.1G    0.03117    0.01493   0.003651         95        640: 100% 16/16 [00:26<00:00,  1.64s/it]\n",
            "                 Class     Images  Instances          P          R      mAP50   mAP50-95: 100% 1/1 [00:01<00:00,  1.54s/it]\n",
            "                   all         70        263      0.904      0.902      0.954      0.664\n",
            "\n",
            "      Epoch    GPU_mem   box_loss   obj_loss   cls_loss  Instances       Size\n",
            "     28/149      13.1G    0.03035    0.01445   0.003908         93        640: 100% 16/16 [00:25<00:00,  1.60s/it]\n",
            "                 Class     Images  Instances          P          R      mAP50   mAP50-95: 100% 1/1 [00:01<00:00,  1.51s/it]\n",
            "                   all         70        263       0.96      0.862      0.956      0.647\n",
            "\n",
            "      Epoch    GPU_mem   box_loss   obj_loss   cls_loss  Instances       Size\n",
            "     29/149      13.1G    0.03058    0.01541   0.003641        124        640: 100% 16/16 [00:26<00:00,  1.68s/it]\n",
            "                 Class     Images  Instances          P          R      mAP50   mAP50-95: 100% 1/1 [00:01<00:00,  1.58s/it]\n",
            "                   all         70        263      0.928      0.911      0.957      0.637\n",
            "\n",
            "      Epoch    GPU_mem   box_loss   obj_loss   cls_loss  Instances       Size\n",
            "     30/149      13.1G    0.02972    0.01508   0.003394        111        640: 100% 16/16 [00:26<00:00,  1.64s/it]\n",
            "                 Class     Images  Instances          P          R      mAP50   mAP50-95: 100% 1/1 [00:01<00:00,  1.23s/it]\n",
            "                   all         70        263      0.934      0.915      0.958      0.661\n",
            "\n",
            "      Epoch    GPU_mem   box_loss   obj_loss   cls_loss  Instances       Size\n",
            "     31/149      13.1G    0.02941    0.01445   0.003814         96        640: 100% 16/16 [00:26<00:00,  1.68s/it]\n",
            "                 Class     Images  Instances          P          R      mAP50   mAP50-95: 100% 1/1 [00:01<00:00,  1.10s/it]\n",
            "                   all         70        263      0.882      0.932      0.944      0.631\n",
            "\n",
            "      Epoch    GPU_mem   box_loss   obj_loss   cls_loss  Instances       Size\n",
            "     32/149      13.1G    0.02925     0.0146   0.003622        119        640: 100% 16/16 [00:28<00:00,  1.79s/it]\n",
            "                 Class     Images  Instances          P          R      mAP50   mAP50-95: 100% 1/1 [00:01<00:00,  1.81s/it]\n",
            "                   all         70        263      0.932      0.884      0.953      0.671\n",
            "\n",
            "      Epoch    GPU_mem   box_loss   obj_loss   cls_loss  Instances       Size\n",
            "     33/149      13.1G    0.02905    0.01431   0.003438        119        640: 100% 16/16 [00:26<00:00,  1.65s/it]\n",
            "                 Class     Images  Instances          P          R      mAP50   mAP50-95: 100% 1/1 [00:01<00:00,  1.95s/it]\n",
            "                   all         70        263      0.889      0.934      0.951       0.62\n",
            "\n",
            "      Epoch    GPU_mem   box_loss   obj_loss   cls_loss  Instances       Size\n",
            "     34/149      13.1G    0.02856    0.01403   0.003252        112        640: 100% 16/16 [00:25<00:00,  1.58s/it]\n",
            "                 Class     Images  Instances          P          R      mAP50   mAP50-95: 100% 1/1 [00:01<00:00,  1.98s/it]\n",
            "                   all         70        263      0.902      0.922      0.946      0.672\n",
            "\n",
            "      Epoch    GPU_mem   box_loss   obj_loss   cls_loss  Instances       Size\n",
            "     35/149      13.1G    0.02827    0.01388     0.0031         98        640: 100% 16/16 [00:25<00:00,  1.60s/it]\n",
            "                 Class     Images  Instances          P          R      mAP50   mAP50-95: 100% 1/1 [00:02<00:00,  2.08s/it]\n",
            "                   all         70        263      0.907      0.908      0.947      0.602\n",
            "\n",
            "      Epoch    GPU_mem   box_loss   obj_loss   cls_loss  Instances       Size\n",
            "     36/149      13.1G    0.02811    0.01446   0.003126         74        640: 100% 16/16 [00:26<00:00,  1.63s/it]\n",
            "                 Class     Images  Instances          P          R      mAP50   mAP50-95: 100% 1/1 [00:02<00:00,  2.07s/it]\n",
            "                   all         70        263      0.934      0.905      0.956      0.677\n",
            "\n",
            "      Epoch    GPU_mem   box_loss   obj_loss   cls_loss  Instances       Size\n",
            "     37/149      13.1G    0.02731    0.01338   0.003125         89        640: 100% 16/16 [00:25<00:00,  1.60s/it]\n",
            "                 Class     Images  Instances          P          R      mAP50   mAP50-95: 100% 1/1 [00:02<00:00,  2.09s/it]\n",
            "                   all         70        263      0.915      0.911      0.952      0.674\n",
            "\n",
            "      Epoch    GPU_mem   box_loss   obj_loss   cls_loss  Instances       Size\n",
            "     38/149      13.1G     0.0269    0.01452   0.002799        142        640: 100% 16/16 [00:25<00:00,  1.62s/it]\n",
            "                 Class     Images  Instances          P          R      mAP50   mAP50-95: 100% 1/1 [00:02<00:00,  2.06s/it]\n",
            "                   all         70        263      0.902      0.945      0.957      0.633\n",
            "\n",
            "      Epoch    GPU_mem   box_loss   obj_loss   cls_loss  Instances       Size\n",
            "     39/149      13.1G    0.02626    0.01386   0.002936        135        640: 100% 16/16 [00:28<00:00,  1.78s/it]\n",
            "                 Class     Images  Instances          P          R      mAP50   mAP50-95: 100% 1/1 [00:02<00:00,  2.02s/it]\n",
            "                   all         70        263      0.875      0.956      0.951      0.618\n",
            "\n",
            "      Epoch    GPU_mem   box_loss   obj_loss   cls_loss  Instances       Size\n",
            "     40/149      13.1G    0.02648     0.0135   0.002922         92        640: 100% 16/16 [00:26<00:00,  1.63s/it]\n",
            "                 Class     Images  Instances          P          R      mAP50   mAP50-95: 100% 1/1 [00:02<00:00,  2.05s/it]\n",
            "                   all         70        263      0.909      0.932      0.953      0.666\n",
            "\n",
            "      Epoch    GPU_mem   box_loss   obj_loss   cls_loss  Instances       Size\n",
            "     41/149      13.1G    0.02632    0.01364   0.002877        131        640: 100% 16/16 [00:25<00:00,  1.62s/it]\n",
            "                 Class     Images  Instances          P          R      mAP50   mAP50-95: 100% 1/1 [00:02<00:00,  2.09s/it]\n",
            "                   all         70        263      0.915      0.945      0.952      0.646\n",
            "\n",
            "      Epoch    GPU_mem   box_loss   obj_loss   cls_loss  Instances       Size\n",
            "     42/149      13.1G    0.02694    0.01384   0.003134        108        640: 100% 16/16 [00:26<00:00,  1.66s/it]\n",
            "                 Class     Images  Instances          P          R      mAP50   mAP50-95: 100% 1/1 [00:02<00:00,  2.03s/it]\n",
            "                   all         70        263      0.898      0.917      0.952      0.677\n",
            "\n",
            "      Epoch    GPU_mem   box_loss   obj_loss   cls_loss  Instances       Size\n",
            "     43/149      13.1G    0.02634    0.01366   0.002724        144        640: 100% 16/16 [00:25<00:00,  1.61s/it]\n",
            "                 Class     Images  Instances          P          R      mAP50   mAP50-95: 100% 1/1 [00:02<00:00,  2.00s/it]\n",
            "                   all         70        263      0.863      0.973      0.953      0.694\n",
            "\n",
            "      Epoch    GPU_mem   box_loss   obj_loss   cls_loss  Instances       Size\n",
            "     44/149      13.1G    0.02633    0.01349   0.002781         96        640: 100% 16/16 [00:26<00:00,  1.64s/it]\n",
            "                 Class     Images  Instances          P          R      mAP50   mAP50-95: 100% 1/1 [00:02<00:00,  2.15s/it]\n",
            "                   all         70        263       0.92      0.901      0.957      0.681\n",
            "\n",
            "      Epoch    GPU_mem   box_loss   obj_loss   cls_loss  Instances       Size\n",
            "     45/149      13.1G    0.02605    0.01349   0.002845        114        640: 100% 16/16 [00:29<00:00,  1.83s/it]\n",
            "                 Class     Images  Instances          P          R      mAP50   mAP50-95: 100% 1/1 [00:01<00:00,  1.26s/it]\n",
            "                   all         70        263      0.907      0.916      0.953      0.632\n",
            "\n",
            "      Epoch    GPU_mem   box_loss   obj_loss   cls_loss  Instances       Size\n",
            "     46/149      13.1G    0.02576    0.01356    0.00299         94        640: 100% 16/16 [00:27<00:00,  1.73s/it]\n",
            "                 Class     Images  Instances          P          R      mAP50   mAP50-95: 100% 1/1 [00:01<00:00,  1.25s/it]\n",
            "                   all         70        263      0.933      0.891      0.939       0.68\n",
            "\n",
            "      Epoch    GPU_mem   box_loss   obj_loss   cls_loss  Instances       Size\n",
            "     47/149      13.1G    0.02574    0.01311   0.002854        101        640: 100% 16/16 [00:28<00:00,  1.77s/it]\n",
            "                 Class     Images  Instances          P          R      mAP50   mAP50-95: 100% 1/1 [00:01<00:00,  1.28s/it]\n",
            "                   all         70        263      0.937      0.883      0.948      0.682\n",
            "\n",
            "      Epoch    GPU_mem   box_loss   obj_loss   cls_loss  Instances       Size\n",
            "     48/149      13.1G    0.02587    0.01367    0.00292        144        640: 100% 16/16 [00:27<00:00,  1.70s/it]\n",
            "                 Class     Images  Instances          P          R      mAP50   mAP50-95: 100% 1/1 [00:01<00:00,  1.30s/it]\n",
            "                   all         70        263      0.909      0.897      0.942      0.646\n",
            "\n",
            "      Epoch    GPU_mem   box_loss   obj_loss   cls_loss  Instances       Size\n",
            "     49/149      13.1G    0.02567    0.01302   0.002684        106        640: 100% 16/16 [00:26<00:00,  1.69s/it]\n",
            "                 Class     Images  Instances          P          R      mAP50   mAP50-95: 100% 1/1 [00:01<00:00,  1.10s/it]\n",
            "                   all         70        263      0.913      0.884      0.951       0.68\n",
            "\n",
            "      Epoch    GPU_mem   box_loss   obj_loss   cls_loss  Instances       Size\n",
            "     50/149      13.1G    0.02448    0.01319   0.002793        113        640: 100% 16/16 [00:27<00:00,  1.71s/it]\n",
            "                 Class     Images  Instances          P          R      mAP50   mAP50-95: 100% 1/1 [00:01<00:00,  1.27s/it]\n",
            "                   all         70        263      0.873      0.941      0.954      0.673\n",
            "\n",
            "      Epoch    GPU_mem   box_loss   obj_loss   cls_loss  Instances       Size\n",
            "     51/149      13.1G    0.02407    0.01318    0.00288        127        640: 100% 16/16 [00:29<00:00,  1.85s/it]\n",
            "                 Class     Images  Instances          P          R      mAP50   mAP50-95: 100% 1/1 [00:01<00:00,  1.33s/it]\n",
            "                   all         70        263      0.926      0.904      0.955       0.68\n",
            "\n",
            "      Epoch    GPU_mem   box_loss   obj_loss   cls_loss  Instances       Size\n",
            "     52/149      13.1G    0.02468    0.01346    0.00232         94        640: 100% 16/16 [00:27<00:00,  1.73s/it]\n",
            "                 Class     Images  Instances          P          R      mAP50   mAP50-95: 100% 1/1 [00:01<00:00,  1.23s/it]\n",
            "                   all         70        263      0.879      0.935      0.943      0.699\n",
            "\n",
            "      Epoch    GPU_mem   box_loss   obj_loss   cls_loss  Instances       Size\n",
            "     53/149      13.1G    0.02489    0.01334   0.002358        147        640: 100% 16/16 [00:27<00:00,  1.72s/it]\n",
            "                 Class     Images  Instances          P          R      mAP50   mAP50-95: 100% 1/1 [00:01<00:00,  1.23s/it]\n",
            "                   all         70        263      0.901      0.894      0.947       0.63\n",
            "\n",
            "      Epoch    GPU_mem   box_loss   obj_loss   cls_loss  Instances       Size\n",
            "     54/149      13.1G     0.0245     0.0131   0.002182        146        640: 100% 16/16 [00:27<00:00,  1.72s/it]\n",
            "                 Class     Images  Instances          P          R      mAP50   mAP50-95: 100% 1/1 [00:01<00:00,  1.34s/it]\n",
            "                   all         70        263      0.916      0.907      0.956      0.703\n",
            "\n",
            "      Epoch    GPU_mem   box_loss   obj_loss   cls_loss  Instances       Size\n",
            "     55/149      13.1G    0.02326    0.01228   0.002427        100        640: 100% 16/16 [00:26<00:00,  1.67s/it]\n",
            "                 Class     Images  Instances          P          R      mAP50   mAP50-95: 100% 1/1 [00:01<00:00,  1.27s/it]\n",
            "                   all         70        263      0.882      0.925      0.944      0.699\n",
            "\n",
            "      Epoch    GPU_mem   box_loss   obj_loss   cls_loss  Instances       Size\n",
            "     56/149      13.1G    0.02355    0.01279   0.002683         74        640: 100% 16/16 [00:27<00:00,  1.72s/it]\n",
            "                 Class     Images  Instances          P          R      mAP50   mAP50-95: 100% 1/1 [00:01<00:00,  1.34s/it]\n",
            "                   all         70        263      0.927      0.889      0.939      0.684\n",
            "\n",
            "      Epoch    GPU_mem   box_loss   obj_loss   cls_loss  Instances       Size\n",
            "     57/149      13.1G    0.02362    0.01309   0.002349         96        640: 100% 16/16 [00:30<00:00,  1.89s/it]\n",
            "                 Class     Images  Instances          P          R      mAP50   mAP50-95: 100% 1/1 [00:01<00:00,  1.29s/it]\n",
            "                   all         70        263      0.877       0.93      0.955      0.697\n",
            "\n",
            "      Epoch    GPU_mem   box_loss   obj_loss   cls_loss  Instances       Size\n",
            "     58/149      13.1G    0.02362    0.01325   0.002283        130        640: 100% 16/16 [00:27<00:00,  1.71s/it]\n",
            "                 Class     Images  Instances          P          R      mAP50   mAP50-95: 100% 1/1 [00:01<00:00,  1.15s/it]\n",
            "                   all         70        263      0.901      0.926      0.955      0.699\n",
            "\n",
            "      Epoch    GPU_mem   box_loss   obj_loss   cls_loss  Instances       Size\n",
            "     59/149      13.1G    0.02371    0.01295   0.002462        101        640: 100% 16/16 [00:27<00:00,  1.71s/it]\n",
            "                 Class     Images  Instances          P          R      mAP50   mAP50-95: 100% 1/1 [00:01<00:00,  1.16s/it]\n",
            "                   all         70        263      0.899      0.936      0.954       0.68\n",
            "\n",
            "      Epoch    GPU_mem   box_loss   obj_loss   cls_loss  Instances       Size\n",
            "     60/149      13.1G    0.02289    0.01263   0.002251        114        640: 100% 16/16 [00:27<00:00,  1.70s/it]\n",
            "                 Class     Images  Instances          P          R      mAP50   mAP50-95: 100% 1/1 [00:01<00:00,  1.20s/it]\n",
            "                   all         70        263      0.891      0.939      0.944      0.679\n",
            "\n",
            "      Epoch    GPU_mem   box_loss   obj_loss   cls_loss  Instances       Size\n",
            "     61/149      13.1G    0.02341    0.01242   0.002278        119        640: 100% 16/16 [00:27<00:00,  1.72s/it]\n",
            "                 Class     Images  Instances          P          R      mAP50   mAP50-95: 100% 1/1 [00:01<00:00,  1.32s/it]\n",
            "                   all         70        263      0.894      0.928      0.955      0.707\n",
            "\n",
            "      Epoch    GPU_mem   box_loss   obj_loss   cls_loss  Instances       Size\n",
            "     62/149      13.1G    0.02317    0.01264   0.002239        108        640: 100% 16/16 [00:27<00:00,  1.69s/it]\n",
            "                 Class     Images  Instances          P          R      mAP50   mAP50-95: 100% 1/1 [00:01<00:00,  1.22s/it]\n",
            "                   all         70        263      0.889      0.931      0.951      0.703\n",
            "\n",
            "      Epoch    GPU_mem   box_loss   obj_loss   cls_loss  Instances       Size\n",
            "     63/149      13.1G    0.02249    0.01253   0.002191         95        640: 100% 16/16 [00:29<00:00,  1.86s/it]\n",
            "                 Class     Images  Instances          P          R      mAP50   mAP50-95: 100% 1/1 [00:01<00:00,  1.24s/it]\n",
            "                   all         70        263      0.908      0.934      0.953      0.697\n",
            "\n",
            "      Epoch    GPU_mem   box_loss   obj_loss   cls_loss  Instances       Size\n",
            "     64/149      13.1G    0.02281    0.01261    0.00208        115        640: 100% 16/16 [00:27<00:00,  1.72s/it]\n",
            "                 Class     Images  Instances          P          R      mAP50   mAP50-95: 100% 1/1 [00:01<00:00,  1.22s/it]\n",
            "                   all         70        263      0.902      0.948      0.951      0.703\n",
            "\n",
            "      Epoch    GPU_mem   box_loss   obj_loss   cls_loss  Instances       Size\n",
            "     65/149      13.1G    0.02204    0.01297   0.002267        136        640: 100% 16/16 [00:27<00:00,  1.71s/it]\n",
            "                 Class     Images  Instances          P          R      mAP50   mAP50-95: 100% 1/1 [00:01<00:00,  1.23s/it]\n",
            "                   all         70        263      0.906       0.95      0.957      0.711\n",
            "\n",
            "      Epoch    GPU_mem   box_loss   obj_loss   cls_loss  Instances       Size\n",
            "     66/149      13.1G    0.02233    0.01206   0.002381         88        640: 100% 16/16 [00:26<00:00,  1.63s/it]\n",
            "                 Class     Images  Instances          P          R      mAP50   mAP50-95: 100% 1/1 [00:01<00:00,  1.05s/it]\n",
            "                   all         70        263      0.908      0.922      0.947      0.702\n",
            "\n",
            "      Epoch    GPU_mem   box_loss   obj_loss   cls_loss  Instances       Size\n",
            "     67/149      13.1G     0.0226    0.01255   0.002128        116        640: 100% 16/16 [00:27<00:00,  1.71s/it]\n",
            "                 Class     Images  Instances          P          R      mAP50   mAP50-95: 100% 1/1 [00:01<00:00,  1.23s/it]\n",
            "                   all         70        263      0.912       0.94      0.952      0.691\n",
            "\n",
            "      Epoch    GPU_mem   box_loss   obj_loss   cls_loss  Instances       Size\n",
            "     68/149      13.1G    0.02123    0.01187   0.001924        102        640: 100% 16/16 [00:27<00:00,  1.70s/it]\n",
            "                 Class     Images  Instances          P          R      mAP50   mAP50-95: 100% 1/1 [00:01<00:00,  1.25s/it]\n",
            "                   all         70        263      0.894      0.934      0.946      0.689\n",
            "\n",
            "      Epoch    GPU_mem   box_loss   obj_loss   cls_loss  Instances       Size\n",
            "     69/149      13.1G    0.02149    0.01179   0.001848         89        640: 100% 16/16 [00:28<00:00,  1.81s/it]\n",
            "                 Class     Images  Instances          P          R      mAP50   mAP50-95: 100% 1/1 [00:01<00:00,  1.26s/it]\n",
            "                   all         70        263      0.899      0.942      0.954      0.701\n",
            "\n",
            "      Epoch    GPU_mem   box_loss   obj_loss   cls_loss  Instances       Size\n",
            "     70/149      13.1G    0.02212    0.01228    0.00215        114        640: 100% 16/16 [00:27<00:00,  1.70s/it]\n",
            "                 Class     Images  Instances          P          R      mAP50   mAP50-95: 100% 1/1 [00:01<00:00,  1.30s/it]\n",
            "                   all         70        263      0.903      0.927      0.956      0.704\n",
            "\n",
            "      Epoch    GPU_mem   box_loss   obj_loss   cls_loss  Instances       Size\n",
            "     71/149      13.1G    0.02206     0.0122   0.001823        139        640: 100% 16/16 [00:27<00:00,  1.70s/it]\n",
            "                 Class     Images  Instances          P          R      mAP50   mAP50-95: 100% 1/1 [00:01<00:00,  1.26s/it]\n",
            "                   all         70        263      0.903      0.938      0.948      0.687\n",
            "\n",
            "      Epoch    GPU_mem   box_loss   obj_loss   cls_loss  Instances       Size\n",
            "     72/149      13.1G    0.02137    0.01166   0.001983        109        640: 100% 16/16 [00:27<00:00,  1.69s/it]\n",
            "                 Class     Images  Instances          P          R      mAP50   mAP50-95: 100% 1/1 [00:01<00:00,  1.25s/it]\n",
            "                   all         70        263      0.914      0.938      0.946      0.698\n",
            "\n",
            "      Epoch    GPU_mem   box_loss   obj_loss   cls_loss  Instances       Size\n",
            "     73/149      13.1G    0.02092    0.01131    0.00191        103        640: 100% 16/16 [00:27<00:00,  1.70s/it]\n",
            "                 Class     Images  Instances          P          R      mAP50   mAP50-95: 100% 1/1 [00:01<00:00,  1.17s/it]\n",
            "                   all         70        263      0.908      0.926       0.95      0.689\n",
            "\n",
            "      Epoch    GPU_mem   box_loss   obj_loss   cls_loss  Instances       Size\n",
            "     74/149      13.1G    0.02163    0.01186   0.002095        139        640: 100% 16/16 [00:26<00:00,  1.69s/it]\n",
            "                 Class     Images  Instances          P          R      mAP50   mAP50-95: 100% 1/1 [00:01<00:00,  1.31s/it]\n",
            "                   all         70        263      0.901       0.93      0.943      0.686\n",
            "\n",
            "      Epoch    GPU_mem   box_loss   obj_loss   cls_loss  Instances       Size\n",
            "     75/149      13.1G    0.02095    0.01172   0.001956         93        640: 100% 16/16 [00:27<00:00,  1.71s/it]\n",
            "                 Class     Images  Instances          P          R      mAP50   mAP50-95: 100% 1/1 [00:02<00:00,  2.14s/it]\n",
            "                   all         70        263      0.888      0.896      0.939      0.637\n",
            "\n",
            "      Epoch    GPU_mem   box_loss   obj_loss   cls_loss  Instances       Size\n",
            "     76/149      13.1G    0.02096      0.012   0.001801         93        640: 100% 16/16 [00:27<00:00,  1.70s/it]\n",
            "                 Class     Images  Instances          P          R      mAP50   mAP50-95: 100% 1/1 [00:01<00:00,  1.28s/it]\n",
            "                   all         70        263      0.916      0.901      0.944      0.698\n",
            "\n",
            "      Epoch    GPU_mem   box_loss   obj_loss   cls_loss  Instances       Size\n",
            "     77/149      13.1G     0.0215    0.01229    0.00198        146        640: 100% 16/16 [00:26<00:00,  1.68s/it]\n",
            "                 Class     Images  Instances          P          R      mAP50   mAP50-95: 100% 1/1 [00:01<00:00,  1.28s/it]\n",
            "                   all         70        263      0.937      0.896       0.95      0.701\n",
            "\n",
            "      Epoch    GPU_mem   box_loss   obj_loss   cls_loss  Instances       Size\n",
            "     78/149      13.1G    0.02064    0.01146   0.001925        127        640: 100% 16/16 [00:26<00:00,  1.68s/it]\n",
            "                 Class     Images  Instances          P          R      mAP50   mAP50-95: 100% 1/1 [00:01<00:00,  1.21s/it]\n",
            "                   all         70        263      0.895      0.938      0.949      0.689\n",
            "\n",
            "      Epoch    GPU_mem   box_loss   obj_loss   cls_loss  Instances       Size\n",
            "     79/149      13.1G    0.02066    0.01177   0.001748        124        640: 100% 16/16 [00:26<00:00,  1.69s/it]\n",
            "                 Class     Images  Instances          P          R      mAP50   mAP50-95: 100% 1/1 [00:01<00:00,  1.27s/it]\n",
            "                   all         70        263      0.896      0.936      0.955      0.709\n",
            "\n",
            "      Epoch    GPU_mem   box_loss   obj_loss   cls_loss  Instances       Size\n",
            "     80/149      13.1G    0.02025    0.01152   0.001794         95        640: 100% 16/16 [00:27<00:00,  1.70s/it]\n",
            "                 Class     Images  Instances          P          R      mAP50   mAP50-95: 100% 1/1 [00:01<00:00,  1.24s/it]\n",
            "                   all         70        263      0.885      0.932      0.958      0.701\n",
            "\n",
            "      Epoch    GPU_mem   box_loss   obj_loss   cls_loss  Instances       Size\n",
            "     81/149      13.1G    0.02098    0.01241   0.001701        108        640: 100% 16/16 [00:26<00:00,  1.68s/it]\n",
            "                 Class     Images  Instances          P          R      mAP50   mAP50-95: 100% 1/1 [00:01<00:00,  1.36s/it]\n",
            "                   all         70        263      0.908      0.936      0.948      0.715\n",
            "\n",
            "      Epoch    GPU_mem   box_loss   obj_loss   cls_loss  Instances       Size\n",
            "     82/149      13.1G    0.02033    0.01183   0.001693         99        640: 100% 16/16 [00:28<00:00,  1.78s/it]\n",
            "                 Class     Images  Instances          P          R      mAP50   mAP50-95: 100% 1/1 [00:01<00:00,  1.18s/it]\n",
            "                   all         70        263      0.868      0.938      0.954      0.705\n",
            "\n",
            "      Epoch    GPU_mem   box_loss   obj_loss   cls_loss  Instances       Size\n",
            "     83/149      13.1G    0.01976    0.01149   0.001862        108        640: 100% 16/16 [00:27<00:00,  1.70s/it]\n",
            "                 Class     Images  Instances          P          R      mAP50   mAP50-95: 100% 1/1 [00:01<00:00,  1.29s/it]\n",
            "                   all         70        263        0.9      0.932      0.951      0.693\n",
            "\n",
            "      Epoch    GPU_mem   box_loss   obj_loss   cls_loss  Instances       Size\n",
            "     84/149      13.1G    0.01996    0.01186    0.00186        161        640: 100% 16/16 [00:26<00:00,  1.69s/it]\n",
            "                 Class     Images  Instances          P          R      mAP50   mAP50-95: 100% 1/1 [00:01<00:00,  1.28s/it]\n",
            "                   all         70        263       0.92      0.903      0.952      0.709\n",
            "\n",
            "      Epoch    GPU_mem   box_loss   obj_loss   cls_loss  Instances       Size\n",
            "     85/149      13.1G    0.02049    0.01092   0.001716        119        640: 100% 16/16 [00:27<00:00,  1.71s/it]\n",
            "                 Class     Images  Instances          P          R      mAP50   mAP50-95: 100% 1/1 [00:01<00:00,  1.29s/it]\n",
            "                   all         70        263      0.918      0.916      0.955       0.71\n",
            "\n",
            "      Epoch    GPU_mem   box_loss   obj_loss   cls_loss  Instances       Size\n",
            "     86/149      13.1G    0.02023    0.01178   0.001874        135        640: 100% 16/16 [00:27<00:00,  1.70s/it]\n",
            "                 Class     Images  Instances          P          R      mAP50   mAP50-95: 100% 1/1 [00:01<00:00,  1.03s/it]\n",
            "                   all         70        263      0.913      0.924       0.95      0.704\n",
            "\n",
            "      Epoch    GPU_mem   box_loss   obj_loss   cls_loss  Instances       Size\n",
            "     87/149      13.1G    0.01954    0.01147   0.001611        168        640: 100% 16/16 [00:27<00:00,  1.73s/it]\n",
            "                 Class     Images  Instances          P          R      mAP50   mAP50-95: 100% 1/1 [00:01<00:00,  1.25s/it]\n",
            "                   all         70        263      0.916      0.895      0.936      0.697\n",
            "\n",
            "      Epoch    GPU_mem   box_loss   obj_loss   cls_loss  Instances       Size\n",
            "     88/149      13.1G    0.01949    0.01113     0.0017        123        640: 100% 16/16 [00:29<00:00,  1.83s/it]\n",
            "                 Class     Images  Instances          P          R      mAP50   mAP50-95: 100% 1/1 [00:01<00:00,  1.24s/it]\n",
            "                   all         70        263      0.942      0.891       0.94      0.705\n",
            "\n",
            "      Epoch    GPU_mem   box_loss   obj_loss   cls_loss  Instances       Size\n",
            "     89/149      13.1G    0.01936    0.01161   0.001651        118        640: 100% 16/16 [00:27<00:00,  1.73s/it]\n",
            "                 Class     Images  Instances          P          R      mAP50   mAP50-95: 100% 1/1 [00:01<00:00,  1.07s/it]\n",
            "                   all         70        263      0.897      0.931      0.944      0.688\n",
            "\n",
            "      Epoch    GPU_mem   box_loss   obj_loss   cls_loss  Instances       Size\n",
            "     90/149      13.1G    0.01958    0.01171   0.001745        123        640: 100% 16/16 [00:27<00:00,  1.70s/it]\n",
            "                 Class     Images  Instances          P          R      mAP50   mAP50-95: 100% 1/1 [00:01<00:00,  1.28s/it]\n",
            "                   all         70        263      0.909      0.931      0.949      0.691\n",
            "\n",
            "      Epoch    GPU_mem   box_loss   obj_loss   cls_loss  Instances       Size\n",
            "     91/149      13.1G    0.01993    0.01134   0.001616         91        640: 100% 16/16 [00:26<00:00,  1.68s/it]\n",
            "                 Class     Images  Instances          P          R      mAP50   mAP50-95: 100% 1/1 [00:01<00:00,  1.23s/it]\n",
            "                   all         70        263      0.913      0.919      0.943      0.671\n",
            "\n",
            "      Epoch    GPU_mem   box_loss   obj_loss   cls_loss  Instances       Size\n",
            "     92/149      13.1G    0.01882    0.01087   0.001617        102        640: 100% 16/16 [00:27<00:00,  1.69s/it]\n",
            "                 Class     Images  Instances          P          R      mAP50   mAP50-95: 100% 1/1 [00:01<00:00,  1.16s/it]\n",
            "                   all         70        263      0.913      0.926      0.943      0.703\n",
            "\n",
            "      Epoch    GPU_mem   box_loss   obj_loss   cls_loss  Instances       Size\n",
            "     93/149      13.1G    0.01971    0.01156   0.001635        143        640: 100% 16/16 [00:27<00:00,  1.69s/it]\n",
            "                 Class     Images  Instances          P          R      mAP50   mAP50-95: 100% 1/1 [00:01<00:00,  1.21s/it]\n",
            "                   all         70        263       0.93      0.895      0.936      0.696\n",
            "\n",
            "      Epoch    GPU_mem   box_loss   obj_loss   cls_loss  Instances       Size\n",
            "     94/149      13.1G    0.01872    0.01065   0.001593        103        640: 100% 16/16 [00:29<00:00,  1.82s/it]\n",
            "                 Class     Images  Instances          P          R      mAP50   mAP50-95: 100% 1/1 [00:01<00:00,  1.20s/it]\n",
            "                   all         70        263      0.909      0.928      0.949      0.708\n",
            "\n",
            "      Epoch    GPU_mem   box_loss   obj_loss   cls_loss  Instances       Size\n",
            "     95/149      13.1G    0.01909    0.01069   0.001432         85        640: 100% 16/16 [00:27<00:00,  1.71s/it]\n",
            "                 Class     Images  Instances          P          R      mAP50   mAP50-95: 100% 1/1 [00:01<00:00,  1.30s/it]\n",
            "                   all         70        263       0.91      0.924      0.945        0.7\n",
            "\n",
            "      Epoch    GPU_mem   box_loss   obj_loss   cls_loss  Instances       Size\n",
            "     96/149      13.1G    0.01807    0.01047   0.001508         95        640: 100% 16/16 [00:27<00:00,  1.70s/it]\n",
            "                 Class     Images  Instances          P          R      mAP50   mAP50-95: 100% 1/1 [00:01<00:00,  1.22s/it]\n",
            "                   all         70        263      0.909      0.908      0.948      0.706\n",
            "\n",
            "      Epoch    GPU_mem   box_loss   obj_loss   cls_loss  Instances       Size\n",
            "     97/149      13.1G     0.0187    0.01106   0.001513        103        640: 100% 16/16 [00:27<00:00,  1.70s/it]\n",
            "                 Class     Images  Instances          P          R      mAP50   mAP50-95: 100% 1/1 [00:01<00:00,  1.20s/it]\n",
            "                   all         70        263      0.911      0.922      0.951      0.714\n",
            "\n",
            "      Epoch    GPU_mem   box_loss   obj_loss   cls_loss  Instances       Size\n",
            "     98/149      13.1G    0.01875     0.0108   0.001647        100        640: 100% 16/16 [00:27<00:00,  1.69s/it]\n",
            "                 Class     Images  Instances          P          R      mAP50   mAP50-95: 100% 1/1 [00:01<00:00,  1.19s/it]\n",
            "                   all         70        263      0.919      0.916      0.943        0.7\n",
            "\n",
            "      Epoch    GPU_mem   box_loss   obj_loss   cls_loss  Instances       Size\n",
            "     99/149      13.1G    0.01838    0.01109    0.00149        135        640: 100% 16/16 [00:26<00:00,  1.68s/it]\n",
            "                 Class     Images  Instances          P          R      mAP50   mAP50-95: 100% 1/1 [00:01<00:00,  1.28s/it]\n",
            "                   all         70        263      0.936      0.921      0.946      0.707\n",
            "\n",
            "      Epoch    GPU_mem   box_loss   obj_loss   cls_loss  Instances       Size\n",
            "    100/149      13.1G    0.01837    0.01087   0.001579        114        640: 100% 16/16 [00:29<00:00,  1.83s/it]\n",
            "                 Class     Images  Instances          P          R      mAP50   mAP50-95: 100% 1/1 [00:01<00:00,  1.26s/it]\n",
            "                   all         70        263      0.917      0.919      0.943      0.704\n",
            "\n",
            "      Epoch    GPU_mem   box_loss   obj_loss   cls_loss  Instances       Size\n",
            "    101/149      13.1G    0.01839    0.01068   0.001788        112        640: 100% 16/16 [00:26<00:00,  1.68s/it]\n",
            "                 Class     Images  Instances          P          R      mAP50   mAP50-95: 100% 1/1 [00:01<00:00,  1.09s/it]\n",
            "                   all         70        263      0.919      0.907      0.937        0.7\n",
            "\n",
            "      Epoch    GPU_mem   box_loss   obj_loss   cls_loss  Instances       Size\n",
            "    102/149      13.1G    0.01822    0.01094   0.001516         82        640: 100% 16/16 [00:27<00:00,  1.69s/it]\n",
            "                 Class     Images  Instances          P          R      mAP50   mAP50-95: 100% 1/1 [00:01<00:00,  1.28s/it]\n",
            "                   all         70        263      0.913      0.914      0.945      0.695\n",
            "\n",
            "      Epoch    GPU_mem   box_loss   obj_loss   cls_loss  Instances       Size\n",
            "    103/149      13.1G    0.01799    0.01077   0.001568        122        640: 100% 16/16 [00:27<00:00,  1.70s/it]\n",
            "                 Class     Images  Instances          P          R      mAP50   mAP50-95: 100% 1/1 [00:01<00:00,  1.24s/it]\n",
            "                   all         70        263      0.904      0.915      0.946      0.702\n",
            "\n",
            "      Epoch    GPU_mem   box_loss   obj_loss   cls_loss  Instances       Size\n",
            "    104/149      13.1G    0.01837    0.01116   0.001513        103        640: 100% 16/16 [00:27<00:00,  1.69s/it]\n",
            "                 Class     Images  Instances          P          R      mAP50   mAP50-95: 100% 1/1 [00:01<00:00,  1.12s/it]\n",
            "                   all         70        263        0.9      0.926      0.947      0.711\n",
            "\n",
            "      Epoch    GPU_mem   box_loss   obj_loss   cls_loss  Instances       Size\n",
            "    105/149      13.1G    0.01801    0.01058   0.001419        102        640: 100% 16/16 [00:27<00:00,  1.70s/it]\n",
            "                 Class     Images  Instances          P          R      mAP50   mAP50-95: 100% 1/1 [00:01<00:00,  1.32s/it]\n",
            "                   all         70        263      0.915      0.906      0.944      0.703\n",
            "\n",
            "      Epoch    GPU_mem   box_loss   obj_loss   cls_loss  Instances       Size\n",
            "    106/149      13.1G    0.01731    0.01035   0.001348         98        640: 100% 16/16 [00:29<00:00,  1.82s/it]\n",
            "                 Class     Images  Instances          P          R      mAP50   mAP50-95: 100% 1/1 [00:01<00:00,  1.30s/it]\n",
            "                   all         70        263      0.922      0.902      0.942      0.706\n",
            "\n",
            "      Epoch    GPU_mem   box_loss   obj_loss   cls_loss  Instances       Size\n",
            "    107/149      13.1G    0.01791    0.01033   0.001618        109        640: 100% 16/16 [00:27<00:00,  1.71s/it]\n",
            "                 Class     Images  Instances          P          R      mAP50   mAP50-95: 100% 1/1 [00:01<00:00,  1.32s/it]\n",
            "                   all         70        263      0.923      0.895      0.946      0.704\n",
            "\n",
            "      Epoch    GPU_mem   box_loss   obj_loss   cls_loss  Instances       Size\n",
            "    108/149      13.1G    0.01775    0.01065   0.001528         91        640: 100% 16/16 [00:27<00:00,  1.72s/it]\n",
            "                 Class     Images  Instances          P          R      mAP50   mAP50-95: 100% 1/1 [00:01<00:00,  1.16s/it]\n",
            "                   all         70        263      0.915      0.909      0.943       0.71\n",
            "\n",
            "      Epoch    GPU_mem   box_loss   obj_loss   cls_loss  Instances       Size\n",
            "    109/149      13.1G    0.01749    0.01043    0.00142        116        640: 100% 16/16 [00:26<00:00,  1.68s/it]\n",
            "                 Class     Images  Instances          P          R      mAP50   mAP50-95: 100% 1/1 [00:01<00:00,  1.09s/it]\n",
            "                   all         70        263      0.929      0.912      0.942      0.705\n",
            "\n",
            "      Epoch    GPU_mem   box_loss   obj_loss   cls_loss  Instances       Size\n",
            "    110/149      13.1G    0.01751     0.0108   0.001393        122        640: 100% 16/16 [00:26<00:00,  1.66s/it]\n",
            "                 Class     Images  Instances          P          R      mAP50   mAP50-95: 100% 1/1 [00:01<00:00,  1.14s/it]\n",
            "                   all         70        263      0.913      0.919      0.949      0.709\n",
            "\n",
            "      Epoch    GPU_mem   box_loss   obj_loss   cls_loss  Instances       Size\n",
            "    111/149      13.1G    0.01689    0.01019   0.001357        118        640: 100% 16/16 [00:27<00:00,  1.70s/it]\n",
            "                 Class     Images  Instances          P          R      mAP50   mAP50-95: 100% 1/1 [00:01<00:00,  1.07s/it]\n",
            "                   all         70        263      0.922      0.906      0.955      0.714\n",
            "\n",
            "      Epoch    GPU_mem   box_loss   obj_loss   cls_loss  Instances       Size\n",
            "    112/149      13.1G    0.01715    0.01046   0.001272        158        640: 100% 16/16 [00:29<00:00,  1.86s/it]\n",
            "                 Class     Images  Instances          P          R      mAP50   mAP50-95: 100% 1/1 [00:01<00:00,  1.27s/it]\n",
            "                   all         70        263      0.929      0.908      0.942      0.706\n",
            "\n",
            "      Epoch    GPU_mem   box_loss   obj_loss   cls_loss  Instances       Size\n",
            "    113/149      13.1G    0.01667   0.009684   0.001318        106        640: 100% 16/16 [00:27<00:00,  1.69s/it]\n",
            "                 Class     Images  Instances          P          R      mAP50   mAP50-95: 100% 1/1 [00:01<00:00,  1.00s/it]\n",
            "                   all         70        263      0.933      0.905      0.948      0.711\n",
            "\n",
            "      Epoch    GPU_mem   box_loss   obj_loss   cls_loss  Instances       Size\n",
            "    114/149      13.1G    0.01689   0.009921   0.001321        133        640: 100% 16/16 [00:27<00:00,  1.70s/it]\n",
            "                 Class     Images  Instances          P          R      mAP50   mAP50-95: 100% 1/1 [00:01<00:00,  1.23s/it]\n",
            "                   all         70        263      0.912      0.939      0.953      0.706\n",
            "\n",
            "      Epoch    GPU_mem   box_loss   obj_loss   cls_loss  Instances       Size\n",
            "    115/149      13.1G    0.01692    0.01026   0.001332        137        640: 100% 16/16 [00:26<00:00,  1.67s/it]\n",
            "                 Class     Images  Instances          P          R      mAP50   mAP50-95: 100% 1/1 [00:01<00:00,  1.31s/it]\n",
            "                   all         70        263      0.903      0.919      0.949      0.713\n",
            "\n",
            "      Epoch    GPU_mem   box_loss   obj_loss   cls_loss  Instances       Size\n",
            "    116/149      13.1G    0.01679    0.01031   0.001221         93        640: 100% 16/16 [00:27<00:00,  1.70s/it]\n",
            "                 Class     Images  Instances          P          R      mAP50   mAP50-95: 100% 1/1 [00:01<00:00,  1.33s/it]\n",
            "                   all         70        263      0.933      0.914      0.947      0.716\n",
            "\n",
            "      Epoch    GPU_mem   box_loss   obj_loss   cls_loss  Instances       Size\n",
            "    117/149      13.1G    0.01687    0.01041   0.001279        115        640: 100% 16/16 [00:27<00:00,  1.69s/it]\n",
            "                 Class     Images  Instances          P          R      mAP50   mAP50-95: 100% 1/1 [00:01<00:00,  1.28s/it]\n",
            "                   all         70        263      0.933      0.915      0.946      0.715\n",
            "\n",
            "      Epoch    GPU_mem   box_loss   obj_loss   cls_loss  Instances       Size\n",
            "    118/149      13.1G    0.01622    0.01027   0.001214        110        640: 100% 16/16 [00:29<00:00,  1.83s/it]\n",
            "                 Class     Images  Instances          P          R      mAP50   mAP50-95: 100% 1/1 [00:01<00:00,  1.31s/it]\n",
            "                   all         70        263      0.928        0.9      0.942      0.714\n",
            "\n",
            "      Epoch    GPU_mem   box_loss   obj_loss   cls_loss  Instances       Size\n",
            "    119/149      13.1G    0.01645   0.009902   0.001176         82        640: 100% 16/16 [00:26<00:00,  1.67s/it]\n",
            "                 Class     Images  Instances          P          R      mAP50   mAP50-95: 100% 1/1 [00:01<00:00,  1.19s/it]\n",
            "                   all         70        263      0.931        0.9      0.937      0.713\n",
            "\n",
            "      Epoch    GPU_mem   box_loss   obj_loss   cls_loss  Instances       Size\n",
            "    120/149      13.1G    0.01653   0.009858   0.001255        123        640: 100% 16/16 [00:26<00:00,  1.68s/it]\n",
            "                 Class     Images  Instances          P          R      mAP50   mAP50-95: 100% 1/1 [00:01<00:00,  1.26s/it]\n",
            "                   all         70        263      0.932      0.913      0.943      0.714\n",
            "\n",
            "      Epoch    GPU_mem   box_loss   obj_loss   cls_loss  Instances       Size\n",
            "    121/149      13.1G    0.01651    0.01031   0.001307        112        640: 100% 16/16 [00:26<00:00,  1.68s/it]\n",
            "                 Class     Images  Instances          P          R      mAP50   mAP50-95: 100% 1/1 [00:01<00:00,  1.25s/it]\n",
            "                   all         70        263      0.928       0.91      0.945      0.714\n",
            "\n",
            "      Epoch    GPU_mem   box_loss   obj_loss   cls_loss  Instances       Size\n",
            "    122/149      13.1G    0.01622   0.009786   0.001176         99        640: 100% 16/16 [00:27<00:00,  1.69s/it]\n",
            "                 Class     Images  Instances          P          R      mAP50   mAP50-95: 100% 1/1 [00:01<00:00,  1.18s/it]\n",
            "                   all         70        263      0.934      0.921      0.947      0.705\n",
            "\n",
            "      Epoch    GPU_mem   box_loss   obj_loss   cls_loss  Instances       Size\n",
            "    123/149      13.1G    0.01585    0.01006   0.001153        110        640: 100% 16/16 [00:27<00:00,  1.70s/it]\n",
            "                 Class     Images  Instances          P          R      mAP50   mAP50-95: 100% 1/1 [00:01<00:00,  1.96s/it]\n",
            "                   all         70        263       0.93      0.915      0.946      0.712\n",
            "\n",
            "      Epoch    GPU_mem   box_loss   obj_loss   cls_loss  Instances       Size\n",
            "    124/149      13.1G    0.01621   0.009941   0.001212        125        640: 100% 16/16 [00:27<00:00,  1.74s/it]\n",
            "                 Class     Images  Instances          P          R      mAP50   mAP50-95: 100% 1/1 [00:01<00:00,  1.11s/it]\n",
            "                   all         70        263      0.926      0.918      0.942      0.713\n",
            "\n",
            "      Epoch    GPU_mem   box_loss   obj_loss   cls_loss  Instances       Size\n",
            "    125/149      13.1G    0.01627   0.009893   0.001372        120        640: 100% 16/16 [00:27<00:00,  1.70s/it]\n",
            "                 Class     Images  Instances          P          R      mAP50   mAP50-95: 100% 1/1 [00:01<00:00,  1.25s/it]\n",
            "                   all         70        263      0.923      0.906      0.937      0.707\n",
            "\n",
            "      Epoch    GPU_mem   box_loss   obj_loss   cls_loss  Instances       Size\n",
            "    126/149      13.1G    0.01579   0.009736   0.001124        112        640: 100% 16/16 [00:27<00:00,  1.69s/it]\n",
            "                 Class     Images  Instances          P          R      mAP50   mAP50-95: 100% 1/1 [00:01<00:00,  1.20s/it]\n",
            "                   all         70        263      0.908       0.92      0.951      0.711\n",
            "\n",
            "      Epoch    GPU_mem   box_loss   obj_loss   cls_loss  Instances       Size\n",
            "    127/149      13.1G    0.01602    0.01033    0.00128        111        640: 100% 16/16 [00:27<00:00,  1.69s/it]\n",
            "                 Class     Images  Instances          P          R      mAP50   mAP50-95: 100% 1/1 [00:01<00:00,  1.13s/it]\n",
            "                   all         70        263      0.931      0.899      0.947       0.71\n",
            "\n",
            "      Epoch    GPU_mem   box_loss   obj_loss   cls_loss  Instances       Size\n",
            "    128/149      13.1G    0.01576    0.01004   0.001105        102        640: 100% 16/16 [00:27<00:00,  1.70s/it]\n",
            "                 Class     Images  Instances          P          R      mAP50   mAP50-95: 100% 1/1 [00:01<00:00,  1.11s/it]\n",
            "                   all         70        263       0.93      0.902      0.947      0.711\n",
            "\n",
            "      Epoch    GPU_mem   box_loss   obj_loss   cls_loss  Instances       Size\n",
            "    129/149      13.1G    0.01586   0.009848   0.001153        119        640: 100% 16/16 [00:28<00:00,  1.81s/it]\n",
            "                 Class     Images  Instances          P          R      mAP50   mAP50-95: 100% 1/1 [00:01<00:00,  1.67s/it]\n",
            "                   all         70        263      0.937      0.911      0.948      0.719\n",
            "\n",
            "      Epoch    GPU_mem   box_loss   obj_loss   cls_loss  Instances       Size\n",
            "    130/149      13.1G    0.01581    0.01027   0.001191        140        640: 100% 16/16 [00:27<00:00,  1.72s/it]\n",
            "                 Class     Images  Instances          P          R      mAP50   mAP50-95: 100% 1/1 [00:01<00:00,  1.18s/it]\n",
            "                   all         70        263      0.941      0.894      0.945      0.708\n",
            "\n",
            "      Epoch    GPU_mem   box_loss   obj_loss   cls_loss  Instances       Size\n",
            "    131/149      13.1G    0.01585   0.009643   0.001294        106        640: 100% 16/16 [00:26<00:00,  1.68s/it]\n",
            "                 Class     Images  Instances          P          R      mAP50   mAP50-95: 100% 1/1 [00:01<00:00,  1.12s/it]\n",
            "                   all         70        263      0.935        0.9      0.944      0.711\n",
            "\n",
            "      Epoch    GPU_mem   box_loss   obj_loss   cls_loss  Instances       Size\n",
            "    132/149      13.1G    0.01527   0.009614    0.00112        121        640: 100% 16/16 [00:26<00:00,  1.68s/it]\n",
            "                 Class     Images  Instances          P          R      mAP50   mAP50-95: 100% 1/1 [00:01<00:00,  1.29s/it]\n",
            "                   all         70        263      0.938      0.896      0.946      0.716\n",
            "\n",
            "      Epoch    GPU_mem   box_loss   obj_loss   cls_loss  Instances       Size\n",
            "    133/149      13.1G    0.01523   0.009519    0.00109        124        640: 100% 16/16 [00:26<00:00,  1.67s/it]\n",
            "                 Class     Images  Instances          P          R      mAP50   mAP50-95: 100% 1/1 [00:01<00:00,  1.26s/it]\n",
            "                   all         70        263      0.931      0.902      0.946      0.717\n",
            "\n",
            "      Epoch    GPU_mem   box_loss   obj_loss   cls_loss  Instances       Size\n",
            "    134/149      13.1G     0.0157   0.009483   0.001167         86        640: 100% 16/16 [00:27<00:00,  1.70s/it]\n",
            "                 Class     Images  Instances          P          R      mAP50   mAP50-95: 100% 1/1 [00:01<00:00,  1.26s/it]\n",
            "                   all         70        263      0.918      0.912      0.945      0.713\n",
            "\n",
            "      Epoch    GPU_mem   box_loss   obj_loss   cls_loss  Instances       Size\n",
            "    135/149      13.1G    0.01505   0.009539    0.00117        111        640: 100% 16/16 [00:29<00:00,  1.82s/it]\n",
            "                 Class     Images  Instances          P          R      mAP50   mAP50-95: 100% 1/1 [00:01<00:00,  1.20s/it]\n",
            "                   all         70        263      0.926      0.915       0.95       0.71\n",
            "\n",
            "      Epoch    GPU_mem   box_loss   obj_loss   cls_loss  Instances       Size\n",
            "    136/149      13.1G     0.0158   0.009798   0.001356        186        640: 100% 16/16 [00:27<00:00,  1.70s/it]\n",
            "                 Class     Images  Instances          P          R      mAP50   mAP50-95: 100% 1/1 [00:01<00:00,  1.24s/it]\n",
            "                   all         70        263      0.931      0.906      0.952      0.718\n",
            "\n",
            "      Epoch    GPU_mem   box_loss   obj_loss   cls_loss  Instances       Size\n",
            "    137/149      13.1G    0.01525   0.009404   0.001139        122        640: 100% 16/16 [00:26<00:00,  1.68s/it]\n",
            "                 Class     Images  Instances          P          R      mAP50   mAP50-95: 100% 1/1 [00:01<00:00,  1.10s/it]\n",
            "                   all         70        263      0.936      0.909      0.951      0.715\n",
            "\n",
            "      Epoch    GPU_mem   box_loss   obj_loss   cls_loss  Instances       Size\n",
            "    138/149      13.1G    0.01542   0.009832   0.001223        116        640: 100% 16/16 [00:27<00:00,  1.71s/it]\n",
            "                 Class     Images  Instances          P          R      mAP50   mAP50-95: 100% 1/1 [00:01<00:00,  1.19s/it]\n",
            "                   all         70        263      0.942      0.909       0.95      0.713\n",
            "\n",
            "      Epoch    GPU_mem   box_loss   obj_loss   cls_loss  Instances       Size\n",
            "    139/149      13.1G    0.01529    0.00963   0.001085        113        640: 100% 16/16 [00:26<00:00,  1.68s/it]\n",
            "                 Class     Images  Instances          P          R      mAP50   mAP50-95: 100% 1/1 [00:01<00:00,  1.20s/it]\n",
            "                   all         70        263      0.936      0.909      0.952      0.716\n",
            "\n",
            "      Epoch    GPU_mem   box_loss   obj_loss   cls_loss  Instances       Size\n",
            "    140/149      13.1G    0.01555   0.009925   0.001118        114        640: 100% 16/16 [00:27<00:00,  1.70s/it]\n",
            "                 Class     Images  Instances          P          R      mAP50   mAP50-95: 100% 1/1 [00:01<00:00,  1.25s/it]\n",
            "                   all         70        263      0.924      0.912      0.949      0.717\n",
            "\n",
            "      Epoch    GPU_mem   box_loss   obj_loss   cls_loss  Instances       Size\n",
            "    141/149      13.1G    0.01471   0.009577   0.001014        120        640: 100% 16/16 [00:28<00:00,  1.78s/it]\n",
            "                 Class     Images  Instances          P          R      mAP50   mAP50-95: 100% 1/1 [00:01<00:00,  1.15s/it]\n",
            "                   all         70        263      0.937      0.903      0.943      0.709\n",
            "\n",
            "      Epoch    GPU_mem   box_loss   obj_loss   cls_loss  Instances       Size\n",
            "    142/149      13.1G    0.01527   0.009619   0.001186        146        640: 100% 16/16 [00:26<00:00,  1.68s/it]\n",
            "                 Class     Images  Instances          P          R      mAP50   mAP50-95: 100% 1/1 [00:01<00:00,  1.22s/it]\n",
            "                   all         70        263      0.919      0.911      0.943       0.71\n",
            "\n",
            "      Epoch    GPU_mem   box_loss   obj_loss   cls_loss  Instances       Size\n",
            "    143/149      13.1G    0.01486   0.009526   0.001061        136        640: 100% 16/16 [00:26<00:00,  1.67s/it]\n",
            "                 Class     Images  Instances          P          R      mAP50   mAP50-95: 100% 1/1 [00:01<00:00,  1.24s/it]\n",
            "                   all         70        263      0.937      0.915      0.948      0.714\n",
            "\n",
            "      Epoch    GPU_mem   box_loss   obj_loss   cls_loss  Instances       Size\n",
            "    144/149      13.1G    0.01511   0.009278   0.001214        106        640: 100% 16/16 [00:26<00:00,  1.68s/it]\n",
            "                 Class     Images  Instances          P          R      mAP50   mAP50-95: 100% 1/1 [00:01<00:00,  1.32s/it]\n",
            "                   all         70        263      0.943      0.915       0.95      0.711\n",
            "\n",
            "      Epoch    GPU_mem   box_loss   obj_loss   cls_loss  Instances       Size\n",
            "    145/149      13.1G    0.01483   0.009656    0.00102         82        640: 100% 16/16 [00:27<00:00,  1.70s/it]\n",
            "                 Class     Images  Instances          P          R      mAP50   mAP50-95: 100% 1/1 [00:01<00:00,  1.26s/it]\n",
            "                   all         70        263       0.94      0.906      0.946      0.711\n",
            "\n",
            "      Epoch    GPU_mem   box_loss   obj_loss   cls_loss  Instances       Size\n",
            "    146/149      13.1G    0.01452   0.009461   0.001091        106        640: 100% 16/16 [00:27<00:00,  1.70s/it]\n",
            "                 Class     Images  Instances          P          R      mAP50   mAP50-95: 100% 1/1 [00:01<00:00,  1.16s/it]\n",
            "                   all         70        263      0.934      0.911      0.947      0.712\n",
            "\n",
            "      Epoch    GPU_mem   box_loss   obj_loss   cls_loss  Instances       Size\n",
            "    147/149      13.1G    0.01461   0.009426    0.00109        134        640: 100% 16/16 [00:29<00:00,  1.83s/it]\n",
            "                 Class     Images  Instances          P          R      mAP50   mAP50-95: 100% 1/1 [00:01<00:00,  1.27s/it]\n",
            "                   all         70        263      0.931      0.908      0.947      0.706\n",
            "\n",
            "      Epoch    GPU_mem   box_loss   obj_loss   cls_loss  Instances       Size\n",
            "    148/149      13.1G     0.0144   0.009475  0.0009325        117        640: 100% 16/16 [00:27<00:00,  1.69s/it]\n",
            "                 Class     Images  Instances          P          R      mAP50   mAP50-95: 100% 1/1 [00:01<00:00,  1.27s/it]\n",
            "                   all         70        263      0.937      0.908      0.948      0.711\n",
            "\n",
            "      Epoch    GPU_mem   box_loss   obj_loss   cls_loss  Instances       Size\n",
            "    149/149      13.1G    0.01466   0.009566   0.001063        120        640: 100% 16/16 [00:27<00:00,  1.69s/it]\n",
            "                 Class     Images  Instances          P          R      mAP50   mAP50-95: 100% 1/1 [00:01<00:00,  1.53s/it]\n",
            "                   all         70        263      0.932      0.908      0.947      0.709\n",
            "\n",
            "150 epochs completed in 1.241 hours.\n",
            "Optimizer stripped from /content/drive/MyDrive/IA/Pesos_yoloV5/Final_corregido/Small2/weights/last.pt, 14.5MB\n",
            "Optimizer stripped from /content/drive/MyDrive/IA/Pesos_yoloV5/Final_corregido/Small2/weights/best.pt, 14.5MB\n",
            "\n",
            "Validating /content/drive/MyDrive/IA/Pesos_yoloV5/Final_corregido/Small2/weights/best.pt...\n",
            "Fusing layers... \n",
            "Model summary: 157 layers, 7020913 parameters, 0 gradients, 15.8 GFLOPs\n",
            "                 Class     Images  Instances          P          R      mAP50   mAP50-95: 100% 1/1 [00:01<00:00,  1.67s/it]\n",
            "                   all         70        263      0.937      0.911      0.948      0.719\n",
            "            Obligacion         70         59      0.883      0.898      0.929      0.679\n",
            "               Peligro         70         81      0.922      0.875      0.952      0.684\n",
            "           Prohibicion         70         93      0.977      0.912      0.937      0.718\n",
            "                  STOP         70         30      0.966      0.958      0.976      0.797\n",
            "Results saved to \u001b[1m/content/drive/MyDrive/IA/Pesos_yoloV5/Final_corregido/Small2\u001b[0m\n"
          ]
        }
      ]
    },
    {
      "cell_type": "code",
      "source": [
        "# !cd yolov5 && python train.py --resume ../drive/MyDrive/IA/Pesos_yoloV5/Final_corregido/Small/weights/last.pt"
      ],
      "metadata": {
        "id": "DJBbQM_B3PW7"
      },
      "execution_count": 13,
      "outputs": []
    },
    {
      "cell_type": "code",
      "source": [
        "# shutil.copy2(\"/content/yolov5/requirements.txt\", \"/content/requirements.txt\")\n",
        "# !cd yolov5 && python train.py --img 640 --batch-size 64 --epochs 150 --data Final_corregido.yaml --weights yolov5n.pt --save-period 10 --project \"/content/drive/MyDrive/IA/Pesos_yoloV5/Final_corregido\" --name \"Nano\""
      ],
      "metadata": {
        "id": "vzHlDgpqaoeq"
      },
      "execution_count": 14,
      "outputs": []
    },
    {
      "cell_type": "code",
      "source": [
        "# !cd yolov5 && python train.py --resume ../drive/MyDrive/IA/Pesos_yoloV5/Final_corregido/Nano/weights/last.pt"
      ],
      "metadata": {
        "id": "HrNWpLgfaqZX"
      },
      "execution_count": 15,
      "outputs": []
    },
    {
      "cell_type": "markdown",
      "source": [
        "#**Ahora sacamos las métricas con las imagenes de test**"
      ],
      "metadata": {
        "id": "u4P1UrcDbdri"
      }
    },
    {
      "cell_type": "markdown",
      "source": [
        "# *`Small`*\n"
      ],
      "metadata": {
        "id": "r_CqSdxRbIH2"
      }
    },
    {
      "cell_type": "code",
      "source": [
        "!cd yolov5 && python val.py --task test --data Final_corregido.yaml --weights ../drive/MyDrive/IA/Pesos_yoloV5/Final_corregido/Small/weights/best.pt --conf-thres 0.40 --project ../drive/MyDrive/IA/Pesos_yoloV5/Final_corregido/Metricas --name Small"
      ],
      "metadata": {
        "id": "zDihq78Fbkx4",
        "outputId": "ad6f4bec-27a3-48c4-c3a4-b3ac7512827f",
        "colab": {
          "base_uri": "https://localhost:8080/"
        }
      },
      "execution_count": 21,
      "outputs": [
        {
          "output_type": "stream",
          "name": "stdout",
          "text": [
            "\u001b[34m\u001b[1mval: \u001b[0mdata=/content/yolov5/data/Final_corregido.yaml, weights=['../drive/MyDrive/IA/Pesos_yoloV5/Final_corregido/Small/weights/best.pt'], batch_size=32, imgsz=640, conf_thres=0.4, iou_thres=0.6, max_det=300, task=test, device=, workers=8, single_cls=False, augment=False, verbose=False, save_txt=False, save_hybrid=False, save_conf=False, save_json=False, project=../drive/MyDrive/IA/Pesos_yoloV5/Final_corregido/Metricas, name=Small, exist_ok=False, half=False, dnn=False\n",
            "WARNING ⚠️ confidence threshold 0.4 > 0.001 produces invalid results\n",
            "YOLOv5 🚀 v7.0-172-gc3c1304 Python-3.10.11 torch-2.0.1+cu118 CUDA:0 (Tesla T4, 15102MiB)\n",
            "\n",
            "Fusing layers... \n",
            "Model summary: 157 layers, 7020913 parameters, 0 gradients, 15.8 GFLOPs\n",
            "\u001b[34m\u001b[1mtest: \u001b[0mScanning /content/data/test/labels... 50 images, 1 backgrounds, 0 corrupt: 100% 50/50 [00:00<00:00, 311.52it/s]\n",
            "\u001b[34m\u001b[1mtest: \u001b[0mNew cache created: /content/data/test/labels.cache\n",
            "                 Class     Images  Instances          P          R      mAP50   mAP50-95: 100% 2/2 [00:02<00:00,  1.42s/it]\n",
            "                   all         50        139       0.88      0.904      0.921      0.698\n",
            "            Obligacion         50         17      0.734      0.882       0.85      0.635\n",
            "               Peligro         50         64      0.898      0.822      0.897      0.627\n",
            "           Prohibicion         50         46      0.889      0.913      0.942      0.729\n",
            "                  STOP         50         12          1          1      0.995      0.802\n",
            "Speed: 0.3ms pre-process, 11.6ms inference, 2.6ms NMS per image at shape (32, 3, 640, 640)\n",
            "Results saved to \u001b[1m../drive/MyDrive/IA/Pesos_yoloV5/Final_corregido/Metricas/Small\u001b[0m\n"
          ]
        }
      ]
    },
    {
      "cell_type": "markdown",
      "source": [
        "# *`Nano`*"
      ],
      "metadata": {
        "id": "C92gTTLobQ5H"
      }
    },
    {
      "cell_type": "code",
      "source": [
        "!cd yolov5 && python val.py --task test --data Final_corregido.yaml --weights ../drive/MyDrive/IA/Pesos_yoloV5/Final_corregido/Nano/weights/best.pt --conf-thres 0.40 --project ../drive/MyDrive/IA/Pesos_yoloV5/Final_corregido/Metricas --name Nano"
      ],
      "metadata": {
        "id": "Ls-Fsjd2bQI3",
        "outputId": "50ac920a-ba0e-429a-9ec6-d5a6e0e351fc",
        "colab": {
          "base_uri": "https://localhost:8080/"
        }
      },
      "execution_count": 22,
      "outputs": [
        {
          "output_type": "stream",
          "name": "stdout",
          "text": [
            "\u001b[34m\u001b[1mval: \u001b[0mdata=/content/yolov5/data/Final_corregido.yaml, weights=['../drive/MyDrive/IA/Pesos_yoloV5/Final_corregido/Nano/weights/best.pt'], batch_size=32, imgsz=640, conf_thres=0.4, iou_thres=0.6, max_det=300, task=test, device=, workers=8, single_cls=False, augment=False, verbose=False, save_txt=False, save_hybrid=False, save_conf=False, save_json=False, project=../drive/MyDrive/IA/Pesos_yoloV5/Final_corregido/Metricas, name=Nano, exist_ok=False, half=False, dnn=False\n",
            "WARNING ⚠️ confidence threshold 0.4 > 0.001 produces invalid results\n",
            "YOLOv5 🚀 v7.0-172-gc3c1304 Python-3.10.11 torch-2.0.1+cu118 CUDA:0 (Tesla T4, 15102MiB)\n",
            "\n",
            "Fusing layers... \n",
            "Model summary: 157 layers, 1764577 parameters, 0 gradients, 4.1 GFLOPs\n",
            "\u001b[34m\u001b[1mtest: \u001b[0mScanning /content/data/test/labels.cache... 50 images, 1 backgrounds, 0 corrupt: 100% 50/50 [00:00<?, ?it/s]\n",
            "                 Class     Images  Instances          P          R      mAP50   mAP50-95: 100% 2/2 [00:02<00:00,  1.07s/it]\n",
            "                   all         50        139      0.897       0.91      0.932      0.711\n",
            "            Obligacion         50         17       0.77      0.985      0.955        0.7\n",
            "               Peligro         50         64       0.89      0.828      0.888      0.654\n",
            "           Prohibicion         50         46      0.927      0.826      0.892      0.684\n",
            "                  STOP         50         12          1          1      0.995      0.807\n",
            "Speed: 0.2ms pre-process, 11.9ms inference, 3.1ms NMS per image at shape (32, 3, 640, 640)\n",
            "Results saved to \u001b[1m../drive/MyDrive/IA/Pesos_yoloV5/Final_corregido/Metricas/Nano\u001b[0m\n"
          ]
        }
      ]
    },
    {
      "cell_type": "markdown",
      "source": [
        "# Exportar los pesos en formato Onnx"
      ],
      "metadata": {
        "id": "DNLc8tweccPj"
      }
    },
    {
      "cell_type": "code",
      "source": [
        "!cd yolov5 && python export.py --weights ../drive/MyDrive/IA/Pesos_yoloV5/Final_corregido/Small/weights/best.pt --include onnx --imgsz 640 --dynamic --simplify"
      ],
      "metadata": {
        "id": "Wp-usf9PcnG3",
        "outputId": "b3b0d359-a336-4144-db20-8c72b60d2f85",
        "colab": {
          "base_uri": "https://localhost:8080/"
        }
      },
      "execution_count": 24,
      "outputs": [
        {
          "output_type": "stream",
          "name": "stdout",
          "text": [
            "\u001b[34m\u001b[1mexport: \u001b[0mdata=data/coco128.yaml, weights=['../drive/MyDrive/IA/Pesos_yoloV5/Final_corregido/Small/weights/best.pt'], imgsz=[640], batch_size=1, device=cpu, half=False, inplace=False, keras=False, optimize=False, int8=False, dynamic=True, simplify=True, opset=17, verbose=False, workspace=4, nms=False, agnostic_nms=False, topk_per_class=100, topk_all=100, iou_thres=0.45, conf_thres=0.25, include=['onnx']\n",
            "YOLOv5 🚀 v7.0-172-gc3c1304 Python-3.10.11 torch-2.0.1+cu118 CPU\n",
            "\n",
            "Fusing layers... \n",
            "Model summary: 157 layers, 7020913 parameters, 0 gradients, 15.8 GFLOPs\n",
            "\n",
            "\u001b[34m\u001b[1mPyTorch:\u001b[0m starting from ../drive/MyDrive/IA/Pesos_yoloV5/Final_corregido/Small/weights/best.pt with output shape (1, 25200, 9) (13.8 MB)\n",
            "\u001b[31m\u001b[1mrequirements:\u001b[0m Ultralytics requirement \"onnx>=1.12.0\" not found, attempting AutoUpdate...\n",
            "Looking in indexes: https://pypi.org/simple, https://us-python.pkg.dev/colab-wheels/public/simple/\n",
            "Collecting onnx>=1.12.0\n",
            "  Downloading onnx-1.14.0-cp310-cp310-manylinux_2_17_x86_64.manylinux2014_x86_64.whl (14.6 MB)\n",
            "     ━━━━━━━━━━━━━━━━━━━━━━━━━━━━━━━━━━━━━━━ 14.6/14.6 MB 204.0 MB/s eta 0:00:00\n",
            "Requirement already satisfied: numpy in /usr/local/lib/python3.10/dist-packages (from onnx>=1.12.0) (1.22.4)\n",
            "Requirement already satisfied: protobuf>=3.20.2 in /usr/local/lib/python3.10/dist-packages (from onnx>=1.12.0) (3.20.3)\n",
            "Requirement already satisfied: typing-extensions>=3.6.2.1 in /usr/local/lib/python3.10/dist-packages (from onnx>=1.12.0) (4.5.0)\n",
            "Installing collected packages: onnx\n",
            "Successfully installed onnx-1.14.0\n",
            "\n",
            "\u001b[31m\u001b[1mrequirements:\u001b[0m 1 package updated per ['onnx>=1.12.0']\n",
            "\u001b[31m\u001b[1mrequirements:\u001b[0m ⚠️ \u001b[1mRestart runtime or rerun command for updates to take effect\u001b[0m\n",
            "\n",
            "\n",
            "\u001b[34m\u001b[1mONNX:\u001b[0m starting export with onnx 1.14.0...\n",
            "============= Diagnostic Run torch.onnx.export version 2.0.1+cu118 =============\n",
            "verbose: False, log level: Level.ERROR\n",
            "======================= 0 NONE 0 NOTE 0 WARNING 0 ERROR ========================\n",
            "\n",
            "\u001b[31m\u001b[1mrequirements:\u001b[0m Ultralytics requirements \"onnxruntime\" \"onnx-simplifier>=0.4.1\" not found, attempting AutoUpdate...\n",
            "Looking in indexes: https://pypi.org/simple, https://us-python.pkg.dev/colab-wheels/public/simple/\n",
            "Collecting onnxruntime\n",
            "  Downloading onnxruntime-1.15.0-cp310-cp310-manylinux_2_17_x86_64.manylinux2014_x86_64.whl (5.9 MB)\n",
            "     ━━━━━━━━━━━━━━━━━━━━━━━━━━━━━━━━━━━━━━━━ 5.9/5.9 MB 74.5 MB/s eta 0:00:00\n",
            "Collecting onnx-simplifier>=0.4.1\n",
            "  Downloading onnx_simplifier-0.4.28-cp310-cp310-manylinux_2_17_x86_64.manylinux2014_x86_64.whl (2.1 MB)\n",
            "     ━━━━━━━━━━━━━━━━━━━━━━━━━━━━━━━━━━━━━━━━ 2.1/2.1 MB 196.2 MB/s eta 0:00:00\n",
            "Collecting coloredlogs (from onnxruntime)\n",
            "  Downloading coloredlogs-15.0.1-py2.py3-none-any.whl (46 kB)\n",
            "     ━━━━━━━━━━━━━━━━━━━━━━━━━━━━━━━━━━━━━━━ 46.0/46.0 kB 279.0 MB/s eta 0:00:00\n",
            "Requirement already satisfied: flatbuffers in /usr/local/lib/python3.10/dist-packages (from onnxruntime) (23.3.3)\n",
            "Requirement already satisfied: numpy>=1.21.6 in /usr/local/lib/python3.10/dist-packages (from onnxruntime) (1.22.4)\n",
            "Requirement already satisfied: packaging in /usr/local/lib/python3.10/dist-packages (from onnxruntime) (23.1)\n",
            "Requirement already satisfied: protobuf in /usr/local/lib/python3.10/dist-packages (from onnxruntime) (3.20.3)\n",
            "Requirement already satisfied: sympy in /usr/local/lib/python3.10/dist-packages (from onnxruntime) (1.11.1)\n",
            "Requirement already satisfied: onnx in /usr/local/lib/python3.10/dist-packages (from onnx-simplifier>=0.4.1) (1.14.0)\n",
            "Requirement already satisfied: rich in /usr/local/lib/python3.10/dist-packages (from onnx-simplifier>=0.4.1) (13.3.4)\n",
            "Collecting humanfriendly>=9.1 (from coloredlogs->onnxruntime)\n",
            "  Downloading humanfriendly-10.0-py2.py3-none-any.whl (86 kB)\n",
            "     ━━━━━━━━━━━━━━━━━━━━━━━━━━━━━━━━━━━━━━━ 86.8/86.8 kB 301.9 MB/s eta 0:00:00\n",
            "Requirement already satisfied: typing-extensions>=3.6.2.1 in /usr/local/lib/python3.10/dist-packages (from onnx->onnx-simplifier>=0.4.1) (4.5.0)\n",
            "Requirement already satisfied: markdown-it-py<3.0.0,>=2.2.0 in /usr/local/lib/python3.10/dist-packages (from rich->onnx-simplifier>=0.4.1) (2.2.0)\n",
            "Requirement already satisfied: pygments<3.0.0,>=2.13.0 in /usr/local/lib/python3.10/dist-packages (from rich->onnx-simplifier>=0.4.1) (2.14.0)\n",
            "Requirement already satisfied: mpmath>=0.19 in /usr/local/lib/python3.10/dist-packages (from sympy->onnxruntime) (1.3.0)\n",
            "Requirement already satisfied: mdurl~=0.1 in /usr/local/lib/python3.10/dist-packages (from markdown-it-py<3.0.0,>=2.2.0->rich->onnx-simplifier>=0.4.1) (0.1.2)\n",
            "Installing collected packages: humanfriendly, coloredlogs, onnxruntime, onnx-simplifier\n",
            "Successfully installed coloredlogs-15.0.1 humanfriendly-10.0 onnx-simplifier-0.4.28 onnxruntime-1.15.0\n",
            "\n",
            "\u001b[31m\u001b[1mrequirements:\u001b[0m 2 packages updated per ('onnxruntime', 'onnx-simplifier>=0.4.1')\n",
            "\u001b[31m\u001b[1mrequirements:\u001b[0m ⚠️ \u001b[1mRestart runtime or rerun command for updates to take effect\u001b[0m\n",
            "\n",
            "\u001b[34m\u001b[1mONNX:\u001b[0m simplifying with onnx-simplifier 0.4.28...\n",
            "\u001b[34m\u001b[1mONNX:\u001b[0m export success ✅ 16.0s, saved as ../drive/MyDrive/IA/Pesos_yoloV5/Final_corregido/Small/weights/best.onnx (26.9 MB)\n",
            "\n",
            "Export complete (17.0s)\n",
            "Results saved to \u001b[1m/content/drive/MyDrive/IA/Pesos_yoloV5/Final_corregido/Small/weights\u001b[0m\n",
            "Detect:          python detect.py --weights ../drive/MyDrive/IA/Pesos_yoloV5/Final_corregido/Small/weights/best.onnx \n",
            "Validate:        python val.py --weights ../drive/MyDrive/IA/Pesos_yoloV5/Final_corregido/Small/weights/best.onnx \n",
            "PyTorch Hub:     model = torch.hub.load('ultralytics/yolov5', 'custom', '../drive/MyDrive/IA/Pesos_yoloV5/Final_corregido/Small/weights/best.onnx')  \n",
            "Visualize:       https://netron.app\n"
          ]
        }
      ]
    },
    {
      "cell_type": "code",
      "source": [
        "!cd yolov5 && python export.py --weights ../drive/MyDrive/IA/Pesos_yoloV5/Final_corregido/Nano/weights/best.pt --include onnx --imgsz 640 --dynamic --simplify"
      ],
      "metadata": {
        "id": "PEGPZkYldP85",
        "outputId": "4760fe14-067b-4c2c-d52c-3ec23e01f854",
        "colab": {
          "base_uri": "https://localhost:8080/"
        }
      },
      "execution_count": 25,
      "outputs": [
        {
          "output_type": "stream",
          "name": "stdout",
          "text": [
            "\u001b[34m\u001b[1mexport: \u001b[0mdata=data/coco128.yaml, weights=['../drive/MyDrive/IA/Pesos_yoloV5/Final_corregido/Nano/weights/best.pt'], imgsz=[640], batch_size=1, device=cpu, half=False, inplace=False, keras=False, optimize=False, int8=False, dynamic=True, simplify=True, opset=17, verbose=False, workspace=4, nms=False, agnostic_nms=False, topk_per_class=100, topk_all=100, iou_thres=0.45, conf_thres=0.25, include=['onnx']\n",
            "YOLOv5 🚀 v7.0-172-gc3c1304 Python-3.10.11 torch-2.0.1+cu118 CPU\n",
            "\n",
            "Fusing layers... \n",
            "Model summary: 157 layers, 1764577 parameters, 0 gradients, 4.1 GFLOPs\n",
            "\n",
            "\u001b[34m\u001b[1mPyTorch:\u001b[0m starting from ../drive/MyDrive/IA/Pesos_yoloV5/Final_corregido/Nano/weights/best.pt with output shape (1, 25200, 9) (3.7 MB)\n",
            "\n",
            "\u001b[34m\u001b[1mONNX:\u001b[0m starting export with onnx 1.14.0...\n",
            "============= Diagnostic Run torch.onnx.export version 2.0.1+cu118 =============\n",
            "verbose: False, log level: Level.ERROR\n",
            "======================= 0 NONE 0 NOTE 0 WARNING 0 ERROR ========================\n",
            "\n",
            "\u001b[34m\u001b[1mONNX:\u001b[0m simplifying with onnx-simplifier 0.4.28...\n",
            "\u001b[34m\u001b[1mONNX:\u001b[0m export success ✅ 2.5s, saved as ../drive/MyDrive/IA/Pesos_yoloV5/Final_corregido/Nano/weights/best.onnx (6.8 MB)\n",
            "\n",
            "Export complete (3.8s)\n",
            "Results saved to \u001b[1m/content/drive/MyDrive/IA/Pesos_yoloV5/Final_corregido/Nano/weights\u001b[0m\n",
            "Detect:          python detect.py --weights ../drive/MyDrive/IA/Pesos_yoloV5/Final_corregido/Nano/weights/best.onnx \n",
            "Validate:        python val.py --weights ../drive/MyDrive/IA/Pesos_yoloV5/Final_corregido/Nano/weights/best.onnx \n",
            "PyTorch Hub:     model = torch.hub.load('ultralytics/yolov5', 'custom', '../drive/MyDrive/IA/Pesos_yoloV5/Final_corregido/Nano/weights/best.onnx')  \n",
            "Visualize:       https://netron.app\n"
          ]
        }
      ]
    },
    {
      "cell_type": "markdown",
      "source": [
        "***Sacamos las metricas de los modelos exportados al formato .onnx***"
      ],
      "metadata": {
        "id": "8cTLIpBQ8QGb"
      }
    },
    {
      "cell_type": "code",
      "source": [
        "!cd yolov5 && python val.py --task test --data Final_corregido.yaml --weights ../drive/MyDrive/IA/Pesos_yoloV5/Final_corregido/Small/weights/best.onnx --conf-thres 0.40 --project ../drive/MyDrive/IA/Pesos_yoloV5/Final_corregido/Metricas --name Small_onnx"
      ],
      "metadata": {
        "id": "s2c9uSL34AJB",
        "outputId": "9c8de821-a687-41c2-dd1d-89001bb67782",
        "colab": {
          "base_uri": "https://localhost:8080/"
        }
      },
      "execution_count": 26,
      "outputs": [
        {
          "output_type": "stream",
          "name": "stdout",
          "text": [
            "\u001b[34m\u001b[1mval: \u001b[0mdata=/content/yolov5/data/Final_corregido.yaml, weights=['../drive/MyDrive/IA/Pesos_yoloV5/Final_corregido/Small/weights/best.onnx'], batch_size=32, imgsz=640, conf_thres=0.4, iou_thres=0.6, max_det=300, task=test, device=, workers=8, single_cls=False, augment=False, verbose=False, save_txt=False, save_hybrid=False, save_conf=False, save_json=False, project=../drive/MyDrive/IA/Pesos_yoloV5/Final_corregido/Metricas, name=Small_onnx, exist_ok=False, half=False, dnn=False\n",
            "WARNING ⚠️ confidence threshold 0.4 > 0.001 produces invalid results\n",
            "YOLOv5 🚀 v7.0-172-gc3c1304 Python-3.10.11 torch-2.0.1+cu118 CUDA:0 (Tesla T4, 15102MiB)\n",
            "\n",
            "Loading ../drive/MyDrive/IA/Pesos_yoloV5/Final_corregido/Small/weights/best.onnx for ONNX Runtime inference...\n",
            "\u001b[31m\u001b[1mrequirements:\u001b[0m Ultralytics requirement \"onnxruntime-gpu\" not found, attempting AutoUpdate...\n",
            "Looking in indexes: https://pypi.org/simple, https://us-python.pkg.dev/colab-wheels/public/simple/\n",
            "Collecting onnxruntime-gpu\n",
            "  Downloading onnxruntime_gpu-1.15.0-cp310-cp310-manylinux_2_17_x86_64.manylinux2014_x86_64.whl (122.2 MB)\n",
            "     ━━━━━━━━━━━━━━━━━━━━━━━━━━━━━━━━━━━━━ 122.2/122.2 MB 141.7 MB/s eta 0:00:00\n",
            "Requirement already satisfied: coloredlogs in /usr/local/lib/python3.10/dist-packages (from onnxruntime-gpu) (15.0.1)\n",
            "Requirement already satisfied: flatbuffers in /usr/local/lib/python3.10/dist-packages (from onnxruntime-gpu) (23.3.3)\n",
            "Requirement already satisfied: numpy>=1.21.6 in /usr/local/lib/python3.10/dist-packages (from onnxruntime-gpu) (1.22.4)\n",
            "Requirement already satisfied: packaging in /usr/local/lib/python3.10/dist-packages (from onnxruntime-gpu) (23.1)\n",
            "Requirement already satisfied: protobuf in /usr/local/lib/python3.10/dist-packages (from onnxruntime-gpu) (3.20.3)\n",
            "Requirement already satisfied: sympy in /usr/local/lib/python3.10/dist-packages (from onnxruntime-gpu) (1.11.1)\n",
            "Requirement already satisfied: humanfriendly>=9.1 in /usr/local/lib/python3.10/dist-packages (from coloredlogs->onnxruntime-gpu) (10.0)\n",
            "Requirement already satisfied: mpmath>=0.19 in /usr/local/lib/python3.10/dist-packages (from sympy->onnxruntime-gpu) (1.3.0)\n",
            "Installing collected packages: onnxruntime-gpu\n",
            "Successfully installed onnxruntime-gpu-1.15.0\n",
            "\n",
            "\u001b[31m\u001b[1mrequirements:\u001b[0m 1 package updated per ('onnx', 'onnxruntime-gpu')\n",
            "\u001b[31m\u001b[1mrequirements:\u001b[0m ⚠️ \u001b[1mRestart runtime or rerun command for updates to take effect\u001b[0m\n",
            "\n",
            "Forcing --batch-size 1 square inference (1,3,640,640) for non-PyTorch models\n",
            "\u001b[34m\u001b[1mtest: \u001b[0mScanning /content/data/test/labels.cache... 50 images, 1 backgrounds, 0 corrupt: 100% 50/50 [00:00<?, ?it/s]\n",
            "                 Class     Images  Instances          P          R      mAP50   mAP50-95: 100% 50/50 [00:01<00:00, 32.66it/s]\n",
            "                   all         50        139      0.892      0.901      0.918      0.691\n",
            "            Obligacion         50         17      0.789      0.882      0.861      0.647\n",
            "               Peligro         50         64      0.905      0.891      0.918      0.647\n",
            "           Prohibicion         50         46      0.875      0.913      0.938      0.714\n",
            "                  STOP         50         12          1      0.917      0.958      0.755\n",
            "Speed: 0.3ms pre-process, 13.4ms inference, 2.1ms NMS per image at shape (1, 3, 640, 640)\n",
            "Results saved to \u001b[1m../drive/MyDrive/IA/Pesos_yoloV5/Final_corregido/Metricas/Small_onnx\u001b[0m\n"
          ]
        }
      ]
    },
    {
      "cell_type": "code",
      "source": [
        "!cd yolov5 && python val.py --task test --data Final_corregido.yaml --weights ../drive/MyDrive/IA/Pesos_yoloV5/Final_corregido/Nano/weights/best.onnx --conf-thres 0.40 --project ../drive/MyDrive/IA/Pesos_yoloV5/Final_corregido/Metricas --name Nano_onnx"
      ],
      "metadata": {
        "id": "TdCPKpev4CkE",
        "outputId": "5a1135d4-2d3a-417d-f7b3-5dd6a7df4b1f",
        "colab": {
          "base_uri": "https://localhost:8080/"
        }
      },
      "execution_count": 27,
      "outputs": [
        {
          "output_type": "stream",
          "name": "stdout",
          "text": [
            "\u001b[34m\u001b[1mval: \u001b[0mdata=/content/yolov5/data/Final_corregido.yaml, weights=['../drive/MyDrive/IA/Pesos_yoloV5/Final_corregido/Nano/weights/best.onnx'], batch_size=32, imgsz=640, conf_thres=0.4, iou_thres=0.6, max_det=300, task=test, device=, workers=8, single_cls=False, augment=False, verbose=False, save_txt=False, save_hybrid=False, save_conf=False, save_json=False, project=../drive/MyDrive/IA/Pesos_yoloV5/Final_corregido/Metricas, name=Nano_onnx, exist_ok=False, half=False, dnn=False\n",
            "WARNING ⚠️ confidence threshold 0.4 > 0.001 produces invalid results\n",
            "YOLOv5 🚀 v7.0-172-gc3c1304 Python-3.10.11 torch-2.0.1+cu118 CUDA:0 (Tesla T4, 15102MiB)\n",
            "\n",
            "Loading ../drive/MyDrive/IA/Pesos_yoloV5/Final_corregido/Nano/weights/best.onnx for ONNX Runtime inference...\n",
            "Forcing --batch-size 1 square inference (1,3,640,640) for non-PyTorch models\n",
            "\u001b[34m\u001b[1mtest: \u001b[0mScanning /content/data/test/labels.cache... 50 images, 1 backgrounds, 0 corrupt: 100% 50/50 [00:00<?, ?it/s]\n",
            "                 Class     Images  Instances          P          R      mAP50   mAP50-95: 100% 50/50 [00:01<00:00, 31.82it/s]\n",
            "                   all         50        139      0.922      0.875      0.935      0.712\n",
            "            Obligacion         50         17      0.804      0.963      0.965      0.716\n",
            "               Peligro         50         64      0.927      0.796      0.895      0.655\n",
            "           Prohibicion         50         46      0.959      0.739      0.887      0.695\n",
            "                  STOP         50         12          1          1      0.995      0.781\n",
            "Speed: 0.6ms pre-process, 10.9ms inference, 3.0ms NMS per image at shape (1, 3, 640, 640)\n",
            "Results saved to \u001b[1m../drive/MyDrive/IA/Pesos_yoloV5/Final_corregido/Metricas/Nano_onnx\u001b[0m\n"
          ]
        }
      ]
    },
    {
      "cell_type": "markdown",
      "source": [
        "\n",
        "\n",
        "---\n",
        "\n",
        "\n",
        "\n",
        "# ***Para los pasos siguientes es recomendable reiniciar la instancia y cargar todos los archivos otra vez, hacer clone y realizar los pip solo del repositorio siguiente***\n",
        "\n",
        "\n",
        "---\n",
        "\n",
        "\n"
      ],
      "metadata": {
        "id": "HSdcg0zB7Ho2"
      }
    },
    {
      "cell_type": "markdown",
      "source": [
        "# Ahora probamos con la opcion pruned y quantized"
      ],
      "metadata": {
        "id": "4JPFpzAzd4gv"
      }
    },
    {
      "cell_type": "code",
      "source": [
        "!git clone https://github.com/dnth/yolov5-deepsparse-blogpost"
      ],
      "metadata": {
        "id": "-PN-OwgzeO4Q"
      },
      "execution_count": null,
      "outputs": []
    },
    {
      "cell_type": "code",
      "source": [
        "!pip install torch==1.9.0 torchvision==0.10.0 --extra-index-url https://download.pytorch.org/whl/cu111"
      ],
      "metadata": {
        "id": "ecojVzbueQeq"
      },
      "execution_count": null,
      "outputs": []
    },
    {
      "cell_type": "code",
      "source": [
        "!pip install setuptools==59.5.0 tensorboard==2.9.1"
      ],
      "metadata": {
        "id": "I5Ii93r9eRfH"
      },
      "execution_count": null,
      "outputs": []
    },
    {
      "cell_type": "code",
      "source": [
        "!cd yolov5-deepsparse-blogpost && pip install -r req.txt"
      ],
      "metadata": {
        "id": "pOR6BQZpeSvO"
      },
      "execution_count": null,
      "outputs": []
    },
    {
      "cell_type": "code",
      "source": [
        "# !pip install sparseml"
      ],
      "metadata": {
        "id": "RNsPDGXw6yYr"
      },
      "execution_count": null,
      "outputs": []
    },
    {
      "cell_type": "markdown",
      "source": [
        "# Training YOLOv5-S (Pruned)\n"
      ],
      "metadata": {
        "id": "jA7SAg5CegUP"
      }
    },
    {
      "cell_type": "markdown",
      "source": [
        "Now let's trained a YOLOv5-S and prune it."
      ],
      "metadata": {
        "id": "kfNkr2pDej06"
      }
    },
    {
      "cell_type": "code",
      "source": [
        "# Uncomment to train model\n",
        "!cd yolov5-deepsparse-blogpost/yolov5-train/ && python train.py --cfg ./models_v5.0/yolov5s.yaml \\\n",
        "              --recipe ../recipes/yolov5s.pruned.md \\\n",
        "              --data Final_corregido.yaml --hyp data/hyps/hyp.scratch.yaml \\\n",
        "              --weights yolov5s.pt --img 640 --batch-size 64"
      ],
      "metadata": {
        "id": "K8FcGyAYelKK"
      },
      "execution_count": null,
      "outputs": []
    },
    {
      "cell_type": "markdown",
      "source": [
        "Lo exportamos a Onnx"
      ],
      "metadata": {
        "id": "R_AtbSepe1yZ"
      }
    },
    {
      "cell_type": "code",
      "source": [
        "# !cd yolov5 && python export.py --weights ../drive/MyDrive/IA/Pesos_yoloV5/Final_corregido/Small/weights/best.pt --include onnx --imgsz 640 --dynamic --simplify"
      ],
      "metadata": {
        "id": "GruZ0hNAe5oO"
      },
      "execution_count": null,
      "outputs": []
    },
    {
      "cell_type": "markdown",
      "source": [
        "# Training YOLOv5-S (Pruned + Quantized)"
      ],
      "metadata": {
        "id": "yGWIxZneenZx"
      }
    },
    {
      "cell_type": "markdown",
      "source": [
        "Finally let's train a YOLOv5 with pruning and quantization."
      ],
      "metadata": {
        "id": "uj9XZ4L9ep_J"
      }
    },
    {
      "cell_type": "code",
      "source": [
        "# Uncomment to train model\n",
        "# !cd yolov5-deepsparse-blogpost/yolov5-train/ && python train.py --cfg ./models_v5.0/yolov5s.yaml \\\n",
        "#               --recipe ../recipes/yolov5.transfer_learn_pruned_quantized.md \\\n",
        "#               --data Final_corregido.yaml --hyp data/hyps/hyp.scratch.yaml \\\n",
        "#               --weights yolov5s.pt --img 640 --batch-size 64"
      ],
      "metadata": {
        "id": "Cy3u5VPXerRS"
      },
      "execution_count": null,
      "outputs": []
    },
    {
      "cell_type": "markdown",
      "source": [
        "Lo exportamos a Onnx"
      ],
      "metadata": {
        "id": "R90ZQwrme9Bs"
      }
    },
    {
      "cell_type": "code",
      "source": [
        "# !cd yolov5 && python export.py --weights ../drive/MyDrive/IA/Pesos_yoloV5/Final_corregido/Small/weights/best.pt --include onnx --imgsz 640 --dynamic --simplify"
      ],
      "metadata": {
        "id": "7gl4Tr7XfBaw"
      },
      "execution_count": null,
      "outputs": []
    },
    {
      "cell_type": "markdown",
      "source": [
        "# Training YOLOv5-Nano (Pruned + Quantized)"
      ],
      "metadata": {
        "id": "SeFJgMs4euTm"
      }
    },
    {
      "cell_type": "code",
      "source": [
        "# Uncomment to train model\n",
        "# !cd yolov5-deepsparse-blogpost/yolov5-train/ && python train.py --cfg ./models_v5.0/yolov5n.yaml \\\n",
        "#                --recipe ../recipes/yolov5.transfer_learn_pruned_quantized.md \\\n",
        "#                --data Final_corregido.yaml --hyp data/hyps/hyp.scratch.yaml \\\n",
        "#                --weights yolov5n.pt --img 640 --batch-size 64"
      ],
      "metadata": {
        "id": "TrLRZQMtewtC"
      },
      "execution_count": null,
      "outputs": []
    },
    {
      "cell_type": "markdown",
      "source": [
        "Lo exportamos a Onnx"
      ],
      "metadata": {
        "id": "HkGD4oBOe-LN"
      }
    },
    {
      "cell_type": "code",
      "source": [
        "# !cd yolov5 && python export.py --weights ../drive/MyDrive/IA/Pesos_yoloV5/Final_corregido/Small/weights/best.pt --include onnx --imgsz 640 --dynamic --simplify"
      ],
      "metadata": {
        "id": "MquiqelPfByx"
      },
      "execution_count": null,
      "outputs": []
    }
  ]
}