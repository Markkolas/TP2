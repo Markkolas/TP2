{
  "nbformat": 4,
  "nbformat_minor": 0,
  "metadata": {
    "colab": {
      "provenance": [],
      "include_colab_link": true
    },
    "kernelspec": {
      "name": "python3",
      "display_name": "Python 3"
    },
    "language_info": {
      "name": "python"
    },
    "accelerator": "GPU",
    "gpuClass": "standard"
  },
  "cells": [
    {
      "cell_type": "markdown",
      "metadata": {
        "id": "view-in-github",
        "colab_type": "text"
      },
      "source": [
        "<a href=\"https://colab.research.google.com/github/Markkolas/TP2/blob/jorge-test/Final_corregido/NoteBook_Final.ipynb\" target=\"_parent\"><img src=\"https://colab.research.google.com/assets/colab-badge.svg\" alt=\"Open In Colab\"/></a>"
      ]
    },
    {
      "cell_type": "code",
      "execution_count": 1,
      "metadata": {
        "id": "n_Ko1xe5vmSb"
      },
      "outputs": [],
      "source": [
        "%%capture\n",
        "from google.colab import drive\n",
        "drive.mount('/content/drive')"
      ]
    },
    {
      "cell_type": "code",
      "source": [
        "%%capture\n",
        "import torch\n",
        "torch.cuda.is_available()"
      ],
      "metadata": {
        "id": "BdaVGv8rvrD8"
      },
      "execution_count": 2,
      "outputs": []
    },
    {
      "cell_type": "code",
      "source": [
        "%%capture\n",
        "!pip3 install torch torchvision torchaudio "
      ],
      "metadata": {
        "id": "1v0wh0Kzvs96"
      },
      "execution_count": 3,
      "outputs": []
    },
    {
      "cell_type": "code",
      "source": [
        "%%capture\n",
        "!git clone https://github.com/ultralytics/yolov5"
      ],
      "metadata": {
        "id": "RKvthXUevu46"
      },
      "execution_count": 4,
      "outputs": []
    },
    {
      "cell_type": "code",
      "source": [
        "%%capture\n",
        "%cd /content/yolov5\n",
        "!git pull\n",
        "%cd ../"
      ],
      "metadata": {
        "id": "cmzb83PUv-ky"
      },
      "execution_count": 5,
      "outputs": []
    },
    {
      "cell_type": "code",
      "source": [
        "%%capture\n",
        "!pip install -r yolov5/requirements.txt"
      ],
      "metadata": {
        "id": "HQPzl6QzwAAa"
      },
      "execution_count": 6,
      "outputs": []
    },
    {
      "cell_type": "code",
      "source": [
        "import torch\n",
        "from matplotlib import pyplot as plt\n",
        "import numpy as np\n",
        "import cv2 #Para abrir webcam\n",
        "# cv2.imshow() is disabled in Colab, because it causes Jupyter sessionsto crash, consider using cv2_imshow \n",
        "from google.colab.patches import cv2_imshow \n",
        "import sys # to access the system\n",
        "\n",
        "# Esta línea de código establece una variable de entorno llamada KMP_DUPLICATE_LIB_OK con el valor \"True\", lo que significa que permite la carga de bibliotecas duplicadas en el entorno de Python. Esto es útil para algunas bibliotecas de Machine Learning que usan OpenMP para acelerar el cómputo.\n",
        "import os    \n",
        "os.environ['KMP_DUPLICATE_LIB_OK'] = 'True'"
      ],
      "metadata": {
        "id": "uovDTFbCwBlL"
      },
      "execution_count": 7,
      "outputs": []
    },
    {
      "cell_type": "code",
      "source": [
        "import os\n",
        "import random\n",
        "import shutil\n",
        "\n",
        "# Creamos los directorios necesarios\n",
        "os.makedirs('/content/data/train/images', exist_ok=True)\n",
        "os.makedirs('/content/data/train/labels', exist_ok=True)\n",
        "os.makedirs('/content/data/val/images', exist_ok=True)\n",
        "os.makedirs('/content/data/val/labels', exist_ok=True)\n",
        "os.makedirs('/content/data/test/images', exist_ok=True)\n",
        "os.makedirs('/content/data/test/labels', exist_ok=True)\n",
        "\n",
        "dest_train_Image = \"/content/data/train/images/\"\n",
        "dest_train_Label = \"/content/data/train/labels/\"\n",
        "dest_val_Image = \"/content/data/val/images/\"\n",
        "dest_val_Label = \"/content/data/val/labels/\"\n",
        "dest_test_Image = \"/content/data/test/images/\"\n",
        "dest_test_Label = \"/content/data/test/labels/\"\n",
        "\n",
        "\n",
        "with os.scandir('/content/drive/MyDrive/IA/Datasets/Final_corregido/train/images') as entries:\n",
        "  for entry in entries:\n",
        "    shutil.copy2(entry.path, dest_train_Image)\n",
        "\n",
        "with os.scandir('/content/drive/MyDrive/IA/Datasets/Final_corregido/train/labels') as entries:\n",
        "  for entry in entries:\n",
        "    shutil.copy2(entry.path, dest_train_Label)\n",
        "\n",
        "with os.scandir('/content/drive/MyDrive/IA/Datasets/Final_corregido/val/images') as entries:\n",
        "  for entry in entries:\n",
        "    shutil.copy2(entry.path, dest_val_Image)\n",
        "\n",
        "with os.scandir('/content/drive/MyDrive/IA/Datasets/Final_corregido/val/labels') as entries:\n",
        "  for entry in entries:\n",
        "    shutil.copy2(entry.path, dest_val_Label)\n",
        "\n",
        "with os.scandir('/content/drive/MyDrive/IA/Datasets/Final_corregido/test/images') as entries:\n",
        "  for entry in entries:\n",
        "    shutil.copy2(entry.path, dest_test_Image)\n",
        "\n",
        "with os.scandir('/content/drive/MyDrive/IA/Datasets/Final_corregido/test/labels') as entries:\n",
        "  for entry in entries:\n",
        "    shutil.copy2(entry.path, dest_test_Label)"
      ],
      "metadata": {
        "id": "odDjyoF6wEAz"
      },
      "execution_count": null,
      "outputs": []
    },
    {
      "cell_type": "code",
      "source": [
        "f= open(\"yolov5/data/Final_corregido.yaml\",\"w+\")\n",
        "\n",
        "f.write(\"path: ../data \\ntrain: train/images/ \\nval: val/images \\ntest: test/images \\n\\nnc: 4 \\n\\nnames: ['Obligacion', 'Peligro', 'Prohibicion', 'STOP']\")\n",
        "\n",
        "f.close()"
      ],
      "metadata": {
        "id": "PRatlsX1wg2D"
      },
      "execution_count": null,
      "outputs": []
    },
    {
      "cell_type": "markdown",
      "source": [
        "# **Este paso es opcional, con esto primero se consiguen los mejores hyperparametros y luego se entrena directamente**"
      ],
      "metadata": {
        "id": "06h3di7dbCbI"
      }
    },
    {
      "cell_type": "code",
      "source": [
        "shutil.copy2(\"/content/yolov5/requirements.txt\", \"/content/requirements.txt\")\n",
        "!cd yolov5 && python train.py --evolve --img 640 --batch-size 16 --epochs 150 --data Final_corregido.yaml --weights yolov5s.pt --save-period 10 --project \"/content/drive/MyDrive/IA/Pesos_yoloV5/Final_corregido\" --name \"Small\""
      ],
      "metadata": {
        "id": "VtDM-QIWhDXI"
      },
      "execution_count": null,
      "outputs": []
    },
    {
      "cell_type": "code",
      "source": [
        "# shutil.copy2(\"/content/yolov5/requirements.txt\", \"/content/requirements.txt\")\n",
        "# !cd yolov5 && python train.py --evolve --img 640 --batch-size 16 --epochs 150 --data Final_corregido.yaml --weights yolov5n.pt --save-period 10 --project \"/content/drive/MyDrive/IA/Pesos_yoloV5/Final_corregido\" --name \"Nano\""
      ],
      "metadata": {
        "id": "_AqZZgVub9Z_"
      },
      "execution_count": null,
      "outputs": []
    },
    {
      "cell_type": "markdown",
      "source": [
        "# **Si hacemos este paso directamente, entrenamos sin optimizar los hyperparametros**"
      ],
      "metadata": {
        "id": "jf0lN2eEbRGw"
      }
    },
    {
      "cell_type": "code",
      "source": [
        "# shutil.copy2(\"/content/yolov5/requirements.txt\", \"/content/requirements.txt\")\n",
        "# !cd yolov5 && python train.py --img 640 --batch-size 16 --epochs 150 --data Final_corregido.yaml --weights yolov5s.pt --save-period 10 --project \"/content/drive/MyDrive/IA/Pesos_yoloV5/Final_corregido\" --name \"Small\""
      ],
      "metadata": {
        "id": "OhLeJU-OxGtV"
      },
      "execution_count": null,
      "outputs": []
    },
    {
      "cell_type": "code",
      "source": [
        "# !cd yolov5 && python train.py --resume ../drive/MyDrive/IA/Pesos_yoloV5/Final_corregido/Small/weights/last.pt"
      ],
      "metadata": {
        "id": "DJBbQM_B3PW7"
      },
      "execution_count": null,
      "outputs": []
    },
    {
      "cell_type": "code",
      "source": [
        "# shutil.copy2(\"/content/yolov5/requirements.txt\", \"/content/requirements.txt\")\n",
        "# !cd yolov5 && python train.py --img 640 --batch-size 16 --epochs 150 --data Final_corregido.yaml --weights yolov5n.pt --save-period 10 --project \"/content/drive/MyDrive/IA/Pesos_yoloV5/Final_corregido\" --name \"Nano\""
      ],
      "metadata": {
        "id": "vzHlDgpqaoeq"
      },
      "execution_count": null,
      "outputs": []
    },
    {
      "cell_type": "code",
      "source": [
        "# !cd yolov5 && python train.py --resume ../drive/MyDrive/IA/Pesos_yoloV5/Final_corregido/Nano/weights/last.pt"
      ],
      "metadata": {
        "id": "HrNWpLgfaqZX"
      },
      "execution_count": null,
      "outputs": []
    },
    {
      "cell_type": "markdown",
      "source": [
        "#**Ahora sacamos las métricas con las imagenes de test**"
      ],
      "metadata": {
        "id": "u4P1UrcDbdri"
      }
    },
    {
      "cell_type": "markdown",
      "source": [
        "# *`Small`*\n"
      ],
      "metadata": {
        "id": "r_CqSdxRbIH2"
      }
    },
    {
      "cell_type": "code",
      "source": [
        "!cd yolov5 && python val.py --task test --data Final_corregido.yaml --weights ../drive/MyDrive/IA/Pesos_yoloV5/Final_corregido/Small/weights/best.pt --conf-thres 0.40 --project ../drive/MyDrive/IA/Pesos_yoloV5/Final_corregido/Metricas --name best"
      ],
      "metadata": {
        "id": "zDihq78Fbkx4"
      },
      "execution_count": null,
      "outputs": []
    },
    {
      "cell_type": "markdown",
      "source": [
        "# *`Nano`*"
      ],
      "metadata": {
        "id": "C92gTTLobQ5H"
      }
    },
    {
      "cell_type": "code",
      "source": [
        "# !cd yolov5 && python val.py --task test --data Final_corregido.yaml --weights ../drive/MyDrive/IA/Pesos_yoloV5/Final_corregido/Nano/weights/best.pt --conf-thres 0.40 --project ../drive/MyDrive/IA/Pesos_yoloV5/Final_corregido/Metricas --name best"
      ],
      "metadata": {
        "id": "Ls-Fsjd2bQI3"
      },
      "execution_count": null,
      "outputs": []
    },
    {
      "cell_type": "markdown",
      "source": [
        "# Exportar los pesos en formato Onnx"
      ],
      "metadata": {
        "id": "DNLc8tweccPj"
      }
    },
    {
      "cell_type": "code",
      "source": [
        "!cd yolov5 && python export.py --weights ../drive/MyDrive/IA/Pesos_yoloV5/Final_corregido/Small/weights/best.pt --include onnx --imgsz 640 --dynamic --simplify"
      ],
      "metadata": {
        "id": "Wp-usf9PcnG3"
      },
      "execution_count": null,
      "outputs": []
    },
    {
      "cell_type": "code",
      "source": [
        "# !cd yolov5 && python export.py --weights ../drive/MyDrive/IA/Pesos_yoloV5/Final_corregido/Nano/weights/best.pt --include onnx --imgsz 640 --dynamic --simplify"
      ],
      "metadata": {
        "id": "PEGPZkYldP85"
      },
      "execution_count": null,
      "outputs": []
    },
    {
      "cell_type": "markdown",
      "source": [
        "# Ahora probamos con la opcion pruned y quantized"
      ],
      "metadata": {
        "id": "4JPFpzAzd4gv"
      }
    },
    {
      "cell_type": "code",
      "source": [
        "!git clone https://github.com/dnth/yolov5-deepsparse-blogpost"
      ],
      "metadata": {
        "id": "-PN-OwgzeO4Q"
      },
      "execution_count": null,
      "outputs": []
    },
    {
      "cell_type": "code",
      "source": [
        "!pip install torch==1.9.0 torchvision==0.10.0 --extra-index-url https://download.pytorch.org/whl/cu111"
      ],
      "metadata": {
        "id": "ecojVzbueQeq"
      },
      "execution_count": null,
      "outputs": []
    },
    {
      "cell_type": "code",
      "source": [
        "!pip install setuptools==59.5.0 tensorboard==2.9.1"
      ],
      "metadata": {
        "id": "I5Ii93r9eRfH"
      },
      "execution_count": null,
      "outputs": []
    },
    {
      "cell_type": "code",
      "source": [
        "!cd yolov5-deepsparse-blogpost && pip install -r req.txt"
      ],
      "metadata": {
        "id": "pOR6BQZpeSvO"
      },
      "execution_count": null,
      "outputs": []
    },
    {
      "cell_type": "markdown",
      "source": [
        "# Training YOLOv5-S (Pruned)\n"
      ],
      "metadata": {
        "id": "jA7SAg5CegUP"
      }
    },
    {
      "cell_type": "markdown",
      "source": [
        "Now let's trained a YOLOv5-S and prune it."
      ],
      "metadata": {
        "id": "kfNkr2pDej06"
      }
    },
    {
      "cell_type": "code",
      "source": [
        "# Uncomment to train model\n",
        "# !cd yolov5-deepsparse-blogpost/yolov5-train/ && python train.py --cfg ./models_v5.0/yolov5s.yaml \\\n",
        "#               --recipe ../recipes/yolov5s.pruned.md \\\n",
        "#               --data pistols.yaml --hyp data/hyps/hyp.scratch.yaml \\\n",
        "#               --weights yolov5s.pt --img 416 --batch-size 64"
      ],
      "metadata": {
        "id": "K8FcGyAYelKK"
      },
      "execution_count": null,
      "outputs": []
    },
    {
      "cell_type": "markdown",
      "source": [
        "Lo exportamos a Onnx"
      ],
      "metadata": {
        "id": "R_AtbSepe1yZ"
      }
    },
    {
      "cell_type": "code",
      "source": [
        "!cd yolov5 && python export.py --weights ../drive/MyDrive/IA/Pesos_yoloV5/Final_corregido/Small/weights/best.pt --include onnx --imgsz 640 --dynamic --simplify"
      ],
      "metadata": {
        "id": "GruZ0hNAe5oO"
      },
      "execution_count": null,
      "outputs": []
    },
    {
      "cell_type": "markdown",
      "source": [
        "# Training YOLOv5-S (Pruned + Quantized)"
      ],
      "metadata": {
        "id": "yGWIxZneenZx"
      }
    },
    {
      "cell_type": "markdown",
      "source": [
        "Finally let's train a YOLOv5 with pruning and quantization."
      ],
      "metadata": {
        "id": "uj9XZ4L9ep_J"
      }
    },
    {
      "cell_type": "code",
      "source": [
        "# Uncomment to train model\n",
        "# !cd yolov5-deepsparse-blogpost/yolov5-train/ && python train.py --cfg ./models_v5.0/yolov5s.yaml \\\n",
        "#               --recipe ../recipes/yolov5.transfer_learn_pruned_quantized.md \\\n",
        "#               --data pistols.yaml --hyp data/hyps/hyp.scratch.yaml \\\n",
        "#               --weights yolov5s.pt --img 416 --batch-size 64"
      ],
      "metadata": {
        "id": "Cy3u5VPXerRS"
      },
      "execution_count": null,
      "outputs": []
    },
    {
      "cell_type": "markdown",
      "source": [
        "Lo exportamos a Onnx"
      ],
      "metadata": {
        "id": "R90ZQwrme9Bs"
      }
    },
    {
      "cell_type": "code",
      "source": [
        "!cd yolov5 && python export.py --weights ../drive/MyDrive/IA/Pesos_yoloV5/Final_corregido/Small/weights/best.pt --include onnx --imgsz 640 --dynamic --simplify"
      ],
      "metadata": {
        "id": "7gl4Tr7XfBaw"
      },
      "execution_count": null,
      "outputs": []
    },
    {
      "cell_type": "markdown",
      "source": [
        "# Training YOLOv5-Nano (Pruned + Quantized)"
      ],
      "metadata": {
        "id": "SeFJgMs4euTm"
      }
    },
    {
      "cell_type": "code",
      "source": [
        "# Uncomment to train model\n",
        "# !cd yolov5-deepsparse-blogpost/yolov5-train/ && python train.py --cfg ./models_v5.0/yolov5n.yaml \\\n",
        "#                --recipe ../recipes/yolov5.transfer_learn_pruned_quantized.md \\\n",
        "#                --data pistols.yaml --hyp data/hyps/hyp.scratch.yaml \\\n",
        "#                --weights yolov5n.pt --img 416 --batch-size 64"
      ],
      "metadata": {
        "id": "TrLRZQMtewtC"
      },
      "execution_count": null,
      "outputs": []
    },
    {
      "cell_type": "markdown",
      "source": [
        "Lo exportamos a Onnx"
      ],
      "metadata": {
        "id": "HkGD4oBOe-LN"
      }
    },
    {
      "cell_type": "code",
      "source": [
        "!cd yolov5 && python export.py --weights ../drive/MyDrive/IA/Pesos_yoloV5/Final_corregido/Small/weights/best.pt --include onnx --imgsz 640 --dynamic --simplify"
      ],
      "metadata": {
        "id": "MquiqelPfByx"
      },
      "execution_count": null,
      "outputs": []
    }
  ]
}