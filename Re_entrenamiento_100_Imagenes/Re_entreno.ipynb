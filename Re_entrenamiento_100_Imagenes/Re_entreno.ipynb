{
 "cells": [
  {
   "cell_type": "markdown",
   "metadata": {},
   "source": [
    "# Re_entreno"
   ]
  },
  {
   "cell_type": "code",
   "execution_count": 30,
   "metadata": {},
   "outputs": [
    {
     "data": {
      "text/plain": [
       "False"
      ]
     },
     "execution_count": 30,
     "metadata": {},
     "output_type": "execute_result"
    }
   ],
   "source": [
    "import torch\n",
    "torch.cuda.is_available()"
   ]
  },
  {
   "cell_type": "code",
   "execution_count": 31,
   "metadata": {},
   "outputs": [
    {
     "name": "stdout",
     "output_type": "stream",
     "text": [
      "Requirement already satisfied: torch in c:\\users\\shirk\\anaconda3\\lib\\site-packages (2.0.0)\n",
      "Requirement already satisfied: torchvision in c:\\users\\shirk\\anaconda3\\lib\\site-packages (0.15.1)\n",
      "Requirement already satisfied: torchaudio in c:\\users\\shirk\\anaconda3\\lib\\site-packages (2.0.1+cu118)\n",
      "Requirement already satisfied: sympy in c:\\users\\shirk\\anaconda3\\lib\\site-packages (from torch) (1.10.1)\n",
      "Requirement already satisfied: jinja2 in c:\\users\\shirk\\anaconda3\\lib\\site-packages (from torch) (2.11.3)\n",
      "Requirement already satisfied: networkx in c:\\users\\shirk\\anaconda3\\lib\\site-packages (from torch) (2.8.4)\n",
      "Requirement already satisfied: filelock in c:\\users\\shirk\\anaconda3\\lib\\site-packages (from torch) (3.6.0)\n",
      "Requirement already satisfied: typing-extensions in c:\\users\\shirk\\anaconda3\\lib\\site-packages (from torch) (4.3.0)\n",
      "Requirement already satisfied: pillow!=8.3.*,>=5.3.0 in c:\\users\\shirk\\anaconda3\\lib\\site-packages (from torchvision) (9.2.0)\n",
      "Requirement already satisfied: numpy in c:\\users\\shirk\\anaconda3\\lib\\site-packages (from torchvision) (1.21.5)\n",
      "Requirement already satisfied: requests in c:\\users\\shirk\\anaconda3\\lib\\site-packages (from torchvision) (2.28.1)\n",
      "Requirement already satisfied: MarkupSafe>=0.23 in c:\\users\\shirk\\anaconda3\\lib\\site-packages (from jinja2->torch) (2.0.1)\n",
      "Requirement already satisfied: idna<4,>=2.5 in c:\\users\\shirk\\anaconda3\\lib\\site-packages (from requests->torchvision) (3.3)\n",
      "Requirement already satisfied: charset-normalizer<3,>=2 in c:\\users\\shirk\\anaconda3\\lib\\site-packages (from requests->torchvision) (2.0.4)\n",
      "Requirement already satisfied: urllib3<1.27,>=1.21.1 in c:\\users\\shirk\\anaconda3\\lib\\site-packages (from requests->torchvision) (1.26.11)\n",
      "Requirement already satisfied: certifi>=2017.4.17 in c:\\users\\shirk\\anaconda3\\lib\\site-packages (from requests->torchvision) (2022.9.14)\n",
      "Requirement already satisfied: mpmath>=0.19 in c:\\users\\shirk\\anaconda3\\lib\\site-packages (from sympy->torch) (1.2.1)\n"
     ]
    }
   ],
   "source": [
    "# Para windows con la CPU:\n",
    "!pip3 install torch torchvision torchaudio \n",
    "\n",
    "# Para Windows con CUDA:\n",
    "# !pip3 install torch torchvision torchaudio --index-url https://download.pytorch.org/whl/cu117\n",
    "\n",
    "# Para windows con la CPU:\n",
    "# !pip3 install torch torchvision torchaudio --index-url https://download.pytorch.org/whl/cpu\n",
    "\n",
    "# Para Windows con CUDA:\n",
    "# !pip3 install torch torchvision torchaudio\n",
    "\n",
    "# Es posible que la mayoría de dependencias ya esten instaladas ^^"
   ]
  },
  {
   "cell_type": "code",
   "execution_count": 32,
   "metadata": {},
   "outputs": [
    {
     "name": "stderr",
     "output_type": "stream",
     "text": [
      "fatal: destination path 'yolov5' already exists and is not an empty directory.\n"
     ]
    }
   ],
   "source": [
    "!git clone https://github.com/ultralytics/yolov5\n",
    "# Se deberia haber creado una carpeta en nuestro area de trabajo\n",
    "# Si ya lo teniamos saldra el siguiente error =>fatal: destination path 'yolov5' already exists and is not an empty directory."
   ]
  },
  {
   "cell_type": "code",
   "execution_count": 33,
   "metadata": {},
   "outputs": [
    {
     "name": "stdout",
     "output_type": "stream",
     "text": [
      "Requirement already satisfied: gitpython>=3.1.30 in c:\\users\\shirk\\anaconda3\\lib\\site-packages (from -r requirements.txt (line 5)) (3.1.31)\n",
      "Requirement already satisfied: matplotlib>=3.2.2 in c:\\users\\shirk\\anaconda3\\lib\\site-packages (from -r requirements.txt (line 6)) (3.5.2)\n",
      "Requirement already satisfied: numpy>=1.18.5 in c:\\users\\shirk\\anaconda3\\lib\\site-packages (from -r requirements.txt (line 7)) (1.21.5)\n",
      "Requirement already satisfied: opencv-python>=4.1.1 in c:\\users\\shirk\\anaconda3\\lib\\site-packages (from -r requirements.txt (line 8)) (4.7.0.72)\n",
      "Requirement already satisfied: Pillow>=7.1.2 in c:\\users\\shirk\\anaconda3\\lib\\site-packages (from -r requirements.txt (line 9)) (9.2.0)\n",
      "Requirement already satisfied: psutil in c:\\users\\shirk\\anaconda3\\lib\\site-packages (from -r requirements.txt (line 10)) (5.9.0)\n",
      "Requirement already satisfied: PyYAML>=5.3.1 in c:\\users\\shirk\\anaconda3\\lib\\site-packages (from -r requirements.txt (line 11)) (6.0)\n",
      "Requirement already satisfied: requests>=2.23.0 in c:\\users\\shirk\\anaconda3\\lib\\site-packages (from -r requirements.txt (line 12)) (2.28.1)\n",
      "Requirement already satisfied: scipy>=1.4.1 in c:\\users\\shirk\\anaconda3\\lib\\site-packages (from -r requirements.txt (line 13)) (1.9.1)\n",
      "Requirement already satisfied: thop>=0.1.1 in c:\\users\\shirk\\anaconda3\\lib\\site-packages (from -r requirements.txt (line 14)) (0.1.1.post2209072238)\n",
      "Requirement already satisfied: torch>=1.7.0 in c:\\users\\shirk\\anaconda3\\lib\\site-packages (from -r requirements.txt (line 15)) (2.0.0)\n",
      "Requirement already satisfied: torchvision>=0.8.1 in c:\\users\\shirk\\anaconda3\\lib\\site-packages (from -r requirements.txt (line 16)) (0.15.1)\n",
      "Requirement already satisfied: tqdm>=4.64.0 in c:\\users\\shirk\\anaconda3\\lib\\site-packages (from -r requirements.txt (line 17)) (4.64.1)\n",
      "Requirement already satisfied: tensorboard>=2.4.1 in c:\\users\\shirk\\anaconda3\\lib\\site-packages (from -r requirements.txt (line 21)) (2.12.0)\n",
      "Requirement already satisfied: pandas>=1.1.4 in c:\\users\\shirk\\anaconda3\\lib\\site-packages (from -r requirements.txt (line 26)) (1.4.4)\n",
      "Requirement already satisfied: seaborn>=0.11.0 in c:\\users\\shirk\\anaconda3\\lib\\site-packages (from -r requirements.txt (line 27)) (0.11.2)\n",
      "Requirement already satisfied: setuptools>=65.5.1 in c:\\users\\shirk\\anaconda3\\lib\\site-packages (from -r requirements.txt (line 41)) (67.6.0)\n",
      "Requirement already satisfied: gitdb<5,>=4.0.1 in c:\\users\\shirk\\anaconda3\\lib\\site-packages (from gitpython>=3.1.30->-r requirements.txt (line 5)) (4.0.10)\n",
      "Requirement already satisfied: kiwisolver>=1.0.1 in c:\\users\\shirk\\anaconda3\\lib\\site-packages (from matplotlib>=3.2.2->-r requirements.txt (line 6)) (1.4.2)\n",
      "Requirement already satisfied: python-dateutil>=2.7 in c:\\users\\shirk\\anaconda3\\lib\\site-packages (from matplotlib>=3.2.2->-r requirements.txt (line 6)) (2.8.2)\n",
      "Requirement already satisfied: fonttools>=4.22.0 in c:\\users\\shirk\\anaconda3\\lib\\site-packages (from matplotlib>=3.2.2->-r requirements.txt (line 6)) (4.25.0)\n",
      "Requirement already satisfied: cycler>=0.10 in c:\\users\\shirk\\anaconda3\\lib\\site-packages (from matplotlib>=3.2.2->-r requirements.txt (line 6)) (0.11.0)\n",
      "Requirement already satisfied: pyparsing>=2.2.1 in c:\\users\\shirk\\anaconda3\\lib\\site-packages (from matplotlib>=3.2.2->-r requirements.txt (line 6)) (3.0.9)\n",
      "Requirement already satisfied: packaging>=20.0 in c:\\users\\shirk\\anaconda3\\lib\\site-packages (from matplotlib>=3.2.2->-r requirements.txt (line 6)) (21.3)\n",
      "Requirement already satisfied: certifi>=2017.4.17 in c:\\users\\shirk\\anaconda3\\lib\\site-packages (from requests>=2.23.0->-r requirements.txt (line 12)) (2022.9.14)\n",
      "Requirement already satisfied: charset-normalizer<3,>=2 in c:\\users\\shirk\\anaconda3\\lib\\site-packages (from requests>=2.23.0->-r requirements.txt (line 12)) (2.0.4)\n",
      "Requirement already satisfied: idna<4,>=2.5 in c:\\users\\shirk\\anaconda3\\lib\\site-packages (from requests>=2.23.0->-r requirements.txt (line 12)) (3.3)\n",
      "Requirement already satisfied: urllib3<1.27,>=1.21.1 in c:\\users\\shirk\\anaconda3\\lib\\site-packages (from requests>=2.23.0->-r requirements.txt (line 12)) (1.26.11)\n",
      "Requirement already satisfied: sympy in c:\\users\\shirk\\anaconda3\\lib\\site-packages (from torch>=1.7.0->-r requirements.txt (line 15)) (1.10.1)\n",
      "Requirement already satisfied: typing-extensions in c:\\users\\shirk\\anaconda3\\lib\\site-packages (from torch>=1.7.0->-r requirements.txt (line 15)) (4.3.0)\n",
      "Requirement already satisfied: jinja2 in c:\\users\\shirk\\anaconda3\\lib\\site-packages (from torch>=1.7.0->-r requirements.txt (line 15)) (2.11.3)\n",
      "Requirement already satisfied: networkx in c:\\users\\shirk\\anaconda3\\lib\\site-packages (from torch>=1.7.0->-r requirements.txt (line 15)) (2.8.4)\n",
      "Requirement already satisfied: filelock in c:\\users\\shirk\\anaconda3\\lib\\site-packages (from torch>=1.7.0->-r requirements.txt (line 15)) (3.6.0)\n",
      "Requirement already satisfied: colorama in c:\\users\\shirk\\anaconda3\\lib\\site-packages (from tqdm>=4.64.0->-r requirements.txt (line 17)) (0.4.5)\n",
      "Requirement already satisfied: absl-py>=0.4 in c:\\users\\shirk\\anaconda3\\lib\\site-packages (from tensorboard>=2.4.1->-r requirements.txt (line 21)) (1.4.0)\n",
      "Requirement already satisfied: google-auth-oauthlib<0.5,>=0.4.1 in c:\\users\\shirk\\anaconda3\\lib\\site-packages (from tensorboard>=2.4.1->-r requirements.txt (line 21)) (0.4.6)\n",
      "Requirement already satisfied: tensorboard-plugin-wit>=1.6.0 in c:\\users\\shirk\\anaconda3\\lib\\site-packages (from tensorboard>=2.4.1->-r requirements.txt (line 21)) (1.8.1)\n",
      "Requirement already satisfied: wheel>=0.26 in c:\\users\\shirk\\anaconda3\\lib\\site-packages (from tensorboard>=2.4.1->-r requirements.txt (line 21)) (0.37.1)\n",
      "Requirement already satisfied: protobuf>=3.19.6 in c:\\users\\shirk\\anaconda3\\lib\\site-packages (from tensorboard>=2.4.1->-r requirements.txt (line 21)) (4.22.1)\n",
      "Requirement already satisfied: markdown>=2.6.8 in c:\\users\\shirk\\anaconda3\\lib\\site-packages (from tensorboard>=2.4.1->-r requirements.txt (line 21)) (3.3.4)\n",
      "Requirement already satisfied: tensorboard-data-server<0.8.0,>=0.7.0 in c:\\users\\shirk\\anaconda3\\lib\\site-packages (from tensorboard>=2.4.1->-r requirements.txt (line 21)) (0.7.0)\n",
      "Requirement already satisfied: google-auth<3,>=1.6.3 in c:\\users\\shirk\\anaconda3\\lib\\site-packages (from tensorboard>=2.4.1->-r requirements.txt (line 21)) (2.16.2)\n",
      "Requirement already satisfied: werkzeug>=1.0.1 in c:\\users\\shirk\\anaconda3\\lib\\site-packages (from tensorboard>=2.4.1->-r requirements.txt (line 21)) (2.0.3)\n",
      "Requirement already satisfied: grpcio>=1.48.2 in c:\\users\\shirk\\anaconda3\\lib\\site-packages (from tensorboard>=2.4.1->-r requirements.txt (line 21)) (1.51.3)\n",
      "Requirement already satisfied: pytz>=2020.1 in c:\\users\\shirk\\anaconda3\\lib\\site-packages (from pandas>=1.1.4->-r requirements.txt (line 26)) (2022.1)\n",
      "Requirement already satisfied: smmap<6,>=3.0.1 in c:\\users\\shirk\\anaconda3\\lib\\site-packages (from gitdb<5,>=4.0.1->gitpython>=3.1.30->-r requirements.txt (line 5)) (5.0.0)\n",
      "Requirement already satisfied: six>=1.9.0 in c:\\users\\shirk\\anaconda3\\lib\\site-packages (from google-auth<3,>=1.6.3->tensorboard>=2.4.1->-r requirements.txt (line 21)) (1.16.0)\n",
      "Requirement already satisfied: rsa<5,>=3.1.4 in c:\\users\\shirk\\anaconda3\\lib\\site-packages (from google-auth<3,>=1.6.3->tensorboard>=2.4.1->-r requirements.txt (line 21)) (4.9)\n",
      "Requirement already satisfied: cachetools<6.0,>=2.0.0 in c:\\users\\shirk\\anaconda3\\lib\\site-packages (from google-auth<3,>=1.6.3->tensorboard>=2.4.1->-r requirements.txt (line 21)) (5.3.0)\n",
      "Requirement already satisfied: pyasn1-modules>=0.2.1 in c:\\users\\shirk\\anaconda3\\lib\\site-packages (from google-auth<3,>=1.6.3->tensorboard>=2.4.1->-r requirements.txt (line 21)) (0.2.8)\n",
      "Requirement already satisfied: requests-oauthlib>=0.7.0 in c:\\users\\shirk\\anaconda3\\lib\\site-packages (from google-auth-oauthlib<0.5,>=0.4.1->tensorboard>=2.4.1->-r requirements.txt (line 21)) (1.3.1)\n",
      "Requirement already satisfied: MarkupSafe>=0.23 in c:\\users\\shirk\\anaconda3\\lib\\site-packages (from jinja2->torch>=1.7.0->-r requirements.txt (line 15)) (2.0.1)\n",
      "Requirement already satisfied: mpmath>=0.19 in c:\\users\\shirk\\anaconda3\\lib\\site-packages (from sympy->torch>=1.7.0->-r requirements.txt (line 15)) (1.2.1)\n",
      "Requirement already satisfied: pyasn1<0.5.0,>=0.4.6 in c:\\users\\shirk\\anaconda3\\lib\\site-packages (from pyasn1-modules>=0.2.1->google-auth<3,>=1.6.3->tensorboard>=2.4.1->-r requirements.txt (line 21)) (0.4.8)\n",
      "Requirement already satisfied: oauthlib>=3.0.0 in c:\\users\\shirk\\anaconda3\\lib\\site-packages (from requests-oauthlib>=0.7.0->google-auth-oauthlib<0.5,>=0.4.1->tensorboard>=2.4.1->-r requirements.txt (line 21)) (3.2.2)\n"
     ]
    }
   ],
   "source": [
    "!cd yolov5 & pip install -r requirements.txt"
   ]
  },
  {
   "cell_type": "code",
   "execution_count": 34,
   "metadata": {},
   "outputs": [],
   "source": [
    "import torch\n",
    "from matplotlib import pyplot as plt\n",
    "import numpy as np\n",
    "import cv2 #Para abrir webcam\n",
    "\n",
    "# Esta línea de código establece una variable de entorno llamada KMP_DUPLICATE_LIB_OK con el valor \"True\", lo que significa que permite la carga de bibliotecas duplicadas en el entorno de Python. Esto es útil para algunas bibliotecas de Machine Learning que usan OpenMP para acelerar el cómputo.\n",
    "import os    \n",
    "os.environ['KMP_DUPLICATE_LIB_OK'] = 'True'"
   ]
  },
  {
   "cell_type": "markdown",
   "metadata": {},
   "source": [
    "***\n",
    "En la siguiente celda se escogen \n",
    "***"
   ]
  },
  {
   "cell_type": "code",
   "execution_count": 35,
   "metadata": {},
   "outputs": [
    {
     "name": "stdout",
     "output_type": "stream",
     "text": [
      "['00011', '00037', '00161', '00244', '00017', '00056', '00824', '00697', '00150', '00376', '00245', '00119', '00346', '00477', '00725', '00287', '00401', '00269', '00352', '00234', '00211', '00895', '00363', '00816', '00320', '00228', '00312', '00744', '00523', '00430', '00236', '00466', '00860', '00501', '00080', '00472', '00818', '00368', '00449', '00322', '00710', '00661', '00461', '00414', '00795', '00884', '00829', '00067', '00502', '00858', '00019', '00200', '00143', '00176', '00628', '00803', '00707', '00864', '00736', '00293', '00542', '00155', '00876', '00102', '00404', '00048', '00075', '00479', '00742', '00302', '00411', '00514', '00237', '00183', '00556', '00512', '00362', '00240', '00317', '00318', '00168']\n",
      "C:\\Users\\shirk\\OneDrive\\Documentos\\Master\\Proyecto_II\\IA\\Re_entrenamiento_100_Imagenes\\data\\images\\00011.jpg\n",
      "C:\\Users\\shirk\\OneDrive\\Documentos\\Master\\Proyecto_II\\IA\\Re_entrenamiento_100_Imagenes\\data\\images\\00037.jpg\n",
      "C:\\Users\\shirk\\OneDrive\\Documentos\\Master\\Proyecto_II\\IA\\Re_entrenamiento_100_Imagenes\\data\\images\\00161.jpg\n",
      "C:\\Users\\shirk\\OneDrive\\Documentos\\Master\\Proyecto_II\\IA\\Re_entrenamiento_100_Imagenes\\data\\images\\00244.jpg\n",
      "C:\\Users\\shirk\\OneDrive\\Documentos\\Master\\Proyecto_II\\IA\\Re_entrenamiento_100_Imagenes\\data\\images\\00017.jpg\n",
      "C:\\Users\\shirk\\OneDrive\\Documentos\\Master\\Proyecto_II\\IA\\Re_entrenamiento_100_Imagenes\\data\\images\\00056.jpg\n",
      "C:\\Users\\shirk\\OneDrive\\Documentos\\Master\\Proyecto_II\\IA\\Re_entrenamiento_100_Imagenes\\data\\images\\00824.jpg\n",
      "C:\\Users\\shirk\\OneDrive\\Documentos\\Master\\Proyecto_II\\IA\\Re_entrenamiento_100_Imagenes\\data\\images\\00697.jpg\n",
      "C:\\Users\\shirk\\OneDrive\\Documentos\\Master\\Proyecto_II\\IA\\Re_entrenamiento_100_Imagenes\\data\\images\\00150.jpg\n",
      "C:\\Users\\shirk\\OneDrive\\Documentos\\Master\\Proyecto_II\\IA\\Re_entrenamiento_100_Imagenes\\data\\images\\00376.jpg\n",
      "C:\\Users\\shirk\\OneDrive\\Documentos\\Master\\Proyecto_II\\IA\\Re_entrenamiento_100_Imagenes\\data\\images\\00245.jpg\n",
      "C:\\Users\\shirk\\OneDrive\\Documentos\\Master\\Proyecto_II\\IA\\Re_entrenamiento_100_Imagenes\\data\\images\\00119.jpg\n",
      "C:\\Users\\shirk\\OneDrive\\Documentos\\Master\\Proyecto_II\\IA\\Re_entrenamiento_100_Imagenes\\data\\images\\00346.jpg\n",
      "C:\\Users\\shirk\\OneDrive\\Documentos\\Master\\Proyecto_II\\IA\\Re_entrenamiento_100_Imagenes\\data\\images\\00477.jpg\n",
      "C:\\Users\\shirk\\OneDrive\\Documentos\\Master\\Proyecto_II\\IA\\Re_entrenamiento_100_Imagenes\\data\\images\\00725.jpg\n",
      "C:\\Users\\shirk\\OneDrive\\Documentos\\Master\\Proyecto_II\\IA\\Re_entrenamiento_100_Imagenes\\data\\images\\00287.jpg\n",
      "C:\\Users\\shirk\\OneDrive\\Documentos\\Master\\Proyecto_II\\IA\\Re_entrenamiento_100_Imagenes\\data\\images\\00401.jpg\n",
      "C:\\Users\\shirk\\OneDrive\\Documentos\\Master\\Proyecto_II\\IA\\Re_entrenamiento_100_Imagenes\\data\\images\\00269.jpg\n",
      "C:\\Users\\shirk\\OneDrive\\Documentos\\Master\\Proyecto_II\\IA\\Re_entrenamiento_100_Imagenes\\data\\images\\00352.jpg\n",
      "C:\\Users\\shirk\\OneDrive\\Documentos\\Master\\Proyecto_II\\IA\\Re_entrenamiento_100_Imagenes\\data\\images\\00234.jpg\n",
      "C:\\Users\\shirk\\OneDrive\\Documentos\\Master\\Proyecto_II\\IA\\Re_entrenamiento_100_Imagenes\\data\\images\\00211.jpg\n",
      "C:\\Users\\shirk\\OneDrive\\Documentos\\Master\\Proyecto_II\\IA\\Re_entrenamiento_100_Imagenes\\data\\images\\00895.jpg\n",
      "C:\\Users\\shirk\\OneDrive\\Documentos\\Master\\Proyecto_II\\IA\\Re_entrenamiento_100_Imagenes\\data\\images\\00363.jpg\n",
      "C:\\Users\\shirk\\OneDrive\\Documentos\\Master\\Proyecto_II\\IA\\Re_entrenamiento_100_Imagenes\\data\\images\\00816.jpg\n",
      "C:\\Users\\shirk\\OneDrive\\Documentos\\Master\\Proyecto_II\\IA\\Re_entrenamiento_100_Imagenes\\data\\images\\00320.jpg\n",
      "C:\\Users\\shirk\\OneDrive\\Documentos\\Master\\Proyecto_II\\IA\\Re_entrenamiento_100_Imagenes\\data\\images\\00228.jpg\n",
      "C:\\Users\\shirk\\OneDrive\\Documentos\\Master\\Proyecto_II\\IA\\Re_entrenamiento_100_Imagenes\\data\\images\\00312.jpg\n",
      "C:\\Users\\shirk\\OneDrive\\Documentos\\Master\\Proyecto_II\\IA\\Re_entrenamiento_100_Imagenes\\data\\images\\00744.jpg\n",
      "C:\\Users\\shirk\\OneDrive\\Documentos\\Master\\Proyecto_II\\IA\\Re_entrenamiento_100_Imagenes\\data\\images\\00523.jpg\n",
      "C:\\Users\\shirk\\OneDrive\\Documentos\\Master\\Proyecto_II\\IA\\Re_entrenamiento_100_Imagenes\\data\\images\\00430.jpg\n",
      "C:\\Users\\shirk\\OneDrive\\Documentos\\Master\\Proyecto_II\\IA\\Re_entrenamiento_100_Imagenes\\data\\images\\00236.jpg\n",
      "C:\\Users\\shirk\\OneDrive\\Documentos\\Master\\Proyecto_II\\IA\\Re_entrenamiento_100_Imagenes\\data\\images\\00466.jpg\n",
      "C:\\Users\\shirk\\OneDrive\\Documentos\\Master\\Proyecto_II\\IA\\Re_entrenamiento_100_Imagenes\\data\\images\\00860.jpg\n",
      "C:\\Users\\shirk\\OneDrive\\Documentos\\Master\\Proyecto_II\\IA\\Re_entrenamiento_100_Imagenes\\data\\images\\00501.jpg\n",
      "C:\\Users\\shirk\\OneDrive\\Documentos\\Master\\Proyecto_II\\IA\\Re_entrenamiento_100_Imagenes\\data\\images\\00080.jpg\n",
      "C:\\Users\\shirk\\OneDrive\\Documentos\\Master\\Proyecto_II\\IA\\Re_entrenamiento_100_Imagenes\\data\\images\\00472.jpg\n",
      "C:\\Users\\shirk\\OneDrive\\Documentos\\Master\\Proyecto_II\\IA\\Re_entrenamiento_100_Imagenes\\data\\images\\00818.jpg\n",
      "C:\\Users\\shirk\\OneDrive\\Documentos\\Master\\Proyecto_II\\IA\\Re_entrenamiento_100_Imagenes\\data\\images\\00368.jpg\n",
      "C:\\Users\\shirk\\OneDrive\\Documentos\\Master\\Proyecto_II\\IA\\Re_entrenamiento_100_Imagenes\\data\\images\\00449.jpg\n",
      "C:\\Users\\shirk\\OneDrive\\Documentos\\Master\\Proyecto_II\\IA\\Re_entrenamiento_100_Imagenes\\data\\images\\00322.jpg\n",
      "C:\\Users\\shirk\\OneDrive\\Documentos\\Master\\Proyecto_II\\IA\\Re_entrenamiento_100_Imagenes\\data\\images\\00710.jpg\n",
      "C:\\Users\\shirk\\OneDrive\\Documentos\\Master\\Proyecto_II\\IA\\Re_entrenamiento_100_Imagenes\\data\\images\\00661.jpg\n",
      "C:\\Users\\shirk\\OneDrive\\Documentos\\Master\\Proyecto_II\\IA\\Re_entrenamiento_100_Imagenes\\data\\images\\00461.jpg\n",
      "C:\\Users\\shirk\\OneDrive\\Documentos\\Master\\Proyecto_II\\IA\\Re_entrenamiento_100_Imagenes\\data\\images\\00414.jpg\n",
      "C:\\Users\\shirk\\OneDrive\\Documentos\\Master\\Proyecto_II\\IA\\Re_entrenamiento_100_Imagenes\\data\\images\\00795.jpg\n",
      "C:\\Users\\shirk\\OneDrive\\Documentos\\Master\\Proyecto_II\\IA\\Re_entrenamiento_100_Imagenes\\data\\images\\00884.jpg\n",
      "C:\\Users\\shirk\\OneDrive\\Documentos\\Master\\Proyecto_II\\IA\\Re_entrenamiento_100_Imagenes\\data\\images\\00829.jpg\n",
      "C:\\Users\\shirk\\OneDrive\\Documentos\\Master\\Proyecto_II\\IA\\Re_entrenamiento_100_Imagenes\\data\\images\\00067.jpg\n",
      "C:\\Users\\shirk\\OneDrive\\Documentos\\Master\\Proyecto_II\\IA\\Re_entrenamiento_100_Imagenes\\data\\images\\00502.jpg\n",
      "C:\\Users\\shirk\\OneDrive\\Documentos\\Master\\Proyecto_II\\IA\\Re_entrenamiento_100_Imagenes\\data\\images\\00858.jpg\n",
      "C:\\Users\\shirk\\OneDrive\\Documentos\\Master\\Proyecto_II\\IA\\Re_entrenamiento_100_Imagenes\\data\\images\\00019.jpg\n",
      "C:\\Users\\shirk\\OneDrive\\Documentos\\Master\\Proyecto_II\\IA\\Re_entrenamiento_100_Imagenes\\data\\images\\00200.jpg\n",
      "C:\\Users\\shirk\\OneDrive\\Documentos\\Master\\Proyecto_II\\IA\\Re_entrenamiento_100_Imagenes\\data\\images\\00143.jpg\n",
      "C:\\Users\\shirk\\OneDrive\\Documentos\\Master\\Proyecto_II\\IA\\Re_entrenamiento_100_Imagenes\\data\\images\\00176.jpg\n",
      "C:\\Users\\shirk\\OneDrive\\Documentos\\Master\\Proyecto_II\\IA\\Re_entrenamiento_100_Imagenes\\data\\images\\00628.jpg\n",
      "C:\\Users\\shirk\\OneDrive\\Documentos\\Master\\Proyecto_II\\IA\\Re_entrenamiento_100_Imagenes\\data\\images\\00803.jpg\n",
      "C:\\Users\\shirk\\OneDrive\\Documentos\\Master\\Proyecto_II\\IA\\Re_entrenamiento_100_Imagenes\\data\\images\\00707.jpg\n",
      "C:\\Users\\shirk\\OneDrive\\Documentos\\Master\\Proyecto_II\\IA\\Re_entrenamiento_100_Imagenes\\data\\images\\00864.jpg\n",
      "C:\\Users\\shirk\\OneDrive\\Documentos\\Master\\Proyecto_II\\IA\\Re_entrenamiento_100_Imagenes\\data\\images\\00736.jpg\n",
      "C:\\Users\\shirk\\OneDrive\\Documentos\\Master\\Proyecto_II\\IA\\Re_entrenamiento_100_Imagenes\\data\\images\\00293.jpg\n",
      "C:\\Users\\shirk\\OneDrive\\Documentos\\Master\\Proyecto_II\\IA\\Re_entrenamiento_100_Imagenes\\data\\images\\00542.jpg\n",
      "C:\\Users\\shirk\\OneDrive\\Documentos\\Master\\Proyecto_II\\IA\\Re_entrenamiento_100_Imagenes\\data\\images\\00155.jpg\n",
      "C:\\Users\\shirk\\OneDrive\\Documentos\\Master\\Proyecto_II\\IA\\Re_entrenamiento_100_Imagenes\\data\\images\\00876.jpg\n",
      "C:\\Users\\shirk\\OneDrive\\Documentos\\Master\\Proyecto_II\\IA\\Re_entrenamiento_100_Imagenes\\data\\images\\00102.jpg\n",
      "C:\\Users\\shirk\\OneDrive\\Documentos\\Master\\Proyecto_II\\IA\\Re_entrenamiento_100_Imagenes\\data\\images\\00404.jpg\n",
      "C:\\Users\\shirk\\OneDrive\\Documentos\\Master\\Proyecto_II\\IA\\Re_entrenamiento_100_Imagenes\\data\\images\\00048.jpg\n",
      "C:\\Users\\shirk\\OneDrive\\Documentos\\Master\\Proyecto_II\\IA\\Re_entrenamiento_100_Imagenes\\data\\images\\00075.jpg\n",
      "C:\\Users\\shirk\\OneDrive\\Documentos\\Master\\Proyecto_II\\IA\\Re_entrenamiento_100_Imagenes\\data\\images\\00479.jpg\n",
      "C:\\Users\\shirk\\OneDrive\\Documentos\\Master\\Proyecto_II\\IA\\Re_entrenamiento_100_Imagenes\\data\\images\\00742.jpg\n",
      "C:\\Users\\shirk\\OneDrive\\Documentos\\Master\\Proyecto_II\\IA\\Re_entrenamiento_100_Imagenes\\data\\images\\00302.jpg\n",
      "C:\\Users\\shirk\\OneDrive\\Documentos\\Master\\Proyecto_II\\IA\\Re_entrenamiento_100_Imagenes\\data\\images\\00411.jpg\n",
      "C:\\Users\\shirk\\OneDrive\\Documentos\\Master\\Proyecto_II\\IA\\Re_entrenamiento_100_Imagenes\\data\\images\\00514.jpg\n",
      "C:\\Users\\shirk\\OneDrive\\Documentos\\Master\\Proyecto_II\\IA\\Re_entrenamiento_100_Imagenes\\data\\images\\00237.jpg\n",
      "C:\\Users\\shirk\\OneDrive\\Documentos\\Master\\Proyecto_II\\IA\\Re_entrenamiento_100_Imagenes\\data\\images\\00183.jpg\n",
      "C:\\Users\\shirk\\OneDrive\\Documentos\\Master\\Proyecto_II\\IA\\Re_entrenamiento_100_Imagenes\\data\\images\\00556.jpg\n",
      "C:\\Users\\shirk\\OneDrive\\Documentos\\Master\\Proyecto_II\\IA\\Re_entrenamiento_100_Imagenes\\data\\images\\00512.jpg\n",
      "C:\\Users\\shirk\\OneDrive\\Documentos\\Master\\Proyecto_II\\IA\\Re_entrenamiento_100_Imagenes\\data\\images\\00362.jpg\n",
      "C:\\Users\\shirk\\OneDrive\\Documentos\\Master\\Proyecto_II\\IA\\Re_entrenamiento_100_Imagenes\\data\\images\\00240.jpg\n",
      "C:\\Users\\shirk\\OneDrive\\Documentos\\Master\\Proyecto_II\\IA\\Re_entrenamiento_100_Imagenes\\data\\images\\00317.jpg\n",
      "C:\\Users\\shirk\\OneDrive\\Documentos\\Master\\Proyecto_II\\IA\\Re_entrenamiento_100_Imagenes\\data\\images\\00318.jpg\n",
      "C:\\Users\\shirk\\OneDrive\\Documentos\\Master\\Proyecto_II\\IA\\Re_entrenamiento_100_Imagenes\\data\\images\\00168.jpg\n",
      "C:\\Users\\shirk\\OneDrive\\Documentos\\Master\\Proyecto_II\\IA\\Re_entrenamiento_100_Imagenes\\data\\labels\\00011.txt\n",
      "C:\\Users\\shirk\\OneDrive\\Documentos\\Master\\Proyecto_II\\IA\\Re_entrenamiento_100_Imagenes\\data\\labels\\00037.txt\n",
      "C:\\Users\\shirk\\OneDrive\\Documentos\\Master\\Proyecto_II\\IA\\Re_entrenamiento_100_Imagenes\\data\\labels\\00161.txt\n",
      "C:\\Users\\shirk\\OneDrive\\Documentos\\Master\\Proyecto_II\\IA\\Re_entrenamiento_100_Imagenes\\data\\labels\\00244.txt\n",
      "C:\\Users\\shirk\\OneDrive\\Documentos\\Master\\Proyecto_II\\IA\\Re_entrenamiento_100_Imagenes\\data\\labels\\00017.txt\n",
      "C:\\Users\\shirk\\OneDrive\\Documentos\\Master\\Proyecto_II\\IA\\Re_entrenamiento_100_Imagenes\\data\\labels\\00056.txt\n",
      "C:\\Users\\shirk\\OneDrive\\Documentos\\Master\\Proyecto_II\\IA\\Re_entrenamiento_100_Imagenes\\data\\labels\\00824.txt\n",
      "C:\\Users\\shirk\\OneDrive\\Documentos\\Master\\Proyecto_II\\IA\\Re_entrenamiento_100_Imagenes\\data\\labels\\00697.txt\n",
      "C:\\Users\\shirk\\OneDrive\\Documentos\\Master\\Proyecto_II\\IA\\Re_entrenamiento_100_Imagenes\\data\\labels\\00150.txt\n",
      "C:\\Users\\shirk\\OneDrive\\Documentos\\Master\\Proyecto_II\\IA\\Re_entrenamiento_100_Imagenes\\data\\labels\\00376.txt\n",
      "C:\\Users\\shirk\\OneDrive\\Documentos\\Master\\Proyecto_II\\IA\\Re_entrenamiento_100_Imagenes\\data\\labels\\00245.txt\n",
      "C:\\Users\\shirk\\OneDrive\\Documentos\\Master\\Proyecto_II\\IA\\Re_entrenamiento_100_Imagenes\\data\\labels\\00119.txt\n",
      "C:\\Users\\shirk\\OneDrive\\Documentos\\Master\\Proyecto_II\\IA\\Re_entrenamiento_100_Imagenes\\data\\labels\\00346.txt\n",
      "C:\\Users\\shirk\\OneDrive\\Documentos\\Master\\Proyecto_II\\IA\\Re_entrenamiento_100_Imagenes\\data\\labels\\00477.txt\n",
      "C:\\Users\\shirk\\OneDrive\\Documentos\\Master\\Proyecto_II\\IA\\Re_entrenamiento_100_Imagenes\\data\\labels\\00725.txt\n",
      "C:\\Users\\shirk\\OneDrive\\Documentos\\Master\\Proyecto_II\\IA\\Re_entrenamiento_100_Imagenes\\data\\labels\\00287.txt\n",
      "C:\\Users\\shirk\\OneDrive\\Documentos\\Master\\Proyecto_II\\IA\\Re_entrenamiento_100_Imagenes\\data\\labels\\00401.txt\n",
      "C:\\Users\\shirk\\OneDrive\\Documentos\\Master\\Proyecto_II\\IA\\Re_entrenamiento_100_Imagenes\\data\\labels\\00269.txt\n",
      "C:\\Users\\shirk\\OneDrive\\Documentos\\Master\\Proyecto_II\\IA\\Re_entrenamiento_100_Imagenes\\data\\labels\\00352.txt\n",
      "C:\\Users\\shirk\\OneDrive\\Documentos\\Master\\Proyecto_II\\IA\\Re_entrenamiento_100_Imagenes\\data\\labels\\00234.txt\n",
      "C:\\Users\\shirk\\OneDrive\\Documentos\\Master\\Proyecto_II\\IA\\Re_entrenamiento_100_Imagenes\\data\\labels\\00211.txt\n",
      "C:\\Users\\shirk\\OneDrive\\Documentos\\Master\\Proyecto_II\\IA\\Re_entrenamiento_100_Imagenes\\data\\labels\\00895.txt\n",
      "C:\\Users\\shirk\\OneDrive\\Documentos\\Master\\Proyecto_II\\IA\\Re_entrenamiento_100_Imagenes\\data\\labels\\00363.txt\n",
      "C:\\Users\\shirk\\OneDrive\\Documentos\\Master\\Proyecto_II\\IA\\Re_entrenamiento_100_Imagenes\\data\\labels\\00816.txt\n",
      "C:\\Users\\shirk\\OneDrive\\Documentos\\Master\\Proyecto_II\\IA\\Re_entrenamiento_100_Imagenes\\data\\labels\\00320.txt\n",
      "C:\\Users\\shirk\\OneDrive\\Documentos\\Master\\Proyecto_II\\IA\\Re_entrenamiento_100_Imagenes\\data\\labels\\00228.txt\n",
      "C:\\Users\\shirk\\OneDrive\\Documentos\\Master\\Proyecto_II\\IA\\Re_entrenamiento_100_Imagenes\\data\\labels\\00312.txt\n",
      "C:\\Users\\shirk\\OneDrive\\Documentos\\Master\\Proyecto_II\\IA\\Re_entrenamiento_100_Imagenes\\data\\labels\\00744.txt\n",
      "C:\\Users\\shirk\\OneDrive\\Documentos\\Master\\Proyecto_II\\IA\\Re_entrenamiento_100_Imagenes\\data\\labels\\00523.txt\n",
      "C:\\Users\\shirk\\OneDrive\\Documentos\\Master\\Proyecto_II\\IA\\Re_entrenamiento_100_Imagenes\\data\\labels\\00430.txt\n",
      "C:\\Users\\shirk\\OneDrive\\Documentos\\Master\\Proyecto_II\\IA\\Re_entrenamiento_100_Imagenes\\data\\labels\\00236.txt\n",
      "C:\\Users\\shirk\\OneDrive\\Documentos\\Master\\Proyecto_II\\IA\\Re_entrenamiento_100_Imagenes\\data\\labels\\00466.txt\n",
      "C:\\Users\\shirk\\OneDrive\\Documentos\\Master\\Proyecto_II\\IA\\Re_entrenamiento_100_Imagenes\\data\\labels\\00860.txt\n",
      "C:\\Users\\shirk\\OneDrive\\Documentos\\Master\\Proyecto_II\\IA\\Re_entrenamiento_100_Imagenes\\data\\labels\\00501.txt\n",
      "C:\\Users\\shirk\\OneDrive\\Documentos\\Master\\Proyecto_II\\IA\\Re_entrenamiento_100_Imagenes\\data\\labels\\00080.txt\n",
      "C:\\Users\\shirk\\OneDrive\\Documentos\\Master\\Proyecto_II\\IA\\Re_entrenamiento_100_Imagenes\\data\\labels\\00472.txt\n",
      "C:\\Users\\shirk\\OneDrive\\Documentos\\Master\\Proyecto_II\\IA\\Re_entrenamiento_100_Imagenes\\data\\labels\\00818.txt\n",
      "C:\\Users\\shirk\\OneDrive\\Documentos\\Master\\Proyecto_II\\IA\\Re_entrenamiento_100_Imagenes\\data\\labels\\00368.txt\n",
      "C:\\Users\\shirk\\OneDrive\\Documentos\\Master\\Proyecto_II\\IA\\Re_entrenamiento_100_Imagenes\\data\\labels\\00449.txt\n",
      "C:\\Users\\shirk\\OneDrive\\Documentos\\Master\\Proyecto_II\\IA\\Re_entrenamiento_100_Imagenes\\data\\labels\\00322.txt\n",
      "C:\\Users\\shirk\\OneDrive\\Documentos\\Master\\Proyecto_II\\IA\\Re_entrenamiento_100_Imagenes\\data\\labels\\00710.txt\n",
      "C:\\Users\\shirk\\OneDrive\\Documentos\\Master\\Proyecto_II\\IA\\Re_entrenamiento_100_Imagenes\\data\\labels\\00661.txt\n",
      "C:\\Users\\shirk\\OneDrive\\Documentos\\Master\\Proyecto_II\\IA\\Re_entrenamiento_100_Imagenes\\data\\labels\\00461.txt\n",
      "C:\\Users\\shirk\\OneDrive\\Documentos\\Master\\Proyecto_II\\IA\\Re_entrenamiento_100_Imagenes\\data\\labels\\00414.txt\n",
      "C:\\Users\\shirk\\OneDrive\\Documentos\\Master\\Proyecto_II\\IA\\Re_entrenamiento_100_Imagenes\\data\\labels\\00795.txt\n",
      "C:\\Users\\shirk\\OneDrive\\Documentos\\Master\\Proyecto_II\\IA\\Re_entrenamiento_100_Imagenes\\data\\labels\\00884.txt\n",
      "C:\\Users\\shirk\\OneDrive\\Documentos\\Master\\Proyecto_II\\IA\\Re_entrenamiento_100_Imagenes\\data\\labels\\00829.txt\n",
      "C:\\Users\\shirk\\OneDrive\\Documentos\\Master\\Proyecto_II\\IA\\Re_entrenamiento_100_Imagenes\\data\\labels\\00067.txt\n",
      "C:\\Users\\shirk\\OneDrive\\Documentos\\Master\\Proyecto_II\\IA\\Re_entrenamiento_100_Imagenes\\data\\labels\\00502.txt\n",
      "C:\\Users\\shirk\\OneDrive\\Documentos\\Master\\Proyecto_II\\IA\\Re_entrenamiento_100_Imagenes\\data\\labels\\00858.txt\n",
      "C:\\Users\\shirk\\OneDrive\\Documentos\\Master\\Proyecto_II\\IA\\Re_entrenamiento_100_Imagenes\\data\\labels\\00019.txt\n",
      "C:\\Users\\shirk\\OneDrive\\Documentos\\Master\\Proyecto_II\\IA\\Re_entrenamiento_100_Imagenes\\data\\labels\\00200.txt\n",
      "C:\\Users\\shirk\\OneDrive\\Documentos\\Master\\Proyecto_II\\IA\\Re_entrenamiento_100_Imagenes\\data\\labels\\00143.txt\n",
      "C:\\Users\\shirk\\OneDrive\\Documentos\\Master\\Proyecto_II\\IA\\Re_entrenamiento_100_Imagenes\\data\\labels\\00176.txt\n",
      "C:\\Users\\shirk\\OneDrive\\Documentos\\Master\\Proyecto_II\\IA\\Re_entrenamiento_100_Imagenes\\data\\labels\\00628.txt\n",
      "C:\\Users\\shirk\\OneDrive\\Documentos\\Master\\Proyecto_II\\IA\\Re_entrenamiento_100_Imagenes\\data\\labels\\00803.txt\n",
      "C:\\Users\\shirk\\OneDrive\\Documentos\\Master\\Proyecto_II\\IA\\Re_entrenamiento_100_Imagenes\\data\\labels\\00707.txt\n",
      "C:\\Users\\shirk\\OneDrive\\Documentos\\Master\\Proyecto_II\\IA\\Re_entrenamiento_100_Imagenes\\data\\labels\\00864.txt\n",
      "C:\\Users\\shirk\\OneDrive\\Documentos\\Master\\Proyecto_II\\IA\\Re_entrenamiento_100_Imagenes\\data\\labels\\00736.txt\n",
      "C:\\Users\\shirk\\OneDrive\\Documentos\\Master\\Proyecto_II\\IA\\Re_entrenamiento_100_Imagenes\\data\\labels\\00293.txt\n",
      "C:\\Users\\shirk\\OneDrive\\Documentos\\Master\\Proyecto_II\\IA\\Re_entrenamiento_100_Imagenes\\data\\labels\\00542.txt\n",
      "C:\\Users\\shirk\\OneDrive\\Documentos\\Master\\Proyecto_II\\IA\\Re_entrenamiento_100_Imagenes\\data\\labels\\00155.txt\n",
      "C:\\Users\\shirk\\OneDrive\\Documentos\\Master\\Proyecto_II\\IA\\Re_entrenamiento_100_Imagenes\\data\\labels\\00876.txt\n",
      "C:\\Users\\shirk\\OneDrive\\Documentos\\Master\\Proyecto_II\\IA\\Re_entrenamiento_100_Imagenes\\data\\labels\\00102.txt\n",
      "C:\\Users\\shirk\\OneDrive\\Documentos\\Master\\Proyecto_II\\IA\\Re_entrenamiento_100_Imagenes\\data\\labels\\00404.txt\n",
      "C:\\Users\\shirk\\OneDrive\\Documentos\\Master\\Proyecto_II\\IA\\Re_entrenamiento_100_Imagenes\\data\\labels\\00048.txt\n",
      "C:\\Users\\shirk\\OneDrive\\Documentos\\Master\\Proyecto_II\\IA\\Re_entrenamiento_100_Imagenes\\data\\labels\\00075.txt\n",
      "C:\\Users\\shirk\\OneDrive\\Documentos\\Master\\Proyecto_II\\IA\\Re_entrenamiento_100_Imagenes\\data\\labels\\00479.txt\n",
      "C:\\Users\\shirk\\OneDrive\\Documentos\\Master\\Proyecto_II\\IA\\Re_entrenamiento_100_Imagenes\\data\\labels\\00742.txt\n",
      "C:\\Users\\shirk\\OneDrive\\Documentos\\Master\\Proyecto_II\\IA\\Re_entrenamiento_100_Imagenes\\data\\labels\\00302.txt\n",
      "C:\\Users\\shirk\\OneDrive\\Documentos\\Master\\Proyecto_II\\IA\\Re_entrenamiento_100_Imagenes\\data\\labels\\00411.txt\n",
      "C:\\Users\\shirk\\OneDrive\\Documentos\\Master\\Proyecto_II\\IA\\Re_entrenamiento_100_Imagenes\\data\\labels\\00514.txt\n",
      "C:\\Users\\shirk\\OneDrive\\Documentos\\Master\\Proyecto_II\\IA\\Re_entrenamiento_100_Imagenes\\data\\labels\\00237.txt\n",
      "C:\\Users\\shirk\\OneDrive\\Documentos\\Master\\Proyecto_II\\IA\\Re_entrenamiento_100_Imagenes\\data\\labels\\00183.txt\n",
      "C:\\Users\\shirk\\OneDrive\\Documentos\\Master\\Proyecto_II\\IA\\Re_entrenamiento_100_Imagenes\\data\\labels\\00556.txt\n",
      "C:\\Users\\shirk\\OneDrive\\Documentos\\Master\\Proyecto_II\\IA\\Re_entrenamiento_100_Imagenes\\data\\labels\\00512.txt\n",
      "C:\\Users\\shirk\\OneDrive\\Documentos\\Master\\Proyecto_II\\IA\\Re_entrenamiento_100_Imagenes\\data\\labels\\00362.txt\n",
      "C:\\Users\\shirk\\OneDrive\\Documentos\\Master\\Proyecto_II\\IA\\Re_entrenamiento_100_Imagenes\\data\\labels\\00240.txt\n",
      "C:\\Users\\shirk\\OneDrive\\Documentos\\Master\\Proyecto_II\\IA\\Re_entrenamiento_100_Imagenes\\data\\labels\\00317.txt\n",
      "C:\\Users\\shirk\\OneDrive\\Documentos\\Master\\Proyecto_II\\IA\\Re_entrenamiento_100_Imagenes\\data\\labels\\00318.txt\n",
      "C:\\Users\\shirk\\OneDrive\\Documentos\\Master\\Proyecto_II\\IA\\Re_entrenamiento_100_Imagenes\\data\\labels\\00168.txt\n"
     ]
    }
   ],
   "source": [
    "import os\n",
    "import random\n",
    "import shutil\n",
    "\n",
    "random.seed(15)\n",
    "\n",
    "src = \"C:\\\\Users\\\\shirk\\\\OneDrive\\\\Documentos\\\\Master\\\\Proyecto_II\\\\IA\\\\Re_entrenamiento_100_Imagenes\\\\data\\\\YoloV5\\\\\"\n",
    "dest_Image = \"C:\\\\Users\\\\shirk\\\\OneDrive\\\\Documentos\\\\Master\\\\Proyecto_II\\\\IA\\\\Re_entrenamiento_100_Imagenes\\\\data\\\\images\\\\\"\n",
    "dest_Label = \"C:\\\\Users\\\\shirk\\\\OneDrive\\\\Documentos\\\\Master\\\\Proyecto_II\\\\IA\\\\Re_entrenamiento_100_Imagenes\\\\data\\\\labels\\\\\"\n",
    "\n",
    "lista_aleatorios_rellenada = []\n",
    "\n",
    "for n in range(100):\n",
    "  aleatorio = random.randint(0,900)\n",
    "  aleatorio_rellenado = str(aleatorio).zfill(5)\n",
    "  src_img = src + str(aleatorio_rellenado) + \".jpg\"\n",
    "  if os.path.exists(src_img):\n",
    "    if aleatorio_rellenado not in lista_aleatorios_rellenada:\n",
    "      lista_aleatorios_rellenada.append(aleatorio_rellenado)\n",
    "\n",
    "print(lista_aleatorios_rellenada)\n",
    "\n",
    "\n",
    "\n",
    "for num in lista_aleatorios_rellenada:\n",
    "  src_img = src + str(num) + \".jpg\"\n",
    "  dest_img = dest_Image + str(num) + \".jpg\"\n",
    "  shutil.copy2(src_img, dest_img)\n",
    "  print(dest_img)\n",
    "\n",
    "for num in lista_aleatorios_rellenada:\n",
    "  src_lab = src + str(num) + \".txt\"\n",
    "  dest_lab = dest_Label + str(num) + \".txt\"\n",
    "  shutil.copy2(src_lab, dest_lab)\n",
    "  print(dest_lab)"
   ]
  },
  {
   "cell_type": "markdown",
   "metadata": {},
   "source": [
    "***\n",
    "**`Entrenar un modelo desde cero`**\n",
    "***"
   ]
  },
  {
   "cell_type": "code",
   "execution_count": 36,
   "metadata": {},
   "outputs": [],
   "source": [
    "import uuid   # Unique identifier\n",
    "import time"
   ]
  },
  {
   "cell_type": "code",
   "execution_count": 37,
   "metadata": {},
   "outputs": [
    {
     "name": "stderr",
     "output_type": "stream",
     "text": [
      "fatal: destination path 'labelImg' already exists and is not an empty directory.\n"
     ]
    }
   ],
   "source": [
    "!git clone https://github.com/tzutalin/labelImg"
   ]
  },
  {
   "cell_type": "code",
   "execution_count": 38,
   "metadata": {},
   "outputs": [
    {
     "name": "stdout",
     "output_type": "stream",
     "text": [
      "Requirement already satisfied: pyqt5 in c:\\users\\shirk\\anaconda3\\lib\\site-packages (5.15.9)\n",
      "Requirement already satisfied: lxml in c:\\users\\shirk\\anaconda3\\lib\\site-packages (4.9.2)\n",
      "Requirement already satisfied: PyQt5-Qt5>=5.15.2 in c:\\users\\shirk\\anaconda3\\lib\\site-packages (from pyqt5) (5.15.2)\n",
      "Requirement already satisfied: PyQt5-sip<13,>=12.11 in c:\\users\\shirk\\anaconda3\\lib\\site-packages (from pyqt5) (12.11.1)\n"
     ]
    }
   ],
   "source": [
    "!pip install pyqt5 lxml --upgrade\n",
    "!cd labelImg && pyrcc5 -o libs/resources.py resources.qrc"
   ]
  },
  {
   "cell_type": "code",
   "execution_count": 39,
   "metadata": {},
   "outputs": [],
   "source": [
    "%run -i \"labelImg\\labelImg.py\""
   ]
  },
  {
   "cell_type": "markdown",
   "metadata": {},
   "source": [
    "Ahora tenemos que crear el archivo dataset.yaml, que contiene las categorias de nuestros pesos y las rutas de nuestras imagenes de entrenamiento, test y validación."
   ]
  },
  {
   "cell_type": "code",
   "execution_count": 40,
   "metadata": {},
   "outputs": [],
   "source": [
    "f= open(\"yolov5/data/cien_images_señales.yaml\",\"w+\")\n",
    "\n",
    "f.write(\"path: ../data \\ntrain: images \\nval: images \\n\\nnc: 4 \\n\\nnames: ['prohibitory', 'danger', 'mandatory', 'other']\")\n",
    "\n",
    "f.close()"
   ]
  },
  {
   "cell_type": "code",
   "execution_count": 41,
   "metadata": {},
   "outputs": [],
   "source": [
    "!cd yolov5 && python train.py --img 640 --batch 16 --epochs 500 --data cien_images_señales.yaml --weights yolov5s.pt  --workers 2"
   ]
  },
  {
   "cell_type": "code",
   "execution_count": null,
   "metadata": {},
   "outputs": [],
   "source": [
    "# LOGGER.info(( '%10s ' * 7) % ('Epoch', 'gpu_mem', 'box', 'obJ', 'cls', 'labels', 'img_size'))\n",
    "# if RANK in [-1, 0]:\n",
    "#     pbar = tqdm(pbar, total=nb, bar_format='{1_bar}{bar:10}{r_bar}{bar:-10b}') #progress_bar"
   ]
  },
  {
   "cell_type": "markdown",
   "metadata": {},
   "source": [
    "***\n",
    "**`Cargamos nuestro modelo`**\n",
    "***"
   ]
  },
  {
   "cell_type": "code",
   "execution_count": null,
   "metadata": {},
   "outputs": [],
   "source": [
    "modelo_100_señales = torch.hub.load('ultralytics/yolov5', 'custom', path='yolov5/runs/train/exp10/weights/best.pt', force_reload=True)"
   ]
  }
 ],
 "metadata": {
  "interpreter": {
   "hash": "eb4177ad35f1696ea836e1658e5ab8a4373538db1d3c5cdb2fa9c2e3e3ef954b"
  },
  "kernelspec": {
   "display_name": "Python 3.9.13 ('base')",
   "language": "python",
   "name": "python3"
  },
  "language_info": {
   "codemirror_mode": {
    "name": "ipython",
    "version": 3
   },
   "file_extension": ".py",
   "mimetype": "text/x-python",
   "name": "python",
   "nbconvert_exporter": "python",
   "pygments_lexer": "ipython3",
   "version": "3.9.13"
  },
  "orig_nbformat": 4
 },
 "nbformat": 4,
 "nbformat_minor": 2
}
