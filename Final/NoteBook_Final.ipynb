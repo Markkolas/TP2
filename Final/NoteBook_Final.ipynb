{
  "nbformat": 4,
  "nbformat_minor": 0,
  "metadata": {
    "colab": {
      "provenance": [],
      "include_colab_link": true
    },
    "kernelspec": {
      "name": "python3",
      "display_name": "Python 3"
    },
    "language_info": {
      "name": "python"
    },
    "accelerator": "GPU",
    "gpuClass": "standard"
  },
  "cells": [
    {
      "cell_type": "markdown",
      "metadata": {
        "id": "view-in-github",
        "colab_type": "text"
      },
      "source": [
        "<a href=\"https://colab.research.google.com/github/Markkolas/TP2/blob/jorge-test/Final/NoteBook_Final.ipynb\" target=\"_parent\"><img src=\"https://colab.research.google.com/assets/colab-badge.svg\" alt=\"Open In Colab\"/></a>"
      ]
    },
    {
      "cell_type": "code",
      "execution_count": 1,
      "metadata": {
        "id": "n_Ko1xe5vmSb"
      },
      "outputs": [],
      "source": [
        "%%capture\n",
        "from google.colab import drive\n",
        "drive.mount('/content/drive')"
      ]
    },
    {
      "cell_type": "code",
      "source": [
        "%%capture\n",
        "import torch\n",
        "torch.cuda.is_available()"
      ],
      "metadata": {
        "id": "BdaVGv8rvrD8"
      },
      "execution_count": 2,
      "outputs": []
    },
    {
      "cell_type": "code",
      "source": [
        "%%capture\n",
        "!pip3 install torch torchvision torchaudio "
      ],
      "metadata": {
        "id": "1v0wh0Kzvs96"
      },
      "execution_count": 3,
      "outputs": []
    },
    {
      "cell_type": "code",
      "source": [
        "%%capture\n",
        "!git clone https://github.com/ultralytics/yolov5"
      ],
      "metadata": {
        "id": "RKvthXUevu46"
      },
      "execution_count": 4,
      "outputs": []
    },
    {
      "cell_type": "code",
      "source": [
        "%%capture\n",
        "%cd /content/yolov5\n",
        "!git pull\n",
        "%cd ../"
      ],
      "metadata": {
        "id": "cmzb83PUv-ky"
      },
      "execution_count": 5,
      "outputs": []
    },
    {
      "cell_type": "code",
      "source": [
        "%%capture\n",
        "!pip install -r yolov5/requirements.txt"
      ],
      "metadata": {
        "id": "HQPzl6QzwAAa"
      },
      "execution_count": 6,
      "outputs": []
    },
    {
      "cell_type": "code",
      "source": [
        "import torch\n",
        "from matplotlib import pyplot as plt\n",
        "import numpy as np\n",
        "import cv2 #Para abrir webcam\n",
        "# cv2.imshow() is disabled in Colab, because it causes Jupyter sessionsto crash, consider using cv2_imshow \n",
        "from google.colab.patches import cv2_imshow \n",
        "import sys # to access the system\n",
        "\n",
        "# Esta línea de código establece una variable de entorno llamada KMP_DUPLICATE_LIB_OK con el valor \"True\", lo que significa que permite la carga de bibliotecas duplicadas en el entorno de Python. Esto es útil para algunas bibliotecas de Machine Learning que usan OpenMP para acelerar el cómputo.\n",
        "import os    \n",
        "os.environ['KMP_DUPLICATE_LIB_OK'] = 'True'"
      ],
      "metadata": {
        "id": "uovDTFbCwBlL"
      },
      "execution_count": 7,
      "outputs": []
    },
    {
      "cell_type": "code",
      "source": [
        "import os\n",
        "import random\n",
        "import shutil\n",
        "\n",
        "# Creamos los directorios necesarios\n",
        "os.makedirs('/content/data/train/images', exist_ok=True)\n",
        "os.makedirs('/content/data/train/labels', exist_ok=True)\n",
        "os.makedirs('/content/data/val/images', exist_ok=True)\n",
        "os.makedirs('/content/data/val/labels', exist_ok=True)\n",
        "os.makedirs('/content/data/test/images', exist_ok=True)\n",
        "os.makedirs('/content/data/test/labels', exist_ok=True)\n",
        "\n",
        "dest_train_Image = \"/content/data/train/images/\"\n",
        "dest_train_Label = \"/content/data/train/labels/\"\n",
        "dest_val_Image = \"/content/data/val/images/\"\n",
        "dest_val_Label = \"/content/data/val/labels/\"\n",
        "dest_test_Image = \"/content/data/test/images/\"\n",
        "dest_test_Label = \"/content/data/test/labels/\"\n",
        "\n",
        "\n",
        "with os.scandir('/content/drive/MyDrive/IA/Datasets/DatasetFinal/train/images') as entries:\n",
        "  for entry in entries:\n",
        "    shutil.copy2(entry.path, dest_train_Image)\n",
        "\n",
        "with os.scandir('/content/drive/MyDrive/IA/Datasets/DatasetFinal/train/labels') as entries:\n",
        "  for entry in entries:\n",
        "    shutil.copy2(entry.path, dest_train_Label)\n",
        "\n",
        "with os.scandir('/content/drive/MyDrive/IA/Datasets/DatasetFinal/val/images') as entries:\n",
        "  for entry in entries:\n",
        "    shutil.copy2(entry.path, dest_val_Image)\n",
        "\n",
        "with os.scandir('/content/drive/MyDrive/IA/Datasets/DatasetFinal/val/labels') as entries:\n",
        "  for entry in entries:\n",
        "    shutil.copy2(entry.path, dest_val_Label)\n",
        "\n",
        "with os.scandir('/content/drive/MyDrive/IA/Datasets/DatasetFinal/test/images') as entries:\n",
        "  for entry in entries:\n",
        "    shutil.copy2(entry.path, dest_test_Image)\n",
        "\n",
        "with os.scandir('/content/drive/MyDrive/IA/Datasets/DatasetFinal/test/labels') as entries:\n",
        "  for entry in entries:\n",
        "    shutil.copy2(entry.path, dest_test_Label)"
      ],
      "metadata": {
        "id": "odDjyoF6wEAz",
        "outputId": "6d5938a9-ce00-451b-a9f2-4627f14aded1",
        "colab": {
          "base_uri": "https://localhost:8080/",
          "height": 380
        }
      },
      "execution_count": 8,
      "outputs": [
        {
          "output_type": "error",
          "ename": "KeyboardInterrupt",
          "evalue": "ignored",
          "traceback": [
            "\u001b[0;31m---------------------------------------------------------------------------\u001b[0m",
            "\u001b[0;31mKeyboardInterrupt\u001b[0m                         Traceback (most recent call last)",
            "\u001b[0;32m<ipython-input-8-71da84c71505>\u001b[0m in \u001b[0;36m<cell line: 21>\u001b[0;34m()\u001b[0m\n\u001b[1;32m     21\u001b[0m \u001b[0;32mwith\u001b[0m \u001b[0mos\u001b[0m\u001b[0;34m.\u001b[0m\u001b[0mscandir\u001b[0m\u001b[0;34m(\u001b[0m\u001b[0;34m'/content/drive/MyDrive/IA/Datasets/DatasetFinal/train/images'\u001b[0m\u001b[0;34m)\u001b[0m \u001b[0;32mas\u001b[0m \u001b[0mentries\u001b[0m\u001b[0;34m:\u001b[0m\u001b[0;34m\u001b[0m\u001b[0;34m\u001b[0m\u001b[0m\n\u001b[1;32m     22\u001b[0m   \u001b[0;32mfor\u001b[0m \u001b[0mentry\u001b[0m \u001b[0;32min\u001b[0m \u001b[0mentries\u001b[0m\u001b[0;34m:\u001b[0m\u001b[0;34m\u001b[0m\u001b[0;34m\u001b[0m\u001b[0m\n\u001b[0;32m---> 23\u001b[0;31m     \u001b[0mshutil\u001b[0m\u001b[0;34m.\u001b[0m\u001b[0mcopy2\u001b[0m\u001b[0;34m(\u001b[0m\u001b[0mentry\u001b[0m\u001b[0;34m.\u001b[0m\u001b[0mpath\u001b[0m\u001b[0;34m,\u001b[0m \u001b[0mdest_train_Image\u001b[0m\u001b[0;34m)\u001b[0m\u001b[0;34m\u001b[0m\u001b[0;34m\u001b[0m\u001b[0m\n\u001b[0m\u001b[1;32m     24\u001b[0m \u001b[0;34m\u001b[0m\u001b[0m\n\u001b[1;32m     25\u001b[0m \u001b[0;32mwith\u001b[0m \u001b[0mos\u001b[0m\u001b[0;34m.\u001b[0m\u001b[0mscandir\u001b[0m\u001b[0;34m(\u001b[0m\u001b[0;34m'/content/drive/MyDrive/IA/Datasets/DatasetFinal/train/labels'\u001b[0m\u001b[0;34m)\u001b[0m \u001b[0;32mas\u001b[0m \u001b[0mentries\u001b[0m\u001b[0;34m:\u001b[0m\u001b[0;34m\u001b[0m\u001b[0;34m\u001b[0m\u001b[0m\n",
            "\u001b[0;32m/usr/lib/python3.10/shutil.py\u001b[0m in \u001b[0;36mcopy2\u001b[0;34m(src, dst, follow_symlinks)\u001b[0m\n\u001b[1;32m    432\u001b[0m     \u001b[0;32mif\u001b[0m \u001b[0mos\u001b[0m\u001b[0;34m.\u001b[0m\u001b[0mpath\u001b[0m\u001b[0;34m.\u001b[0m\u001b[0misdir\u001b[0m\u001b[0;34m(\u001b[0m\u001b[0mdst\u001b[0m\u001b[0;34m)\u001b[0m\u001b[0;34m:\u001b[0m\u001b[0;34m\u001b[0m\u001b[0;34m\u001b[0m\u001b[0m\n\u001b[1;32m    433\u001b[0m         \u001b[0mdst\u001b[0m \u001b[0;34m=\u001b[0m \u001b[0mos\u001b[0m\u001b[0;34m.\u001b[0m\u001b[0mpath\u001b[0m\u001b[0;34m.\u001b[0m\u001b[0mjoin\u001b[0m\u001b[0;34m(\u001b[0m\u001b[0mdst\u001b[0m\u001b[0;34m,\u001b[0m \u001b[0mos\u001b[0m\u001b[0;34m.\u001b[0m\u001b[0mpath\u001b[0m\u001b[0;34m.\u001b[0m\u001b[0mbasename\u001b[0m\u001b[0;34m(\u001b[0m\u001b[0msrc\u001b[0m\u001b[0;34m)\u001b[0m\u001b[0;34m)\u001b[0m\u001b[0;34m\u001b[0m\u001b[0;34m\u001b[0m\u001b[0m\n\u001b[0;32m--> 434\u001b[0;31m     \u001b[0mcopyfile\u001b[0m\u001b[0;34m(\u001b[0m\u001b[0msrc\u001b[0m\u001b[0;34m,\u001b[0m \u001b[0mdst\u001b[0m\u001b[0;34m,\u001b[0m \u001b[0mfollow_symlinks\u001b[0m\u001b[0;34m=\u001b[0m\u001b[0mfollow_symlinks\u001b[0m\u001b[0;34m)\u001b[0m\u001b[0;34m\u001b[0m\u001b[0;34m\u001b[0m\u001b[0m\n\u001b[0m\u001b[1;32m    435\u001b[0m     \u001b[0mcopystat\u001b[0m\u001b[0;34m(\u001b[0m\u001b[0msrc\u001b[0m\u001b[0;34m,\u001b[0m \u001b[0mdst\u001b[0m\u001b[0;34m,\u001b[0m \u001b[0mfollow_symlinks\u001b[0m\u001b[0;34m=\u001b[0m\u001b[0mfollow_symlinks\u001b[0m\u001b[0;34m)\u001b[0m\u001b[0;34m\u001b[0m\u001b[0;34m\u001b[0m\u001b[0m\n\u001b[1;32m    436\u001b[0m     \u001b[0;32mreturn\u001b[0m \u001b[0mdst\u001b[0m\u001b[0;34m\u001b[0m\u001b[0;34m\u001b[0m\u001b[0m\n",
            "\u001b[0;32m/usr/lib/python3.10/shutil.py\u001b[0m in \u001b[0;36mcopyfile\u001b[0;34m(src, dst, follow_symlinks)\u001b[0m\n\u001b[1;32m    256\u001b[0m                 \u001b[0;32mwith\u001b[0m \u001b[0mopen\u001b[0m\u001b[0;34m(\u001b[0m\u001b[0mdst\u001b[0m\u001b[0;34m,\u001b[0m \u001b[0;34m'wb'\u001b[0m\u001b[0;34m)\u001b[0m \u001b[0;32mas\u001b[0m \u001b[0mfdst\u001b[0m\u001b[0;34m:\u001b[0m\u001b[0;34m\u001b[0m\u001b[0;34m\u001b[0m\u001b[0m\n\u001b[1;32m    257\u001b[0m                     \u001b[0;31m# macOS\u001b[0m\u001b[0;34m\u001b[0m\u001b[0;34m\u001b[0m\u001b[0m\n\u001b[0;32m--> 258\u001b[0;31m                     \u001b[0;32mif\u001b[0m \u001b[0m_HAS_FCOPYFILE\u001b[0m\u001b[0;34m:\u001b[0m\u001b[0;34m\u001b[0m\u001b[0;34m\u001b[0m\u001b[0m\n\u001b[0m\u001b[1;32m    259\u001b[0m                         \u001b[0;32mtry\u001b[0m\u001b[0;34m:\u001b[0m\u001b[0;34m\u001b[0m\u001b[0;34m\u001b[0m\u001b[0m\n\u001b[1;32m    260\u001b[0m                             \u001b[0m_fastcopy_fcopyfile\u001b[0m\u001b[0;34m(\u001b[0m\u001b[0mfsrc\u001b[0m\u001b[0;34m,\u001b[0m \u001b[0mfdst\u001b[0m\u001b[0;34m,\u001b[0m \u001b[0mposix\u001b[0m\u001b[0;34m.\u001b[0m\u001b[0m_COPYFILE_DATA\u001b[0m\u001b[0;34m)\u001b[0m\u001b[0;34m\u001b[0m\u001b[0;34m\u001b[0m\u001b[0m\n",
            "\u001b[0;31mKeyboardInterrupt\u001b[0m: "
          ]
        }
      ]
    },
    {
      "cell_type": "code",
      "source": [
        "f= open(\"yolov5/data/ImagenesCoche.yaml\",\"w+\")\n",
        "\n",
        "f.write(\"path: ../data \\ntrain: train/images/ \\nval: val/images \\ntest: test/images \\n\\nnc: 4 \\n\\nnames: ['Obligacion', 'Peligro', 'Prohibicion', 'STOP']\")\n",
        "\n",
        "f.close()"
      ],
      "metadata": {
        "id": "PRatlsX1wg2D"
      },
      "execution_count": null,
      "outputs": []
    },
    {
      "cell_type": "markdown",
      "source": [
        "# **Este paso es opcional, con esto primero se consiguen los mejores hyperparametros y luego se entrena directamente**"
      ],
      "metadata": {
        "id": "06h3di7dbCbI"
      }
    },
    {
      "cell_type": "code",
      "source": [
        "!cd yolov5 && python train.py --evolve --img 640 --batch 16 --epochs 150 --data ImagenesCoche.yaml --weights yolov5s.pt --save-period 10 --project \"/content/drive/MyDrive/IA/Pesos_yoloV5/Final\" "
      ],
      "metadata": {
        "id": "VtDM-QIWhDXI"
      },
      "execution_count": null,
      "outputs": []
    },
    {
      "cell_type": "markdown",
      "source": [
        "# **Si hacemos este paso directamente, entrenamos sin optimizar los hyperparametros**"
      ],
      "metadata": {
        "id": "jf0lN2eEbRGw"
      }
    },
    {
      "cell_type": "code",
      "source": [
        "shutil.copy2(\"/content/yolov5/requirements.txt\", \"/content/requirements.txt\")\n",
        "!cd yolov5 && python train.py --img 640 --batch 16 --epochs 150 --data ImagenesCoche.yaml --weights yolov5s.pt --project ../drive/MyDrive/IA/Pesos_yoloV5/Final --save-period 10"
      ],
      "metadata": {
        "id": "OhLeJU-OxGtV"
      },
      "execution_count": null,
      "outputs": []
    },
    {
      "cell_type": "code",
      "source": [
        "# !cd yolov5 && python train.py --resume ../drive/MyDrive/IA/Pesos_yoloV5/Final/exp/weights/last.pt"
      ],
      "metadata": {
        "id": "DJBbQM_B3PW7"
      },
      "execution_count": null,
      "outputs": []
    },
    {
      "cell_type": "markdown",
      "source": [
        "#**Ahora sacamos las métricas con las imagenes de test**"
      ],
      "metadata": {
        "id": "u4P1UrcDbdri"
      }
    },
    {
      "cell_type": "code",
      "source": [
        "!cd yolov5 && python val.py --task test --data ImagenesCoche.yaml --weights ../drive/MyDrive/IA/Pesos_yoloV5/Final --conf-thres 0.40 --project ../drive/MyDrive/IA/Pesos_yoloV5/Final/Metricas --name valTest"
      ],
      "metadata": {
        "id": "zDihq78Fbkx4"
      },
      "execution_count": null,
      "outputs": []
    }
  ]
}