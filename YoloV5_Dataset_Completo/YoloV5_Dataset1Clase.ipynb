{
  "cells": [
    {
      "cell_type": "markdown",
      "metadata": {
        "id": "view-in-github",
        "colab_type": "text"
      },
      "source": [
        "<a href=\"https://colab.research.google.com/github/Markkolas/TP2/blob/jorge-test/YoloV5_Dataset_Completo/YoloV5_Dataset1Clase.ipynb\" target=\"_parent\"><img src=\"https://colab.research.google.com/assets/colab-badge.svg\" alt=\"Open In Colab\"/></a>"
      ]
    },
    {
      "cell_type": "markdown",
      "metadata": {
        "id": "zlzVScSJyc_0"
      },
      "source": [
        "# Re-entrenamos el modelo medium de YoloV5 con el dataset entero de Kaggle"
      ]
    },
    {
      "cell_type": "markdown",
      "metadata": {
        "id": "EhN3HZ6kzATU"
      },
      "source": [
        "Añadimos acceso a la carpeta de los dataset del Drive del grupo de proyectos\n",
        "\n",
        "Importante estar ya logeados en la cuenta del grupo, da problemas si estamos en nuestra cuenta personal y queremos montar el drive de la cuenta del grupo."
      ]
    },
    {
      "cell_type": "code",
      "execution_count": null,
      "metadata": {
        "colab": {
          "base_uri": "https://localhost:8080/"
        },
        "id": "wtN50Mf6zYMH",
        "outputId": "ef56c7d2-6b59-4ee1-fafd-c7700f721e6b"
      },
      "outputs": [
        {
          "output_type": "stream",
          "name": "stdout",
          "text": [
            "Mounted at /content/drive\n"
          ]
        }
      ],
      "source": [
        "from google.colab import drive\n",
        "drive.mount('/content/drive')"
      ]
    },
    {
      "cell_type": "markdown",
      "metadata": {
        "id": "NC17ND1bzRQt"
      },
      "source": [
        "Importamos las bibliotecas necesarias"
      ]
    },
    {
      "cell_type": "code",
      "execution_count": null,
      "metadata": {
        "colab": {
          "base_uri": "https://localhost:8080/"
        },
        "id": "kEn22pyqyc_1",
        "outputId": "a1bc6b5b-09fc-4b9c-848d-0bbe0db9e54c"
      },
      "outputs": [
        {
          "output_type": "execute_result",
          "data": {
            "text/plain": [
              "True"
            ]
          },
          "metadata": {},
          "execution_count": 2
        }
      ],
      "source": [
        "import torch\n",
        "torch.cuda.is_available()"
      ]
    },
    {
      "cell_type": "code",
      "execution_count": null,
      "metadata": {
        "colab": {
          "base_uri": "https://localhost:8080/"
        },
        "id": "PeYrZcbhyc_2",
        "outputId": "6033d8d1-844f-4865-fc57-c782a89118a9"
      },
      "outputs": [
        {
          "output_type": "stream",
          "name": "stdout",
          "text": [
            "Looking in indexes: https://pypi.org/simple, https://us-python.pkg.dev/colab-wheels/public/simple/\n",
            "Requirement already satisfied: torch in /usr/local/lib/python3.9/dist-packages (2.0.0+cu118)\n",
            "Requirement already satisfied: torchvision in /usr/local/lib/python3.9/dist-packages (0.15.1+cu118)\n",
            "Requirement already satisfied: torchaudio in /usr/local/lib/python3.9/dist-packages (2.0.1+cu118)\n",
            "Requirement already satisfied: typing-extensions in /usr/local/lib/python3.9/dist-packages (from torch) (4.5.0)\n",
            "Requirement already satisfied: filelock in /usr/local/lib/python3.9/dist-packages (from torch) (3.11.0)\n",
            "Requirement already satisfied: networkx in /usr/local/lib/python3.9/dist-packages (from torch) (3.1)\n",
            "Requirement already satisfied: jinja2 in /usr/local/lib/python3.9/dist-packages (from torch) (3.1.2)\n",
            "Requirement already satisfied: sympy in /usr/local/lib/python3.9/dist-packages (from torch) (1.11.1)\n",
            "Requirement already satisfied: triton==2.0.0 in /usr/local/lib/python3.9/dist-packages (from torch) (2.0.0)\n",
            "Requirement already satisfied: cmake in /usr/local/lib/python3.9/dist-packages (from triton==2.0.0->torch) (3.25.2)\n",
            "Requirement already satisfied: lit in /usr/local/lib/python3.9/dist-packages (from triton==2.0.0->torch) (16.0.1)\n",
            "Requirement already satisfied: requests in /usr/local/lib/python3.9/dist-packages (from torchvision) (2.27.1)\n",
            "Requirement already satisfied: pillow!=8.3.*,>=5.3.0 in /usr/local/lib/python3.9/dist-packages (from torchvision) (8.4.0)\n",
            "Requirement already satisfied: numpy in /usr/local/lib/python3.9/dist-packages (from torchvision) (1.22.4)\n",
            "Requirement already satisfied: MarkupSafe>=2.0 in /usr/local/lib/python3.9/dist-packages (from jinja2->torch) (2.1.2)\n",
            "Requirement already satisfied: idna<4,>=2.5 in /usr/local/lib/python3.9/dist-packages (from requests->torchvision) (3.4)\n",
            "Requirement already satisfied: certifi>=2017.4.17 in /usr/local/lib/python3.9/dist-packages (from requests->torchvision) (2022.12.7)\n",
            "Requirement already satisfied: urllib3<1.27,>=1.21.1 in /usr/local/lib/python3.9/dist-packages (from requests->torchvision) (1.26.15)\n",
            "Requirement already satisfied: charset-normalizer~=2.0.0 in /usr/local/lib/python3.9/dist-packages (from requests->torchvision) (2.0.12)\n",
            "Requirement already satisfied: mpmath>=0.19 in /usr/local/lib/python3.9/dist-packages (from sympy->torch) (1.3.0)\n"
          ]
        }
      ],
      "source": [
        "# Para windows con la CPU:\n",
        "!pip3 install torch torchvision torchaudio \n",
        "\n",
        "# Para Windows con CUDA:\n",
        "# !pip3 install torch torchvision torchaudio --index-url https://download.pytorch.org/whl/cu117\n",
        "\n",
        "# Para windows con la CPU:\n",
        "# !pip3 install torch torchvision torchaudio --index-url https://download.pytorch.org/whl/cpu\n",
        "\n",
        "# Para Windows con CUDA:\n",
        "# !pip3 install torch torchvision torchaudio\n",
        "\n",
        "# Es posible que la mayoría de dependencias ya esten instaladas ^^"
      ]
    },
    {
      "cell_type": "code",
      "execution_count": null,
      "metadata": {
        "colab": {
          "base_uri": "https://localhost:8080/"
        },
        "id": "vhpO93V5yc_2",
        "outputId": "60a01c6b-d05c-416f-cacc-1f27c9eb6f49"
      },
      "outputs": [
        {
          "output_type": "stream",
          "name": "stdout",
          "text": [
            "Cloning into 'yolov5'...\n",
            "remote: Enumerating objects: 15543, done.\u001b[K\n",
            "remote: Counting objects: 100% (150/150), done.\u001b[K\n",
            "remote: Compressing objects: 100% (105/105), done.\u001b[K\n",
            "remote: Total 15543 (delta 60), reused 93 (delta 45), pack-reused 15393\u001b[K\n",
            "Receiving objects: 100% (15543/15543), 14.59 MiB | 18.20 MiB/s, done.\n",
            "Resolving deltas: 100% (10584/10584), done.\n"
          ]
        }
      ],
      "source": [
        "!git clone https://github.com/ultralytics/yolov5\n",
        "# Se deberia haber creado una carpeta en nuestro area de trabajo\n",
        "# Si ya lo teniamos saldra el siguiente error =>fatal: destination path 'yolov5' already exists and is not an empty directory."
      ]
    },
    {
      "cell_type": "code",
      "execution_count": null,
      "metadata": {
        "colab": {
          "base_uri": "https://localhost:8080/"
        },
        "id": "kHVFnTd_WRD4",
        "outputId": "5f4ec7e8-f065-4043-c75a-a8b0fc5f7a1b"
      },
      "outputs": [
        {
          "output_type": "stream",
          "name": "stdout",
          "text": [
            "/content/yolov5\n",
            "Already up to date.\n",
            "/content\n"
          ]
        }
      ],
      "source": [
        "%cd /content/yolov5\n",
        "!git pull\n",
        "%cd ../"
      ]
    },
    {
      "cell_type": "code",
      "execution_count": null,
      "metadata": {
        "colab": {
          "base_uri": "https://localhost:8080/"
        },
        "id": "55dyjau8yc_2",
        "outputId": "90b4970a-312d-470b-ecad-bd207d57c662"
      },
      "outputs": [
        {
          "output_type": "stream",
          "name": "stdout",
          "text": [
            "Looking in indexes: https://pypi.org/simple, https://us-python.pkg.dev/colab-wheels/public/simple/\n",
            "Collecting gitpython>=3.1.30\n",
            "  Downloading GitPython-3.1.31-py3-none-any.whl (184 kB)\n",
            "\u001b[2K     \u001b[90m━━━━━━━━━━━━━━━━━━━━━━━━━━━━━━━━━━━━━━\u001b[0m \u001b[32m184.3/184.3 kB\u001b[0m \u001b[31m16.3 MB/s\u001b[0m eta \u001b[36m0:00:00\u001b[0m\n",
            "\u001b[?25hRequirement already satisfied: matplotlib>=3.3 in /usr/local/lib/python3.9/dist-packages (from -r yolov5/requirements.txt (line 6)) (3.7.1)\n",
            "Requirement already satisfied: numpy>=1.18.5 in /usr/local/lib/python3.9/dist-packages (from -r yolov5/requirements.txt (line 7)) (1.22.4)\n",
            "Requirement already satisfied: opencv-python>=4.1.1 in /usr/local/lib/python3.9/dist-packages (from -r yolov5/requirements.txt (line 8)) (4.7.0.72)\n",
            "Requirement already satisfied: Pillow>=7.1.2 in /usr/local/lib/python3.9/dist-packages (from -r yolov5/requirements.txt (line 9)) (8.4.0)\n",
            "Requirement already satisfied: psutil in /usr/local/lib/python3.9/dist-packages (from -r yolov5/requirements.txt (line 10)) (5.9.4)\n",
            "Requirement already satisfied: PyYAML>=5.3.1 in /usr/local/lib/python3.9/dist-packages (from -r yolov5/requirements.txt (line 11)) (6.0)\n",
            "Requirement already satisfied: requests>=2.23.0 in /usr/local/lib/python3.9/dist-packages (from -r yolov5/requirements.txt (line 12)) (2.27.1)\n",
            "Requirement already satisfied: scipy>=1.4.1 in /usr/local/lib/python3.9/dist-packages (from -r yolov5/requirements.txt (line 13)) (1.10.1)\n",
            "Collecting thop>=0.1.1\n",
            "  Downloading thop-0.1.1.post2209072238-py3-none-any.whl (15 kB)\n",
            "Requirement already satisfied: torch>=1.7.0 in /usr/local/lib/python3.9/dist-packages (from -r yolov5/requirements.txt (line 15)) (2.0.0+cu118)\n",
            "Requirement already satisfied: torchvision>=0.8.1 in /usr/local/lib/python3.9/dist-packages (from -r yolov5/requirements.txt (line 16)) (0.15.1+cu118)\n",
            "Requirement already satisfied: tqdm>=4.64.0 in /usr/local/lib/python3.9/dist-packages (from -r yolov5/requirements.txt (line 17)) (4.65.0)\n",
            "Requirement already satisfied: pandas>=1.1.4 in /usr/local/lib/python3.9/dist-packages (from -r yolov5/requirements.txt (line 26)) (1.5.3)\n",
            "Requirement already satisfied: seaborn>=0.11.0 in /usr/local/lib/python3.9/dist-packages (from -r yolov5/requirements.txt (line 27)) (0.12.2)\n",
            "Requirement already satisfied: setuptools>=65.5.1 in /usr/local/lib/python3.9/dist-packages (from -r yolov5/requirements.txt (line 41)) (67.6.1)\n",
            "Collecting gitdb<5,>=4.0.1\n",
            "  Downloading gitdb-4.0.10-py3-none-any.whl (62 kB)\n",
            "\u001b[2K     \u001b[90m━━━━━━━━━━━━━━━━━━━━━━━━━━━━━━━━━━━━━━━━\u001b[0m \u001b[32m62.7/62.7 kB\u001b[0m \u001b[31m9.2 MB/s\u001b[0m eta \u001b[36m0:00:00\u001b[0m\n",
            "\u001b[?25hRequirement already satisfied: contourpy>=1.0.1 in /usr/local/lib/python3.9/dist-packages (from matplotlib>=3.3->-r yolov5/requirements.txt (line 6)) (1.0.7)\n",
            "Requirement already satisfied: fonttools>=4.22.0 in /usr/local/lib/python3.9/dist-packages (from matplotlib>=3.3->-r yolov5/requirements.txt (line 6)) (4.39.3)\n",
            "Requirement already satisfied: packaging>=20.0 in /usr/local/lib/python3.9/dist-packages (from matplotlib>=3.3->-r yolov5/requirements.txt (line 6)) (23.0)\n",
            "Requirement already satisfied: kiwisolver>=1.0.1 in /usr/local/lib/python3.9/dist-packages (from matplotlib>=3.3->-r yolov5/requirements.txt (line 6)) (1.4.4)\n",
            "Requirement already satisfied: python-dateutil>=2.7 in /usr/local/lib/python3.9/dist-packages (from matplotlib>=3.3->-r yolov5/requirements.txt (line 6)) (2.8.2)\n",
            "Requirement already satisfied: pyparsing>=2.3.1 in /usr/local/lib/python3.9/dist-packages (from matplotlib>=3.3->-r yolov5/requirements.txt (line 6)) (3.0.9)\n",
            "Requirement already satisfied: importlib-resources>=3.2.0 in /usr/local/lib/python3.9/dist-packages (from matplotlib>=3.3->-r yolov5/requirements.txt (line 6)) (5.12.0)\n",
            "Requirement already satisfied: cycler>=0.10 in /usr/local/lib/python3.9/dist-packages (from matplotlib>=3.3->-r yolov5/requirements.txt (line 6)) (0.11.0)\n",
            "Requirement already satisfied: idna<4,>=2.5 in /usr/local/lib/python3.9/dist-packages (from requests>=2.23.0->-r yolov5/requirements.txt (line 12)) (3.4)\n",
            "Requirement already satisfied: charset-normalizer~=2.0.0 in /usr/local/lib/python3.9/dist-packages (from requests>=2.23.0->-r yolov5/requirements.txt (line 12)) (2.0.12)\n",
            "Requirement already satisfied: urllib3<1.27,>=1.21.1 in /usr/local/lib/python3.9/dist-packages (from requests>=2.23.0->-r yolov5/requirements.txt (line 12)) (1.26.15)\n",
            "Requirement already satisfied: certifi>=2017.4.17 in /usr/local/lib/python3.9/dist-packages (from requests>=2.23.0->-r yolov5/requirements.txt (line 12)) (2022.12.7)\n",
            "Requirement already satisfied: triton==2.0.0 in /usr/local/lib/python3.9/dist-packages (from torch>=1.7.0->-r yolov5/requirements.txt (line 15)) (2.0.0)\n",
            "Requirement already satisfied: networkx in /usr/local/lib/python3.9/dist-packages (from torch>=1.7.0->-r yolov5/requirements.txt (line 15)) (3.1)\n",
            "Requirement already satisfied: sympy in /usr/local/lib/python3.9/dist-packages (from torch>=1.7.0->-r yolov5/requirements.txt (line 15)) (1.11.1)\n",
            "Requirement already satisfied: filelock in /usr/local/lib/python3.9/dist-packages (from torch>=1.7.0->-r yolov5/requirements.txt (line 15)) (3.11.0)\n",
            "Requirement already satisfied: jinja2 in /usr/local/lib/python3.9/dist-packages (from torch>=1.7.0->-r yolov5/requirements.txt (line 15)) (3.1.2)\n",
            "Requirement already satisfied: typing-extensions in /usr/local/lib/python3.9/dist-packages (from torch>=1.7.0->-r yolov5/requirements.txt (line 15)) (4.5.0)\n",
            "Requirement already satisfied: cmake in /usr/local/lib/python3.9/dist-packages (from triton==2.0.0->torch>=1.7.0->-r yolov5/requirements.txt (line 15)) (3.25.2)\n",
            "Requirement already satisfied: lit in /usr/local/lib/python3.9/dist-packages (from triton==2.0.0->torch>=1.7.0->-r yolov5/requirements.txt (line 15)) (16.0.1)\n",
            "Requirement already satisfied: pytz>=2020.1 in /usr/local/lib/python3.9/dist-packages (from pandas>=1.1.4->-r yolov5/requirements.txt (line 26)) (2022.7.1)\n",
            "Collecting smmap<6,>=3.0.1\n",
            "  Downloading smmap-5.0.0-py3-none-any.whl (24 kB)\n",
            "Requirement already satisfied: zipp>=3.1.0 in /usr/local/lib/python3.9/dist-packages (from importlib-resources>=3.2.0->matplotlib>=3.3->-r yolov5/requirements.txt (line 6)) (3.15.0)\n",
            "Requirement already satisfied: six>=1.5 in /usr/local/lib/python3.9/dist-packages (from python-dateutil>=2.7->matplotlib>=3.3->-r yolov5/requirements.txt (line 6)) (1.16.0)\n",
            "Requirement already satisfied: MarkupSafe>=2.0 in /usr/local/lib/python3.9/dist-packages (from jinja2->torch>=1.7.0->-r yolov5/requirements.txt (line 15)) (2.1.2)\n",
            "Requirement already satisfied: mpmath>=0.19 in /usr/local/lib/python3.9/dist-packages (from sympy->torch>=1.7.0->-r yolov5/requirements.txt (line 15)) (1.3.0)\n",
            "Installing collected packages: smmap, gitdb, gitpython, thop\n",
            "Successfully installed gitdb-4.0.10 gitpython-3.1.31 smmap-5.0.0 thop-0.1.1.post2209072238\n"
          ]
        }
      ],
      "source": [
        "!pip install -r yolov5/requirements.txt"
      ]
    },
    {
      "cell_type": "code",
      "execution_count": null,
      "metadata": {
        "id": "0GVUlxwZyc_3"
      },
      "outputs": [],
      "source": [
        "import torch\n",
        "from matplotlib import pyplot as plt\n",
        "import numpy as np\n",
        "import cv2 #Para abrir webcam\n",
        "# cv2.imshow() is disabled in Colab, because it causes Jupyter sessionsto crash, consider using cv2_imshow \n",
        "from google.colab.patches import cv2_imshow \n",
        "import sys # to access the system\n",
        "\n",
        "# Esta línea de código establece una variable de entorno llamada KMP_DUPLICATE_LIB_OK con el valor \"True\", lo que significa que permite la carga de bibliotecas duplicadas en el entorno de Python. Esto es útil para algunas bibliotecas de Machine Learning que usan OpenMP para acelerar el cómputo.\n",
        "import os    \n",
        "os.environ['KMP_DUPLICATE_LIB_OK'] = 'True'"
      ]
    },
    {
      "cell_type": "markdown",
      "metadata": {
        "id": "-2jrDuTDyc_3"
      },
      "source": [
        "***\n",
        "En la siguiente celda se escogen 100 imagenes para hacer el re-entreno.\n",
        " \n",
        "Además esas imagenes se suben a unas carpetas que creamos en el directorio base de colabs.\n",
        "***"
      ]
    },
    {
      "cell_type": "code",
      "execution_count": null,
      "metadata": {
        "id": "VMh78Gt1yc_3"
      },
      "outputs": [],
      "source": [
        "import os\n",
        "import random\n",
        "import shutil\n",
        "\n",
        "# Creamos los directorios necesarios\n",
        "os.makedirs('/content/data/train/images', exist_ok=True)\n",
        "os.makedirs('/content/data/train/labels', exist_ok=True)\n",
        "os.makedirs('/content/data/val/images', exist_ok=True)\n",
        "os.makedirs('/content/data/val/labels', exist_ok=True)\n",
        "\n",
        "dest_train_Image = \"/content/data/train/images/\"\n",
        "dest_train_Label = \"/content/data/train/labels/\"\n",
        "dest_val_Image = \"/content/data/val/images/\"\n",
        "dest_val_Label = \"/content/data/val/labels/\"\n",
        "\n",
        "\n",
        "with os.scandir('/content/drive/MyDrive/IA/Datasets/Kaggle1Clase/train/images') as entries:\n",
        "  for entry in entries:\n",
        "    shutil.copy2(entry.path, dest_train_Image)\n",
        "\n",
        "with os.scandir('/content/drive/MyDrive/IA/Datasets/Kaggle1Clase/train/labels') as entries:\n",
        "  for entry in entries:\n",
        "    shutil.copy2(entry.path, dest_train_Label)\n",
        "\n",
        "with os.scandir('/content/drive/MyDrive/IA/Datasets/Kaggle1Clase/val/images') as entries:\n",
        "  for entry in entries:\n",
        "    shutil.copy2(entry.path, dest_val_Image)\n",
        "\n",
        "with os.scandir('/content/drive/MyDrive/IA/Datasets/Kaggle1Clase/val/labels') as entries:\n",
        "  for entry in entries:\n",
        "    shutil.copy2(entry.path, dest_val_Label)\n",
        "\n",
        "\n",
        "with os.scandir('/content/drive/MyDrive/IA/Datasets/Plastico1Clase/train/images') as entries:\n",
        "  for entry in entries:\n",
        "    shutil.copy2(entry.path, dest_train_Image)\n",
        "\n",
        "with os.scandir('/content/drive/MyDrive/IA/Datasets/Plastico1Clase/train/labels') as entries:\n",
        "  for entry in entries:\n",
        "    shutil.copy2(entry.path, dest_train_Label)\n",
        "\n",
        "with os.scandir('/content/drive/MyDrive/IA/Datasets/Plastico1Clase/val/images') as entries:\n",
        "  for entry in entries:\n",
        "    shutil.copy2(entry.path, dest_val_Image)\n",
        "\n",
        "with os.scandir('/content/drive/MyDrive/IA/Datasets/Plastico1Clase/val/labels') as entries:\n",
        "  for entry in entries:\n",
        "    shutil.copy2(entry.path, dest_val_Label)"
      ]
    },
    {
      "cell_type": "markdown",
      "metadata": {
        "id": "vPbz8qatyc_3"
      },
      "source": [
        "***\n",
        "**`Entrenar un modelo desde cero`**\n",
        "***"
      ]
    },
    {
      "cell_type": "markdown",
      "metadata": {
        "id": "JQ3DLRW9yc_4"
      },
      "source": [
        "Ahora tenemos que crear el archivo dataset.yaml, que contiene las categorias de nuestros pesos y las rutas de nuestras imagenes de entrenamiento, test y validación."
      ]
    },
    {
      "cell_type": "code",
      "execution_count": null,
      "metadata": {
        "id": "NLliUqibyc_4"
      },
      "outputs": [],
      "source": [
        "f= open(\"yolov5/data/Dataset1Clase.yaml\",\"w+\")\n",
        "\n",
        "f.write(\"path: ../data \\ntrain: train/images/ \\nval: val/images \\ntest: test/images \\n\\nnc: 1 \\n\\nnames: ['Señal']\")\n",
        "\n",
        "f.close()"
      ]
    },
    {
      "cell_type": "code",
      "execution_count": null,
      "metadata": {
        "id": "cUxnSp18yc_4",
        "outputId": "2c314920-bdae-4123-aa1e-da8db17effe4",
        "colab": {
          "base_uri": "https://localhost:8080/"
        }
      },
      "outputs": [
        {
          "output_type": "stream",
          "name": "stdout",
          "text": [
            "usage: train.py\n",
            "       [-h]\n",
            "       [--weights WEIGHTS]\n",
            "       [--cfg CFG]\n",
            "       [--data DATA]\n",
            "       [--hyp HYP]\n",
            "       [--epochs EPOCHS]\n",
            "       [--batch-size BATCH_SIZE]\n",
            "       [--imgsz IMGSZ]\n",
            "       [--rect]\n",
            "       [--resume [RESUME]]\n",
            "       [--nosave]\n",
            "       [--noval]\n",
            "       [--noautoanchor]\n",
            "       [--noplots]\n",
            "       [--evolve [EVOLVE]]\n",
            "       [--bucket BUCKET]\n",
            "       [--cache [CACHE]]\n",
            "       [--image-weights]\n",
            "       [--device DEVICE]\n",
            "       [--multi-scale]\n",
            "       [--single-cls]\n",
            "       [--optimizer {SGD,Adam,AdamW}]\n",
            "       [--sync-bn]\n",
            "       [--workers WORKERS]\n",
            "       [--project PROJECT]\n",
            "       [--name NAME]\n",
            "       [--exist-ok]\n",
            "       [--quad]\n",
            "       [--cos-lr]\n",
            "       [--label-smoothing LABEL_SMOOTHING]\n",
            "       [--patience PATIENCE]\n",
            "       [--freeze FREEZE [FREEZE ...]]\n",
            "       [--save-period SAVE_PERIOD]\n",
            "       [--seed SEED]\n",
            "       [--local_rank LOCAL_RANK]\n",
            "       [--entity ENTITY]\n",
            "       [--upload_dataset [UPLOAD_DATASET]]\n",
            "       [--bbox_interval BBOX_INTERVAL]\n",
            "       [--artifact_alias ARTIFACT_ALIAS]\n",
            "train.py: error: ambiguous option: --h could match --help, --hyp\n"
          ]
        }
      ],
      "source": [
        "shutil.copy2(\"/content/yolov5/requirements.txt\", \"/content/requirements.txt\")\n",
        "!cd yolov5 && python train.py --img 640 --batch 16 --epochs 300 --data Kaggle1Clase.yaml --weights yolov5s.pt --project ../drive/MyDrive/IA/Pesos_yoloV5/Dataset1Clase --save-period 20 "
      ]
    },
    {
      "cell_type": "code",
      "execution_count": null,
      "metadata": {
        "id": "U-1kxcz-YDGS"
      },
      "outputs": [],
      "source": [
        "# !cd yolov5 && python train.py --resume ../drive/MyDrive/IA/Pesos_yoloV5/Dataset1Clase/exp/weights/last.pt"
      ]
    }
  ],
  "metadata": {
    "accelerator": "GPU",
    "colab": {
      "provenance": [],
      "include_colab_link": true
    },
    "gpuClass": "standard",
    "interpreter": {
      "hash": "eb4177ad35f1696ea836e1658e5ab8a4373538db1d3c5cdb2fa9c2e3e3ef954b"
    },
    "kernelspec": {
      "display_name": "Python 3.9.13 ('base')",
      "language": "python",
      "name": "python3"
    },
    "language_info": {
      "codemirror_mode": {
        "name": "ipython",
        "version": 3
      },
      "file_extension": ".py",
      "mimetype": "text/x-python",
      "name": "python",
      "nbconvert_exporter": "python",
      "pygments_lexer": "ipython3",
      "version": "3.9.13"
    },
    "orig_nbformat": 4
  },
  "nbformat": 4,
  "nbformat_minor": 0
}