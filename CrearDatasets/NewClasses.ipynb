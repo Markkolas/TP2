{
  "nbformat": 4,
  "nbformat_minor": 0,
  "metadata": {
    "colab": {
      "provenance": [],
      "authorship_tag": "ABX9TyMwdnW2/O8NrbWi3lS+eZLP",
      "include_colab_link": true
    },
    "kernelspec": {
      "name": "python3",
      "display_name": "Python 3"
    },
    "language_info": {
      "name": "python"
    }
  },
  "cells": [
    {
      "cell_type": "markdown",
      "metadata": {
        "id": "view-in-github",
        "colab_type": "text"
      },
      "source": [
        "<a href=\"https://colab.research.google.com/github/Markkolas/TP2/blob/jorge-test/CrearDatasets/NewClasses.ipynb\" target=\"_parent\"><img src=\"https://colab.research.google.com/assets/colab-badge.svg\" alt=\"Open In Colab\"/></a>"
      ]
    },
    {
      "cell_type": "code",
      "source": [
        "from google.colab import drive\n",
        "drive.mount('/content/drive')"
      ],
      "metadata": {
        "colab": {
          "base_uri": "https://localhost:8080/"
        },
        "id": "uW2dsX-6jJLb",
        "outputId": "f8a4bf1f-5711-4233-bdac-756f7c841c1c"
      },
      "execution_count": 1,
      "outputs": [
        {
          "output_type": "stream",
          "name": "stdout",
          "text": [
            "Mounted at /content/drive\n"
          ]
        }
      ]
    },
    {
      "cell_type": "code",
      "source": [
        "import torch\n",
        "torch.cuda.is_available()\n",
        "\n",
        "# Para windows con la CPU:\n",
        "!pip3 install torch torchvision torchaudio "
      ],
      "metadata": {
        "colab": {
          "base_uri": "https://localhost:8080/"
        },
        "id": "H8o5ybryjMfS",
        "outputId": "ed611573-0110-4fdd-9f23-ceb258609f9c"
      },
      "execution_count": 2,
      "outputs": [
        {
          "output_type": "stream",
          "name": "stdout",
          "text": [
            "Looking in indexes: https://pypi.org/simple, https://us-python.pkg.dev/colab-wheels/public/simple/\n",
            "Requirement already satisfied: torch in /usr/local/lib/python3.10/dist-packages (2.0.0+cu118)\n",
            "Requirement already satisfied: torchvision in /usr/local/lib/python3.10/dist-packages (0.15.1+cu118)\n",
            "Requirement already satisfied: torchaudio in /usr/local/lib/python3.10/dist-packages (2.0.1+cu118)\n",
            "Requirement already satisfied: filelock in /usr/local/lib/python3.10/dist-packages (from torch) (3.12.0)\n",
            "Requirement already satisfied: typing-extensions in /usr/local/lib/python3.10/dist-packages (from torch) (4.5.0)\n",
            "Requirement already satisfied: sympy in /usr/local/lib/python3.10/dist-packages (from torch) (1.11.1)\n",
            "Requirement already satisfied: networkx in /usr/local/lib/python3.10/dist-packages (from torch) (3.1)\n",
            "Requirement already satisfied: jinja2 in /usr/local/lib/python3.10/dist-packages (from torch) (3.1.2)\n",
            "Requirement already satisfied: triton==2.0.0 in /usr/local/lib/python3.10/dist-packages (from torch) (2.0.0)\n",
            "Requirement already satisfied: cmake in /usr/local/lib/python3.10/dist-packages (from triton==2.0.0->torch) (3.25.2)\n",
            "Requirement already satisfied: lit in /usr/local/lib/python3.10/dist-packages (from triton==2.0.0->torch) (16.0.2)\n",
            "Requirement already satisfied: numpy in /usr/local/lib/python3.10/dist-packages (from torchvision) (1.22.4)\n",
            "Requirement already satisfied: requests in /usr/local/lib/python3.10/dist-packages (from torchvision) (2.27.1)\n",
            "Requirement already satisfied: pillow!=8.3.*,>=5.3.0 in /usr/local/lib/python3.10/dist-packages (from torchvision) (8.4.0)\n",
            "Requirement already satisfied: MarkupSafe>=2.0 in /usr/local/lib/python3.10/dist-packages (from jinja2->torch) (2.1.2)\n",
            "Requirement already satisfied: urllib3<1.27,>=1.21.1 in /usr/local/lib/python3.10/dist-packages (from requests->torchvision) (1.26.15)\n",
            "Requirement already satisfied: certifi>=2017.4.17 in /usr/local/lib/python3.10/dist-packages (from requests->torchvision) (2022.12.7)\n",
            "Requirement already satisfied: charset-normalizer~=2.0.0 in /usr/local/lib/python3.10/dist-packages (from requests->torchvision) (2.0.12)\n",
            "Requirement already satisfied: idna<4,>=2.5 in /usr/local/lib/python3.10/dist-packages (from requests->torchvision) (3.4)\n",
            "Requirement already satisfied: mpmath>=0.19 in /usr/local/lib/python3.10/dist-packages (from sympy->torch) (1.3.0)\n"
          ]
        }
      ]
    },
    {
      "cell_type": "code",
      "source": [
        "!git clone https://github.com/ultralytics/yolov5"
      ],
      "metadata": {
        "colab": {
          "base_uri": "https://localhost:8080/"
        },
        "id": "I7HT_1n5jLz5",
        "outputId": "4bf0d307-0016-41a3-a6e1-684be05579f0"
      },
      "execution_count": null,
      "outputs": [
        {
          "output_type": "stream",
          "name": "stdout",
          "text": [
            "Cloning into 'yolov5'...\n",
            "remote: Enumerating objects: 15627, done.\u001b[K\n",
            "remote: Counting objects: 100% (234/234), done.\u001b[K\n",
            "remote: Compressing objects: 100% (165/165), done.\u001b[K\n",
            "remote: Total 15627 (delta 116), reused 141 (delta 69), pack-reused 15393\u001b[K\n",
            "Receiving objects: 100% (15627/15627), 14.65 MiB | 23.47 MiB/s, done.\n",
            "Resolving deltas: 100% (10640/10640), done.\n"
          ]
        }
      ]
    },
    {
      "cell_type": "code",
      "source": [
        "%cd /content/yolov5\n",
        "!git pull\n",
        "%cd ../"
      ],
      "metadata": {
        "colab": {
          "base_uri": "https://localhost:8080/"
        },
        "id": "YE4ET77GjSjL",
        "outputId": "df3cd628-95b0-4609-8529-2a0da02b86d3"
      },
      "execution_count": null,
      "outputs": [
        {
          "output_type": "stream",
          "name": "stdout",
          "text": [
            "/content/yolov5\n",
            "Already up to date.\n",
            "/content\n"
          ]
        }
      ]
    },
    {
      "cell_type": "code",
      "source": [
        "!pip install -r yolov5/requirements.txt"
      ],
      "metadata": {
        "colab": {
          "base_uri": "https://localhost:8080/"
        },
        "id": "eyWRh3_rjUWT",
        "outputId": "e74292c0-73e5-446d-88ea-be135972045e"
      },
      "execution_count": null,
      "outputs": [
        {
          "output_type": "stream",
          "name": "stdout",
          "text": [
            "Looking in indexes: https://pypi.org/simple, https://us-python.pkg.dev/colab-wheels/public/simple/\n",
            "Collecting gitpython>=3.1.30 (from -r yolov5/requirements.txt (line 5))\n",
            "  Downloading GitPython-3.1.31-py3-none-any.whl (184 kB)\n",
            "\u001b[2K     \u001b[90m━━━━━━━━━━━━━━━━━━━━━━━━━━━━━━━━━━━━━━━\u001b[0m \u001b[32m184.3/184.3 kB\u001b[0m \u001b[31m5.3 MB/s\u001b[0m eta \u001b[36m0:00:00\u001b[0m\n",
            "\u001b[?25hRequirement already satisfied: matplotlib>=3.3 in /usr/local/lib/python3.10/dist-packages (from -r yolov5/requirements.txt (line 6)) (3.7.1)\n",
            "Requirement already satisfied: numpy>=1.18.5 in /usr/local/lib/python3.10/dist-packages (from -r yolov5/requirements.txt (line 7)) (1.22.4)\n",
            "Requirement already satisfied: opencv-python>=4.1.1 in /usr/local/lib/python3.10/dist-packages (from -r yolov5/requirements.txt (line 8)) (4.7.0.72)\n",
            "Requirement already satisfied: Pillow>=7.1.2 in /usr/local/lib/python3.10/dist-packages (from -r yolov5/requirements.txt (line 9)) (8.4.0)\n",
            "Requirement already satisfied: psutil in /usr/local/lib/python3.10/dist-packages (from -r yolov5/requirements.txt (line 10)) (5.9.5)\n",
            "Requirement already satisfied: PyYAML>=5.3.1 in /usr/local/lib/python3.10/dist-packages (from -r yolov5/requirements.txt (line 11)) (6.0)\n",
            "Requirement already satisfied: requests>=2.23.0 in /usr/local/lib/python3.10/dist-packages (from -r yolov5/requirements.txt (line 12)) (2.27.1)\n",
            "Requirement already satisfied: scipy>=1.4.1 in /usr/local/lib/python3.10/dist-packages (from -r yolov5/requirements.txt (line 13)) (1.10.1)\n",
            "Collecting thop>=0.1.1 (from -r yolov5/requirements.txt (line 14))\n",
            "  Downloading thop-0.1.1.post2209072238-py3-none-any.whl (15 kB)\n",
            "Requirement already satisfied: torch>=1.7.0 in /usr/local/lib/python3.10/dist-packages (from -r yolov5/requirements.txt (line 15)) (2.0.0+cu118)\n",
            "Requirement already satisfied: torchvision>=0.8.1 in /usr/local/lib/python3.10/dist-packages (from -r yolov5/requirements.txt (line 16)) (0.15.1+cu118)\n",
            "Requirement already satisfied: tqdm>=4.64.0 in /usr/local/lib/python3.10/dist-packages (from -r yolov5/requirements.txt (line 17)) (4.65.0)\n",
            "Requirement already satisfied: pandas>=1.1.4 in /usr/local/lib/python3.10/dist-packages (from -r yolov5/requirements.txt (line 26)) (1.5.3)\n",
            "Requirement already satisfied: seaborn>=0.11.0 in /usr/local/lib/python3.10/dist-packages (from -r yolov5/requirements.txt (line 27)) (0.12.2)\n",
            "Requirement already satisfied: setuptools>=65.5.1 in /usr/local/lib/python3.10/dist-packages (from -r yolov5/requirements.txt (line 41)) (67.7.2)\n",
            "Collecting gitdb<5,>=4.0.1 (from gitpython>=3.1.30->-r yolov5/requirements.txt (line 5))\n",
            "  Downloading gitdb-4.0.10-py3-none-any.whl (62 kB)\n",
            "\u001b[2K     \u001b[90m━━━━━━━━━━━━━━━━━━━━━━━━━━━━━━━━━━━━━━━━\u001b[0m \u001b[32m62.7/62.7 kB\u001b[0m \u001b[31m5.1 MB/s\u001b[0m eta \u001b[36m0:00:00\u001b[0m\n",
            "\u001b[?25hRequirement already satisfied: contourpy>=1.0.1 in /usr/local/lib/python3.10/dist-packages (from matplotlib>=3.3->-r yolov5/requirements.txt (line 6)) (1.0.7)\n",
            "Requirement already satisfied: cycler>=0.10 in /usr/local/lib/python3.10/dist-packages (from matplotlib>=3.3->-r yolov5/requirements.txt (line 6)) (0.11.0)\n",
            "Requirement already satisfied: fonttools>=4.22.0 in /usr/local/lib/python3.10/dist-packages (from matplotlib>=3.3->-r yolov5/requirements.txt (line 6)) (4.39.3)\n",
            "Requirement already satisfied: kiwisolver>=1.0.1 in /usr/local/lib/python3.10/dist-packages (from matplotlib>=3.3->-r yolov5/requirements.txt (line 6)) (1.4.4)\n",
            "Requirement already satisfied: packaging>=20.0 in /usr/local/lib/python3.10/dist-packages (from matplotlib>=3.3->-r yolov5/requirements.txt (line 6)) (23.1)\n",
            "Requirement already satisfied: pyparsing>=2.3.1 in /usr/local/lib/python3.10/dist-packages (from matplotlib>=3.3->-r yolov5/requirements.txt (line 6)) (3.0.9)\n",
            "Requirement already satisfied: python-dateutil>=2.7 in /usr/local/lib/python3.10/dist-packages (from matplotlib>=3.3->-r yolov5/requirements.txt (line 6)) (2.8.2)\n",
            "Requirement already satisfied: urllib3<1.27,>=1.21.1 in /usr/local/lib/python3.10/dist-packages (from requests>=2.23.0->-r yolov5/requirements.txt (line 12)) (1.26.15)\n",
            "Requirement already satisfied: certifi>=2017.4.17 in /usr/local/lib/python3.10/dist-packages (from requests>=2.23.0->-r yolov5/requirements.txt (line 12)) (2022.12.7)\n",
            "Requirement already satisfied: charset-normalizer~=2.0.0 in /usr/local/lib/python3.10/dist-packages (from requests>=2.23.0->-r yolov5/requirements.txt (line 12)) (2.0.12)\n",
            "Requirement already satisfied: idna<4,>=2.5 in /usr/local/lib/python3.10/dist-packages (from requests>=2.23.0->-r yolov5/requirements.txt (line 12)) (3.4)\n",
            "Requirement already satisfied: filelock in /usr/local/lib/python3.10/dist-packages (from torch>=1.7.0->-r yolov5/requirements.txt (line 15)) (3.12.0)\n",
            "Requirement already satisfied: typing-extensions in /usr/local/lib/python3.10/dist-packages (from torch>=1.7.0->-r yolov5/requirements.txt (line 15)) (4.5.0)\n",
            "Requirement already satisfied: sympy in /usr/local/lib/python3.10/dist-packages (from torch>=1.7.0->-r yolov5/requirements.txt (line 15)) (1.11.1)\n",
            "Requirement already satisfied: networkx in /usr/local/lib/python3.10/dist-packages (from torch>=1.7.0->-r yolov5/requirements.txt (line 15)) (3.1)\n",
            "Requirement already satisfied: jinja2 in /usr/local/lib/python3.10/dist-packages (from torch>=1.7.0->-r yolov5/requirements.txt (line 15)) (3.1.2)\n",
            "Requirement already satisfied: triton==2.0.0 in /usr/local/lib/python3.10/dist-packages (from torch>=1.7.0->-r yolov5/requirements.txt (line 15)) (2.0.0)\n",
            "Requirement already satisfied: cmake in /usr/local/lib/python3.10/dist-packages (from triton==2.0.0->torch>=1.7.0->-r yolov5/requirements.txt (line 15)) (3.25.2)\n",
            "Requirement already satisfied: lit in /usr/local/lib/python3.10/dist-packages (from triton==2.0.0->torch>=1.7.0->-r yolov5/requirements.txt (line 15)) (16.0.2)\n",
            "Requirement already satisfied: pytz>=2020.1 in /usr/local/lib/python3.10/dist-packages (from pandas>=1.1.4->-r yolov5/requirements.txt (line 26)) (2022.7.1)\n",
            "Collecting smmap<6,>=3.0.1 (from gitdb<5,>=4.0.1->gitpython>=3.1.30->-r yolov5/requirements.txt (line 5))\n",
            "  Downloading smmap-5.0.0-py3-none-any.whl (24 kB)\n",
            "Requirement already satisfied: six>=1.5 in /usr/local/lib/python3.10/dist-packages (from python-dateutil>=2.7->matplotlib>=3.3->-r yolov5/requirements.txt (line 6)) (1.16.0)\n",
            "Requirement already satisfied: MarkupSafe>=2.0 in /usr/local/lib/python3.10/dist-packages (from jinja2->torch>=1.7.0->-r yolov5/requirements.txt (line 15)) (2.1.2)\n",
            "Requirement already satisfied: mpmath>=0.19 in /usr/local/lib/python3.10/dist-packages (from sympy->torch>=1.7.0->-r yolov5/requirements.txt (line 15)) (1.3.0)\n",
            "Installing collected packages: smmap, gitdb, gitpython, thop\n",
            "Successfully installed gitdb-4.0.10 gitpython-3.1.31 smmap-5.0.0 thop-0.1.1.post2209072238\n"
          ]
        }
      ]
    },
    {
      "cell_type": "code",
      "source": [
        "import torch\n",
        "from matplotlib import pyplot as plt\n",
        "import numpy as np\n",
        "import cv2 #Para abrir webcam\n",
        "# cv2.imshow() is disabled in Colab, because it causes Jupyter sessionsto crash, consider using cv2_imshow \n",
        "from google.colab.patches import cv2_imshow \n",
        "import sys # to access the system\n",
        "\n",
        "# Esta línea de código establece una variable de entorno llamada KMP_DUPLICATE_LIB_OK con el valor \"True\", lo que significa que permite la carga de bibliotecas duplicadas en el entorno de Python. Esto es útil para algunas bibliotecas de Machine Learning que usan OpenMP para acelerar el cómputo.\n",
        "import os    \n",
        "os.environ['KMP_DUPLICATE_LIB_OK'] = 'True'"
      ],
      "metadata": {
        "id": "D0GfleKtkDFa"
      },
      "execution_count": 3,
      "outputs": []
    },
    {
      "cell_type": "code",
      "source": [
        "# import os \n",
        "\n",
        "# directorio = r\"labels\" \n",
        "\n",
        "# for archivo in os.scandir(directorio): \n",
        "#     nombre_archivo = archivo.name \n",
        "#     nombre_corto = nombre_archivo[:5] \n",
        "#     extensión = nombre_archivo.split('.')[-1] \n",
        "#     nuevo_nombre = nombre_corto + '.' + extensión \n",
        "#     ruta_completa = os.path.join(directorio, nuevo_nombre)\n",
        "#     os.rename(archivo, ruta_completa)\n",
        "    \n",
        "# directorio = r\"images\" \n",
        "\n",
        "# for archivo in os.scandir(directorio): \n",
        "#     nombre_archivo = archivo.name \n",
        "#     nombre_corto = nombre_archivo[:5] \n",
        "#     extensión = nombre_archivo.split('.')[-1] \n",
        "#     nuevo_nombre = nombre_corto + '.' + extensión \n",
        "#     ruta_completa = os.path.join(directorio, nuevo_nombre)\n",
        "#     os.rename(archivo, ruta_completa)"
      ],
      "metadata": {
        "id": "BqCV9_ermYsD"
      },
      "execution_count": null,
      "outputs": []
    },
    {
      "cell_type": "code",
      "source": [
        "import os\n",
        "import random\n",
        "import shutil\n",
        "\n",
        "random.seed(10)\n",
        "\n",
        "# Creamos los directorios necesarios\n",
        "os.makedirs('/content/drive/MyDrive/IA/Datasets/NewClasses/train/images', exist_ok=True)\n",
        "os.makedirs('/content/drive/MyDrive/IA/Datasets/NewClasses/train/labels', exist_ok=True)\n",
        "os.makedirs('/content/drive/MyDrive/IA/Datasets/NewClasses/val/images', exist_ok=True)\n",
        "os.makedirs('/content/drive/MyDrive/IA/Datasets/NewClasses/val/labels', exist_ok=True)\n",
        "\n",
        "dest_train_Image = \"/content/drive/MyDrive/IA/Datasets/NewClasses/train/images/\"\n",
        "dest_train_Label = \"/content/drive/MyDrive/IA/Datasets/NewClasses/train/labels/\"\n",
        "dest_val_Image = \"/content/drive/MyDrive/IA/Datasets/NewClasses/val/images/\"\n",
        "dest_val_Label = \"/content/drive/MyDrive/IA/Datasets/NewClasses/val/labels/\"\n",
        "\n",
        "\n",
        "# Crear una lista con todos los archivos de las carpetas.\n",
        "\n",
        "import glob\n",
        "# Lista de archivos de imagenes\n",
        "img_list = glob.glob(\"/content/drive/MyDrive/IA/Datasets/Kaggle_NewClasses/images/*.jpg\")\n",
        "# Lista de archivos de etiquetas\n",
        "lbl_list = glob.glob(\"/content/drive/MyDrive/IA/Datasets/Kaggle_NewClasses/labels/*.txt\")\n",
        "\n",
        "# Tomar una muestra aleatoria del 30% de los archivos\n",
        "\n",
        "import random\n",
        "# Tomar una muestra aleatoria del 30% de los archivos\n",
        "img_sample_30 = random.sample(img_list, round(len(img_list) * 0.3))\n",
        "lbl_sample_30 = random.sample(lbl_list, round(len(lbl_list) * 0.3))\n",
        "\n",
        "# Mover los archivos de la muestra del 30% a un directorio\n",
        "\n",
        "import shutil\n",
        "# Mueve los archivos de la muestra del 30% de imagenes a un directorio\n",
        "for f in img_sample_30:\n",
        "    shutil.copy2(f, dest_val_Image)\n",
        "\n",
        "# Mueve los archivos de la muestra del 30% de etiquetas a un directorio\n",
        "for f in lbl_sample_30:\n",
        "    shutil.copy2(f, dest_val_Label)\n",
        "\n",
        "# Mover el resto de archivos (70%) al otro directorio\n",
        "\n",
        "# Lista de archivos restantes de imagenes\n",
        "remaining_img_files = [f for f in img_list if f not in img_sample_30]\n",
        "\n",
        "# Mueve los archivos restantes de imagenes al otro directorio\n",
        "for f in remaining_img_files:\n",
        "    shutil.copy2(f, dest_train_Image)\n",
        "\n",
        "# Lista de archivos restantes de etiquetas\n",
        "remaining_lbl_files = [f for f in lbl_list if f not in lbl_sample_30]\n",
        "\n",
        "# Mueve los archivos restantes de etiquetas al otro directorio\n",
        "for f in remaining_lbl_files:\n",
        "    shutil.copy2(f, dest_train_Label)"
      ],
      "metadata": {
        "id": "kHL_1pxfmOhj"
      },
      "execution_count": 5,
      "outputs": []
    },
    {
      "cell_type": "code",
      "source": [
        "dest_train_Image = \"/content/drive/MyDrive/IA/Datasets/NewClasses/train/images/\"\n",
        "dest_train_Label = \"/content/drive/MyDrive/IA/Datasets/NewClasses/train/labels/\"\n",
        "dest_val_Image = \"/content/drive/MyDrive/IA/Datasets/NewClasses/val/images/\"\n",
        "dest_val_Label = \"/content/drive/MyDrive/IA/Datasets/NewClasses/val/labels/\"\n",
        "\n",
        "\n",
        "# Crear una lista con todos los archivos de las carpetas.\n",
        "\n",
        "import glob\n",
        "# Lista de archivos de imagenes\n",
        "img_list = glob.glob(\"/content/drive/MyDrive/IA/Datasets/Plastico_NewClasses/images/*.jpg\")\n",
        "# Lista de archivos de etiquetas\n",
        "lbl_list = glob.glob(\"/content/drive/MyDrive/IA/Datasets/Plastico_NewClasses/labels/*.txt\")\n",
        "\n",
        "# Tomar una muestra aleatoria del 30% de los archivos\n",
        "\n",
        "import random\n",
        "# Tomar una muestra aleatoria del 30% de los archivos\n",
        "img_sample_30 = random.sample(img_list, round(len(img_list) * 0.3))\n",
        "lbl_sample_30 = random.sample(lbl_list, round(len(lbl_list) * 0.3))\n",
        "\n",
        "# Mover los archivos de la muestra del 30% a un directorio\n",
        "\n",
        "import shutil\n",
        "# Mueve los archivos de la muestra del 30% de imagenes a un directorio\n",
        "for f in img_sample_30:\n",
        "    shutil.copy2(f, dest_val_Image)\n",
        "\n",
        "# Mueve los archivos de la muestra del 30% de etiquetas a un directorio\n",
        "for f in lbl_sample_30:\n",
        "    shutil.copy2(f, dest_val_Label)\n",
        "\n",
        "# Mover el resto de archivos (70%) al otro directorio\n",
        "\n",
        "# Lista de archivos restantes de imagenes\n",
        "remaining_img_files = [f for f in img_list if f not in img_sample_30]\n",
        "\n",
        "# Mueve los archivos restantes de imagenes al otro directorio\n",
        "for f in remaining_img_files:\n",
        "    shutil.copy2(f, dest_train_Image)\n",
        "\n",
        "# Lista de archivos restantes de etiquetas\n",
        "remaining_lbl_files = [f for f in lbl_list if f not in lbl_sample_30]\n",
        "\n",
        "# Mueve los archivos restantes de etiquetas al otro directorio\n",
        "for f in remaining_lbl_files:\n",
        "    shutil.copy2(f, dest_train_Label)"
      ],
      "metadata": {
        "id": "AXA5hqJmuz9D"
      },
      "execution_count": 6,
      "outputs": []
    }
  ]
}